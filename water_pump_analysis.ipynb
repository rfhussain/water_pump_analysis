{
 "cells": [
  {
   "cell_type": "markdown",
   "metadata": {},
   "source": [
    "# Important necessary libraries"
   ]
  },
  {
   "cell_type": "code",
   "execution_count": 1,
   "metadata": {},
   "outputs": [],
   "source": [
    "import pandas as pd\n",
    "import numpy as np\n",
    "import seaborn as sns\n",
    "import matplotlib.pyplot as plt\n",
    "from sklearn.preprocessing import LabelEncoder "
   ]
  },
  {
   "cell_type": "markdown",
   "metadata": {},
   "source": [
    "### reading files"
   ]
  },
  {
   "cell_type": "code",
   "execution_count": 2,
   "metadata": {},
   "outputs": [],
   "source": [
    "df_train_y = pd.read_csv('input/training_set_labels.csv')\n",
    "df_train_X = pd.read_csv('input/trainin_set_values.csv')\n",
    "df_sub_format = pd.read_csv('input/SubmissionFormat.csv')\n",
    "df_test_X = pd.read_csv('input/test_set_values.csv')"
   ]
  },
  {
   "cell_type": "code",
   "execution_count": 3,
   "metadata": {},
   "outputs": [
    {
     "data": {
      "text/html": [
       "<div>\n",
       "<style scoped>\n",
       "    .dataframe tbody tr th:only-of-type {\n",
       "        vertical-align: middle;\n",
       "    }\n",
       "\n",
       "    .dataframe tbody tr th {\n",
       "        vertical-align: top;\n",
       "    }\n",
       "\n",
       "    .dataframe thead th {\n",
       "        text-align: right;\n",
       "    }\n",
       "</style>\n",
       "<table border=\"1\" class=\"dataframe\">\n",
       "  <thead>\n",
       "    <tr style=\"text-align: right;\">\n",
       "      <th></th>\n",
       "      <th>id</th>\n",
       "      <th>amount_tsh</th>\n",
       "      <th>date_recorded</th>\n",
       "      <th>funder</th>\n",
       "      <th>gps_height</th>\n",
       "      <th>installer</th>\n",
       "      <th>longitude</th>\n",
       "      <th>latitude</th>\n",
       "      <th>wpt_name</th>\n",
       "      <th>num_private</th>\n",
       "      <th>...</th>\n",
       "      <th>payment_type</th>\n",
       "      <th>water_quality</th>\n",
       "      <th>quality_group</th>\n",
       "      <th>quantity</th>\n",
       "      <th>quantity_group</th>\n",
       "      <th>source</th>\n",
       "      <th>source_type</th>\n",
       "      <th>source_class</th>\n",
       "      <th>waterpoint_type</th>\n",
       "      <th>waterpoint_type_group</th>\n",
       "    </tr>\n",
       "  </thead>\n",
       "  <tbody>\n",
       "    <tr>\n",
       "      <th>0</th>\n",
       "      <td>69572</td>\n",
       "      <td>6000.0</td>\n",
       "      <td>2011-03-14</td>\n",
       "      <td>Roman</td>\n",
       "      <td>1390</td>\n",
       "      <td>Roman</td>\n",
       "      <td>34.938093</td>\n",
       "      <td>-9.856322</td>\n",
       "      <td>none</td>\n",
       "      <td>0</td>\n",
       "      <td>...</td>\n",
       "      <td>annually</td>\n",
       "      <td>soft</td>\n",
       "      <td>good</td>\n",
       "      <td>enough</td>\n",
       "      <td>enough</td>\n",
       "      <td>spring</td>\n",
       "      <td>spring</td>\n",
       "      <td>groundwater</td>\n",
       "      <td>communal standpipe</td>\n",
       "      <td>communal standpipe</td>\n",
       "    </tr>\n",
       "    <tr>\n",
       "      <th>1</th>\n",
       "      <td>8776</td>\n",
       "      <td>0.0</td>\n",
       "      <td>2013-03-06</td>\n",
       "      <td>Grumeti</td>\n",
       "      <td>1399</td>\n",
       "      <td>GRUMETI</td>\n",
       "      <td>34.698766</td>\n",
       "      <td>-2.147466</td>\n",
       "      <td>Zahanati</td>\n",
       "      <td>0</td>\n",
       "      <td>...</td>\n",
       "      <td>never pay</td>\n",
       "      <td>soft</td>\n",
       "      <td>good</td>\n",
       "      <td>insufficient</td>\n",
       "      <td>insufficient</td>\n",
       "      <td>rainwater harvesting</td>\n",
       "      <td>rainwater harvesting</td>\n",
       "      <td>surface</td>\n",
       "      <td>communal standpipe</td>\n",
       "      <td>communal standpipe</td>\n",
       "    </tr>\n",
       "    <tr>\n",
       "      <th>2</th>\n",
       "      <td>34310</td>\n",
       "      <td>25.0</td>\n",
       "      <td>2013-02-25</td>\n",
       "      <td>Lottery Club</td>\n",
       "      <td>686</td>\n",
       "      <td>World vision</td>\n",
       "      <td>37.460664</td>\n",
       "      <td>-3.821329</td>\n",
       "      <td>Kwa Mahundi</td>\n",
       "      <td>0</td>\n",
       "      <td>...</td>\n",
       "      <td>per bucket</td>\n",
       "      <td>soft</td>\n",
       "      <td>good</td>\n",
       "      <td>enough</td>\n",
       "      <td>enough</td>\n",
       "      <td>dam</td>\n",
       "      <td>dam</td>\n",
       "      <td>surface</td>\n",
       "      <td>communal standpipe multiple</td>\n",
       "      <td>communal standpipe</td>\n",
       "    </tr>\n",
       "    <tr>\n",
       "      <th>3</th>\n",
       "      <td>67743</td>\n",
       "      <td>0.0</td>\n",
       "      <td>2013-01-28</td>\n",
       "      <td>Unicef</td>\n",
       "      <td>263</td>\n",
       "      <td>UNICEF</td>\n",
       "      <td>38.486161</td>\n",
       "      <td>-11.155298</td>\n",
       "      <td>Zahanati Ya Nanyumbu</td>\n",
       "      <td>0</td>\n",
       "      <td>...</td>\n",
       "      <td>never pay</td>\n",
       "      <td>soft</td>\n",
       "      <td>good</td>\n",
       "      <td>dry</td>\n",
       "      <td>dry</td>\n",
       "      <td>machine dbh</td>\n",
       "      <td>borehole</td>\n",
       "      <td>groundwater</td>\n",
       "      <td>communal standpipe multiple</td>\n",
       "      <td>communal standpipe</td>\n",
       "    </tr>\n",
       "    <tr>\n",
       "      <th>4</th>\n",
       "      <td>19728</td>\n",
       "      <td>0.0</td>\n",
       "      <td>2011-07-13</td>\n",
       "      <td>Action In A</td>\n",
       "      <td>0</td>\n",
       "      <td>Artisan</td>\n",
       "      <td>31.130847</td>\n",
       "      <td>-1.825359</td>\n",
       "      <td>Shuleni</td>\n",
       "      <td>0</td>\n",
       "      <td>...</td>\n",
       "      <td>never pay</td>\n",
       "      <td>soft</td>\n",
       "      <td>good</td>\n",
       "      <td>seasonal</td>\n",
       "      <td>seasonal</td>\n",
       "      <td>rainwater harvesting</td>\n",
       "      <td>rainwater harvesting</td>\n",
       "      <td>surface</td>\n",
       "      <td>communal standpipe</td>\n",
       "      <td>communal standpipe</td>\n",
       "    </tr>\n",
       "  </tbody>\n",
       "</table>\n",
       "<p>5 rows × 40 columns</p>\n",
       "</div>"
      ],
      "text/plain": [
       "      id  amount_tsh date_recorded        funder  gps_height     installer  \\\n",
       "0  69572      6000.0    2011-03-14         Roman        1390         Roman   \n",
       "1   8776         0.0    2013-03-06       Grumeti        1399       GRUMETI   \n",
       "2  34310        25.0    2013-02-25  Lottery Club         686  World vision   \n",
       "3  67743         0.0    2013-01-28        Unicef         263        UNICEF   \n",
       "4  19728         0.0    2011-07-13   Action In A           0       Artisan   \n",
       "\n",
       "   longitude   latitude              wpt_name  num_private  ... payment_type  \\\n",
       "0  34.938093  -9.856322                  none            0  ...     annually   \n",
       "1  34.698766  -2.147466              Zahanati            0  ...    never pay   \n",
       "2  37.460664  -3.821329           Kwa Mahundi            0  ...   per bucket   \n",
       "3  38.486161 -11.155298  Zahanati Ya Nanyumbu            0  ...    never pay   \n",
       "4  31.130847  -1.825359               Shuleni            0  ...    never pay   \n",
       "\n",
       "  water_quality quality_group      quantity  quantity_group  \\\n",
       "0          soft          good        enough          enough   \n",
       "1          soft          good  insufficient    insufficient   \n",
       "2          soft          good        enough          enough   \n",
       "3          soft          good           dry             dry   \n",
       "4          soft          good      seasonal        seasonal   \n",
       "\n",
       "                 source           source_type  source_class  \\\n",
       "0                spring                spring   groundwater   \n",
       "1  rainwater harvesting  rainwater harvesting       surface   \n",
       "2                   dam                   dam       surface   \n",
       "3           machine dbh              borehole   groundwater   \n",
       "4  rainwater harvesting  rainwater harvesting       surface   \n",
       "\n",
       "               waterpoint_type waterpoint_type_group  \n",
       "0           communal standpipe    communal standpipe  \n",
       "1           communal standpipe    communal standpipe  \n",
       "2  communal standpipe multiple    communal standpipe  \n",
       "3  communal standpipe multiple    communal standpipe  \n",
       "4           communal standpipe    communal standpipe  \n",
       "\n",
       "[5 rows x 40 columns]"
      ]
     },
     "execution_count": 3,
     "metadata": {},
     "output_type": "execute_result"
    }
   ],
   "source": [
    "df_train_X.head()"
   ]
  },
  {
   "cell_type": "code",
   "execution_count": 4,
   "metadata": {},
   "outputs": [
    {
     "data": {
      "text/html": [
       "<div>\n",
       "<style scoped>\n",
       "    .dataframe tbody tr th:only-of-type {\n",
       "        vertical-align: middle;\n",
       "    }\n",
       "\n",
       "    .dataframe tbody tr th {\n",
       "        vertical-align: top;\n",
       "    }\n",
       "\n",
       "    .dataframe thead th {\n",
       "        text-align: right;\n",
       "    }\n",
       "</style>\n",
       "<table border=\"1\" class=\"dataframe\">\n",
       "  <thead>\n",
       "    <tr style=\"text-align: right;\">\n",
       "      <th></th>\n",
       "      <th>id</th>\n",
       "      <th>status_group</th>\n",
       "    </tr>\n",
       "  </thead>\n",
       "  <tbody>\n",
       "    <tr>\n",
       "      <th>0</th>\n",
       "      <td>69572</td>\n",
       "      <td>functional</td>\n",
       "    </tr>\n",
       "    <tr>\n",
       "      <th>1</th>\n",
       "      <td>8776</td>\n",
       "      <td>functional</td>\n",
       "    </tr>\n",
       "    <tr>\n",
       "      <th>2</th>\n",
       "      <td>34310</td>\n",
       "      <td>functional</td>\n",
       "    </tr>\n",
       "    <tr>\n",
       "      <th>3</th>\n",
       "      <td>67743</td>\n",
       "      <td>non functional</td>\n",
       "    </tr>\n",
       "    <tr>\n",
       "      <th>4</th>\n",
       "      <td>19728</td>\n",
       "      <td>functional</td>\n",
       "    </tr>\n",
       "  </tbody>\n",
       "</table>\n",
       "</div>"
      ],
      "text/plain": [
       "      id    status_group\n",
       "0  69572      functional\n",
       "1   8776      functional\n",
       "2  34310      functional\n",
       "3  67743  non functional\n",
       "4  19728      functional"
      ]
     },
     "execution_count": 4,
     "metadata": {},
     "output_type": "execute_result"
    }
   ],
   "source": [
    "df_train_y.head()"
   ]
  },
  {
   "cell_type": "markdown",
   "metadata": {},
   "source": [
    "**merging the both test and train**"
   ]
  },
  {
   "cell_type": "code",
   "execution_count": 5,
   "metadata": {},
   "outputs": [],
   "source": [
    "df_train = df_train_X.merge(df_train_y, on='id', how='inner')"
   ]
  },
  {
   "cell_type": "markdown",
   "metadata": {},
   "source": [
    "# EDA and Data Pre-Processing"
   ]
  },
  {
   "cell_type": "markdown",
   "metadata": {},
   "source": [
    "\n",
    "data pre-processing (identifying base features)\n",
    "------------\n",
    "below will be listed and organized after analysis\n",
    "\n",
    "- all numeric features \n",
    "- all text features \n",
    "- all date features \n",
    "- all geo features \n",
    "- all categorical features \n",
    "- all continuous features \n",
    "- all useless features\n"
   ]
  },
  {
   "cell_type": "code",
   "execution_count": 6,
   "metadata": {},
   "outputs": [
    {
     "name": "stdout",
     "output_type": "stream",
     "text": [
      "<class 'pandas.core.frame.DataFrame'>\n",
      "Int64Index: 59400 entries, 0 to 59399\n",
      "Data columns (total 41 columns):\n",
      " #   Column                 Non-Null Count  Dtype  \n",
      "---  ------                 --------------  -----  \n",
      " 0   id                     59400 non-null  int64  \n",
      " 1   amount_tsh             59400 non-null  float64\n",
      " 2   date_recorded          59400 non-null  object \n",
      " 3   funder                 55765 non-null  object \n",
      " 4   gps_height             59400 non-null  int64  \n",
      " 5   installer              55745 non-null  object \n",
      " 6   longitude              59400 non-null  float64\n",
      " 7   latitude               59400 non-null  float64\n",
      " 8   wpt_name               59400 non-null  object \n",
      " 9   num_private            59400 non-null  int64  \n",
      " 10  basin                  59400 non-null  object \n",
      " 11  subvillage             59029 non-null  object \n",
      " 12  region                 59400 non-null  object \n",
      " 13  region_code            59400 non-null  int64  \n",
      " 14  district_code          59400 non-null  int64  \n",
      " 15  lga                    59400 non-null  object \n",
      " 16  ward                   59400 non-null  object \n",
      " 17  population             59400 non-null  int64  \n",
      " 18  public_meeting         56066 non-null  object \n",
      " 19  recorded_by            59400 non-null  object \n",
      " 20  scheme_management      55523 non-null  object \n",
      " 21  scheme_name            31234 non-null  object \n",
      " 22  permit                 56344 non-null  object \n",
      " 23  construction_year      59400 non-null  int64  \n",
      " 24  extraction_type        59400 non-null  object \n",
      " 25  extraction_type_group  59400 non-null  object \n",
      " 26  extraction_type_class  59400 non-null  object \n",
      " 27  management             59400 non-null  object \n",
      " 28  management_group       59400 non-null  object \n",
      " 29  payment                59400 non-null  object \n",
      " 30  payment_type           59400 non-null  object \n",
      " 31  water_quality          59400 non-null  object \n",
      " 32  quality_group          59400 non-null  object \n",
      " 33  quantity               59400 non-null  object \n",
      " 34  quantity_group         59400 non-null  object \n",
      " 35  source                 59400 non-null  object \n",
      " 36  source_type            59400 non-null  object \n",
      " 37  source_class           59400 non-null  object \n",
      " 38  waterpoint_type        59400 non-null  object \n",
      " 39  waterpoint_type_group  59400 non-null  object \n",
      " 40  status_group           59400 non-null  object \n",
      "dtypes: float64(3), int64(7), object(31)\n",
      "memory usage: 19.0+ MB\n"
     ]
    }
   ],
   "source": [
    "# created two lists which we will be populating alongside our analysis \n",
    "\n",
    "global_cols_to_del = [] # for columns to be deleted\n",
    "global_new_feat = [] # for new features\n",
    "global_base_features = [] # for base feature set\n",
    "global_mean_feat = [] # for mean encoded feature set\n",
    "le = LabelEncoder()\n",
    "\n",
    "df_train.info()"
   ]
  },
  {
   "cell_type": "code",
   "execution_count": 7,
   "metadata": {},
   "outputs": [
    {
     "data": {
      "text/plain": [
       "id                       59400\n",
       "amount_tsh                  98\n",
       "date_recorded              356\n",
       "funder                    1897\n",
       "gps_height                2428\n",
       "installer                 2145\n",
       "longitude                57516\n",
       "latitude                 57517\n",
       "wpt_name                 37400\n",
       "num_private                 65\n",
       "basin                        9\n",
       "subvillage               19287\n",
       "region                      21\n",
       "region_code                 27\n",
       "district_code               20\n",
       "lga                        125\n",
       "ward                      2092\n",
       "population                1049\n",
       "public_meeting               2\n",
       "recorded_by                  1\n",
       "scheme_management           12\n",
       "scheme_name               2696\n",
       "permit                       2\n",
       "construction_year           55\n",
       "extraction_type             18\n",
       "extraction_type_group       13\n",
       "extraction_type_class        7\n",
       "management                  12\n",
       "management_group             5\n",
       "payment                      7\n",
       "payment_type                 7\n",
       "water_quality                8\n",
       "quality_group                6\n",
       "quantity                     5\n",
       "quantity_group               5\n",
       "source                      10\n",
       "source_type                  7\n",
       "source_class                 3\n",
       "waterpoint_type              7\n",
       "waterpoint_type_group        6\n",
       "status_group                 3\n",
       "dtype: int64"
      ]
     },
     "execution_count": 7,
     "metadata": {},
     "output_type": "execute_result"
    }
   ],
   "source": [
    "df_train.nunique()"
   ]
  },
  {
   "cell_type": "markdown",
   "metadata": {},
   "source": [
    "seems like there can be lots of categorical featues...\n",
    "\n",
    "**listing down the features that might be categorical but display as object**"
   ]
  },
  {
   "cell_type": "code",
   "execution_count": 8,
   "metadata": {},
   "outputs": [
    {
     "data": {
      "text/plain": [
       "basin                     9\n",
       "region                   21\n",
       "region_code              27\n",
       "district_code            20\n",
       "public_meeting            2\n",
       "recorded_by               1\n",
       "scheme_management        12\n",
       "permit                    2\n",
       "extraction_type          18\n",
       "extraction_type_group    13\n",
       "extraction_type_class     7\n",
       "management               12\n",
       "management_group          5\n",
       "payment                   7\n",
       "payment_type              7\n",
       "water_quality             8\n",
       "quality_group             6\n",
       "quantity                  5\n",
       "quantity_group            5\n",
       "source                   10\n",
       "source_type               7\n",
       "source_class              3\n",
       "waterpoint_type           7\n",
       "waterpoint_type_group     6\n",
       "status_group              3\n",
       "dtype: int64"
      ]
     },
     "execution_count": 8,
     "metadata": {},
     "output_type": "execute_result"
    }
   ],
   "source": [
    "# listing down categorical features which may have at max 27 categories\n",
    "counter = 0 \n",
    "categorical_var = []\n",
    "for i,j in enumerate(df_train.columns):\n",
    "    nunui = df_train[j].nunique()\n",
    "    if (nunui <= 27): \n",
    "        counter+=1\n",
    "        categorical_var.append(j)\n",
    "        \n",
    "df_train[categorical_var].nunique()        "
   ]
  },
  {
   "cell_type": "code",
   "execution_count": 9,
   "metadata": {},
   "outputs": [
    {
     "name": "stdout",
     "output_type": "stream",
     "text": [
      "<class 'pandas.core.frame.DataFrame'>\n",
      "Int64Index: 59400 entries, 0 to 59399\n",
      "Data columns (total 25 columns):\n",
      " #   Column                 Non-Null Count  Dtype \n",
      "---  ------                 --------------  ----- \n",
      " 0   basin                  59400 non-null  object\n",
      " 1   region                 59400 non-null  object\n",
      " 2   region_code            59400 non-null  int64 \n",
      " 3   district_code          59400 non-null  int64 \n",
      " 4   public_meeting         56066 non-null  object\n",
      " 5   recorded_by            59400 non-null  object\n",
      " 6   scheme_management      55523 non-null  object\n",
      " 7   permit                 56344 non-null  object\n",
      " 8   extraction_type        59400 non-null  object\n",
      " 9   extraction_type_group  59400 non-null  object\n",
      " 10  extraction_type_class  59400 non-null  object\n",
      " 11  management             59400 non-null  object\n",
      " 12  management_group       59400 non-null  object\n",
      " 13  payment                59400 non-null  object\n",
      " 14  payment_type           59400 non-null  object\n",
      " 15  water_quality          59400 non-null  object\n",
      " 16  quality_group          59400 non-null  object\n",
      " 17  quantity               59400 non-null  object\n",
      " 18  quantity_group         59400 non-null  object\n",
      " 19  source                 59400 non-null  object\n",
      " 20  source_type            59400 non-null  object\n",
      " 21  source_class           59400 non-null  object\n",
      " 22  waterpoint_type        59400 non-null  object\n",
      " 23  waterpoint_type_group  59400 non-null  object\n",
      " 24  status_group           59400 non-null  object\n",
      "dtypes: int64(2), object(23)\n",
      "memory usage: 11.8+ MB\n"
     ]
    }
   ],
   "source": [
    "df_train[categorical_var].info()"
   ]
  },
  {
   "cell_type": "markdown",
   "metadata": {},
   "source": [
    "# analyzing categorical features\n",
    "\n",
    "\n",
    "so we've got some individual features, and some set of features. \n",
    "\n",
    "- basin, region, public_meeting, recorded_by, scheme_management, permit\n",
    "- extraction_type, extraction_type_group, extract_type_class\n",
    "- management, management_group\n",
    "- payment, payment_type\n",
    "- water_quality, quality_group\n",
    "- quantity, quantity_group\n",
    "- source, source_type, source_class\n",
    "- waterpoint_type, waterpoint_type_group\n"
   ]
  },
  {
   "cell_type": "markdown",
   "metadata": {},
   "source": [
    "region, region_code\n",
    "--"
   ]
  },
  {
   "cell_type": "code",
   "execution_count": 10,
   "metadata": {},
   "outputs": [
    {
     "data": {
      "text/html": [
       "<div>\n",
       "<style scoped>\n",
       "    .dataframe tbody tr th:only-of-type {\n",
       "        vertical-align: middle;\n",
       "    }\n",
       "\n",
       "    .dataframe tbody tr th {\n",
       "        vertical-align: top;\n",
       "    }\n",
       "\n",
       "    .dataframe thead th {\n",
       "        text-align: right;\n",
       "    }\n",
       "</style>\n",
       "<table border=\"1\" class=\"dataframe\">\n",
       "  <thead>\n",
       "    <tr style=\"text-align: right;\">\n",
       "      <th></th>\n",
       "      <th>region</th>\n",
       "      <th>region_code</th>\n",
       "    </tr>\n",
       "  </thead>\n",
       "  <tbody>\n",
       "    <tr>\n",
       "      <th>0</th>\n",
       "      <td>Arusha</td>\n",
       "      <td>24</td>\n",
       "    </tr>\n",
       "    <tr>\n",
       "      <th>1</th>\n",
       "      <td>Arusha</td>\n",
       "      <td>2</td>\n",
       "    </tr>\n",
       "    <tr>\n",
       "      <th>2</th>\n",
       "      <td>Dar es Salaam</td>\n",
       "      <td>7</td>\n",
       "    </tr>\n",
       "    <tr>\n",
       "      <th>3</th>\n",
       "      <td>Dodoma</td>\n",
       "      <td>1</td>\n",
       "    </tr>\n",
       "    <tr>\n",
       "      <th>4</th>\n",
       "      <td>Iringa</td>\n",
       "      <td>11</td>\n",
       "    </tr>\n",
       "    <tr>\n",
       "      <th>5</th>\n",
       "      <td>Kagera</td>\n",
       "      <td>18</td>\n",
       "    </tr>\n",
       "    <tr>\n",
       "      <th>6</th>\n",
       "      <td>Kigoma</td>\n",
       "      <td>16</td>\n",
       "    </tr>\n",
       "    <tr>\n",
       "      <th>7</th>\n",
       "      <td>Kilimanjaro</td>\n",
       "      <td>3</td>\n",
       "    </tr>\n",
       "    <tr>\n",
       "      <th>8</th>\n",
       "      <td>Lindi</td>\n",
       "      <td>8</td>\n",
       "    </tr>\n",
       "    <tr>\n",
       "      <th>9</th>\n",
       "      <td>Lindi</td>\n",
       "      <td>80</td>\n",
       "    </tr>\n",
       "    <tr>\n",
       "      <th>10</th>\n",
       "      <td>Lindi</td>\n",
       "      <td>18</td>\n",
       "    </tr>\n",
       "    <tr>\n",
       "      <th>11</th>\n",
       "      <td>Manyara</td>\n",
       "      <td>21</td>\n",
       "    </tr>\n",
       "    <tr>\n",
       "      <th>12</th>\n",
       "      <td>Mara</td>\n",
       "      <td>20</td>\n",
       "    </tr>\n",
       "    <tr>\n",
       "      <th>13</th>\n",
       "      <td>Mbeya</td>\n",
       "      <td>12</td>\n",
       "    </tr>\n",
       "    <tr>\n",
       "      <th>14</th>\n",
       "      <td>Morogoro</td>\n",
       "      <td>5</td>\n",
       "    </tr>\n",
       "    <tr>\n",
       "      <th>15</th>\n",
       "      <td>Mtwara</td>\n",
       "      <td>9</td>\n",
       "    </tr>\n",
       "    <tr>\n",
       "      <th>16</th>\n",
       "      <td>Mtwara</td>\n",
       "      <td>99</td>\n",
       "    </tr>\n",
       "    <tr>\n",
       "      <th>17</th>\n",
       "      <td>Mtwara</td>\n",
       "      <td>90</td>\n",
       "    </tr>\n",
       "    <tr>\n",
       "      <th>18</th>\n",
       "      <td>Mwanza</td>\n",
       "      <td>17</td>\n",
       "    </tr>\n",
       "    <tr>\n",
       "      <th>19</th>\n",
       "      <td>Mwanza</td>\n",
       "      <td>19</td>\n",
       "    </tr>\n",
       "    <tr>\n",
       "      <th>20</th>\n",
       "      <td>Pwani</td>\n",
       "      <td>40</td>\n",
       "    </tr>\n",
       "    <tr>\n",
       "      <th>21</th>\n",
       "      <td>Pwani</td>\n",
       "      <td>6</td>\n",
       "    </tr>\n",
       "    <tr>\n",
       "      <th>22</th>\n",
       "      <td>Pwani</td>\n",
       "      <td>60</td>\n",
       "    </tr>\n",
       "    <tr>\n",
       "      <th>23</th>\n",
       "      <td>Rukwa</td>\n",
       "      <td>15</td>\n",
       "    </tr>\n",
       "    <tr>\n",
       "      <th>24</th>\n",
       "      <td>Ruvuma</td>\n",
       "      <td>10</td>\n",
       "    </tr>\n",
       "    <tr>\n",
       "      <th>25</th>\n",
       "      <td>Shinyanga</td>\n",
       "      <td>11</td>\n",
       "    </tr>\n",
       "    <tr>\n",
       "      <th>26</th>\n",
       "      <td>Shinyanga</td>\n",
       "      <td>17</td>\n",
       "    </tr>\n",
       "    <tr>\n",
       "      <th>27</th>\n",
       "      <td>Shinyanga</td>\n",
       "      <td>14</td>\n",
       "    </tr>\n",
       "    <tr>\n",
       "      <th>28</th>\n",
       "      <td>Singida</td>\n",
       "      <td>13</td>\n",
       "    </tr>\n",
       "    <tr>\n",
       "      <th>29</th>\n",
       "      <td>Tabora</td>\n",
       "      <td>14</td>\n",
       "    </tr>\n",
       "    <tr>\n",
       "      <th>30</th>\n",
       "      <td>Tanga</td>\n",
       "      <td>5</td>\n",
       "    </tr>\n",
       "    <tr>\n",
       "      <th>31</th>\n",
       "      <td>Tanga</td>\n",
       "      <td>4</td>\n",
       "    </tr>\n",
       "  </tbody>\n",
       "</table>\n",
       "</div>"
      ],
      "text/plain": [
       "           region  region_code\n",
       "0          Arusha           24\n",
       "1          Arusha            2\n",
       "2   Dar es Salaam            7\n",
       "3          Dodoma            1\n",
       "4          Iringa           11\n",
       "5          Kagera           18\n",
       "6          Kigoma           16\n",
       "7     Kilimanjaro            3\n",
       "8           Lindi            8\n",
       "9           Lindi           80\n",
       "10          Lindi           18\n",
       "11        Manyara           21\n",
       "12           Mara           20\n",
       "13          Mbeya           12\n",
       "14       Morogoro            5\n",
       "15         Mtwara            9\n",
       "16         Mtwara           99\n",
       "17         Mtwara           90\n",
       "18         Mwanza           17\n",
       "19         Mwanza           19\n",
       "20          Pwani           40\n",
       "21          Pwani            6\n",
       "22          Pwani           60\n",
       "23          Rukwa           15\n",
       "24         Ruvuma           10\n",
       "25      Shinyanga           11\n",
       "26      Shinyanga           17\n",
       "27      Shinyanga           14\n",
       "28        Singida           13\n",
       "29         Tabora           14\n",
       "30          Tanga            5\n",
       "31          Tanga            4"
      ]
     },
     "execution_count": 10,
     "metadata": {},
     "output_type": "execute_result"
    }
   ],
   "source": [
    "df_train[['region','region_code']].drop_duplicates().sort_values(by='region').reset_index(drop=True)"
   ]
  },
  {
   "cell_type": "markdown",
   "metadata": {},
   "source": [
    "seems like \n",
    "- region_code isn't basically region code or \n",
    "- region has multiple region_codes (thats more like it.)"
   ]
  },
  {
   "cell_type": "markdown",
   "metadata": {},
   "source": [
    "the region, region_code & district code are the values we will have to keenly look at.\n",
    "we can't just call them categorical, because they aren't fixed, and unseen data may have some values that aren't available for the model\n",
    "such as some new region_code.\n",
    "we can see that region **Tanga** has two region code, as well as **Mtwara**, and **Mwanza** etc. "
   ]
  },
  {
   "cell_type": "markdown",
   "metadata": {},
   "source": [
    "in order to cross verify, and to decide on our strategy, let's cross check between test and train data for these features"
   ]
  },
  {
   "cell_type": "code",
   "execution_count": 11,
   "metadata": {},
   "outputs": [
    {
     "name": "stdout",
     "output_type": "stream",
     "text": [
      "region_code .. train  27  test 26\n",
      "region .. train  21  test 21\n",
      "district_code .. train  20  test 20\n"
     ]
    }
   ],
   "source": [
    "print('region_code .. train ',df_train.region_code.nunique(), ' test',df_test_X.region_code.nunique())\n",
    "print('region .. train ',df_train.region.nunique(), ' test',df_test_X.region.nunique())\n",
    "print('district_code .. train ',df_train.district_code.nunique(), ' test',df_test_X.district_code.nunique())"
   ]
  },
  {
   "cell_type": "code",
   "execution_count": 12,
   "metadata": {},
   "outputs": [
    {
     "data": {
      "text/plain": [
       "31798    40\n",
       "Name: region_code, dtype: int64"
      ]
     },
     "execution_count": 12,
     "metadata": {},
     "output_type": "execute_result"
    }
   ],
   "source": [
    "df_train[df_train.region_code.isin(df_test_X.region_code)==False].region_code"
   ]
  },
  {
   "cell_type": "markdown",
   "metadata": {},
   "source": [
    "the region code 40 isn't available in test set.\n",
    "\n",
    "we will keep the region_code, and district_code, and region as categorical variable\n",
    "\n",
    "region will be converted through label encoding at a later stage. \n",
    "\n",
    "also, we may also try some advanced features like target based mean encoding "
   ]
  },
  {
   "cell_type": "markdown",
   "metadata": {},
   "source": [
    "on the other hand, **recorded_by** is a useless features as it contains only one value"
   ]
  },
  {
   "cell_type": "code",
   "execution_count": 13,
   "metadata": {},
   "outputs": [],
   "source": [
    "global_cols_to_del.append('recorded_by')\n",
    "global_base_features.append('district_code')"
   ]
  },
  {
   "cell_type": "code",
   "execution_count": 14,
   "metadata": {},
   "outputs": [],
   "source": [
    "categorical_var.remove('status_group')"
   ]
  },
  {
   "cell_type": "code",
   "execution_count": 15,
   "metadata": {},
   "outputs": [
    {
     "name": "stdout",
     "output_type": "stream",
     "text": [
      "<class 'pandas.core.frame.DataFrame'>\n",
      "Int64Index: 59400 entries, 0 to 59399\n",
      "Data columns (total 24 columns):\n",
      " #   Column                 Non-Null Count  Dtype \n",
      "---  ------                 --------------  ----- \n",
      " 0   basin                  59400 non-null  object\n",
      " 1   region                 59400 non-null  object\n",
      " 2   region_code            59400 non-null  int64 \n",
      " 3   district_code          59400 non-null  int64 \n",
      " 4   public_meeting         56066 non-null  object\n",
      " 5   recorded_by            59400 non-null  object\n",
      " 6   scheme_management      55523 non-null  object\n",
      " 7   permit                 56344 non-null  object\n",
      " 8   extraction_type        59400 non-null  object\n",
      " 9   extraction_type_group  59400 non-null  object\n",
      " 10  extraction_type_class  59400 non-null  object\n",
      " 11  management             59400 non-null  object\n",
      " 12  management_group       59400 non-null  object\n",
      " 13  payment                59400 non-null  object\n",
      " 14  payment_type           59400 non-null  object\n",
      " 15  water_quality          59400 non-null  object\n",
      " 16  quality_group          59400 non-null  object\n",
      " 17  quantity               59400 non-null  object\n",
      " 18  quantity_group         59400 non-null  object\n",
      " 19  source                 59400 non-null  object\n",
      " 20  source_type            59400 non-null  object\n",
      " 21  source_class           59400 non-null  object\n",
      " 22  waterpoint_type        59400 non-null  object\n",
      " 23  waterpoint_type_group  59400 non-null  object\n",
      "dtypes: int64(2), object(22)\n",
      "memory usage: 11.3+ MB\n"
     ]
    }
   ],
   "source": [
    "df_train[categorical_var].info()"
   ]
  },
  {
   "cell_type": "markdown",
   "metadata": {},
   "source": [
    "**converting them to categorical**"
   ]
  },
  {
   "cell_type": "code",
   "execution_count": 16,
   "metadata": {},
   "outputs": [
    {
     "name": "stdout",
     "output_type": "stream",
     "text": [
      "<class 'pandas.core.frame.DataFrame'>\n",
      "Int64Index: 59400 entries, 0 to 59399\n",
      "Data columns (total 24 columns):\n",
      " #   Column                 Non-Null Count  Dtype   \n",
      "---  ------                 --------------  -----   \n",
      " 0   basin                  59400 non-null  category\n",
      " 1   region                 59400 non-null  category\n",
      " 2   region_code            59400 non-null  category\n",
      " 3   district_code          59400 non-null  category\n",
      " 4   public_meeting         56066 non-null  category\n",
      " 5   recorded_by            59400 non-null  category\n",
      " 6   scheme_management      55523 non-null  category\n",
      " 7   permit                 56344 non-null  category\n",
      " 8   extraction_type        59400 non-null  category\n",
      " 9   extraction_type_group  59400 non-null  category\n",
      " 10  extraction_type_class  59400 non-null  category\n",
      " 11  management             59400 non-null  category\n",
      " 12  management_group       59400 non-null  category\n",
      " 13  payment                59400 non-null  category\n",
      " 14  payment_type           59400 non-null  category\n",
      " 15  water_quality          59400 non-null  category\n",
      " 16  quality_group          59400 non-null  category\n",
      " 17  quantity               59400 non-null  category\n",
      " 18  quantity_group         59400 non-null  category\n",
      " 19  source                 59400 non-null  category\n",
      " 20  source_type            59400 non-null  category\n",
      " 21  source_class           59400 non-null  category\n",
      " 22  waterpoint_type        59400 non-null  category\n",
      " 23  waterpoint_type_group  59400 non-null  category\n",
      "dtypes: category(24)\n",
      "memory usage: 1.8 MB\n"
     ]
    }
   ],
   "source": [
    "for feat in categorical_var:\n",
    "    df_train[feat] = df_train[feat].astype('category')\n",
    "    \n",
    "df_train[categorical_var].info()    "
   ]
  },
  {
   "cell_type": "markdown",
   "metadata": {},
   "source": [
    "basin \n",
    "---"
   ]
  },
  {
   "cell_type": "code",
   "execution_count": 17,
   "metadata": {},
   "outputs": [
    {
     "data": {
      "text/plain": [
       "<matplotlib.axes._subplots.AxesSubplot at 0x25f225d5508>"
      ]
     },
     "execution_count": 17,
     "metadata": {},
     "output_type": "execute_result"
    },
    {
     "data": {
      "image/png": "[encoded data removed]",
      "text/plain": [
       "<Figure size 1512x648 with 1 Axes>"
      ]
     },
     "metadata": {
      "needs_background": "light"
     },
     "output_type": "display_data"
    }
   ],
   "source": [
    "fig, ax = plt.subplots(figsize=(21,9))\n",
    "sns.countplot(x='basin', hue='status_group', data=df_train, ax=ax,palette=['#59cf98','#ed3821','#FAAE7B'])"
   ]
  },
  {
   "cell_type": "markdown",
   "metadata": {},
   "source": [
    "basin shows the statistics about how many status_group each one has. it is an important feature to be kept.  "
   ]
  },
  {
   "cell_type": "code",
   "execution_count": 18,
   "metadata": {},
   "outputs": [],
   "source": [
    "global_base_features.append('basin')"
   ]
  },
  {
   "cell_type": "code",
   "execution_count": 19,
   "metadata": {},
   "outputs": [
    {
     "data": {
      "text/plain": [
       "(27, 21)"
      ]
     },
     "execution_count": 19,
     "metadata": {},
     "output_type": "execute_result"
    }
   ],
   "source": [
    "df_train.region_code.nunique(), df_train.region.nunique()"
   ]
  },
  {
   "cell_type": "code",
   "execution_count": 20,
   "metadata": {},
   "outputs": [
    {
     "data": {
      "text/plain": [
       "<matplotlib.axes._subplots.AxesSubplot at 0x25f23dddc88>"
      ]
     },
     "execution_count": 20,
     "metadata": {},
     "output_type": "execute_result"
    },
    {
     "data": {
      "image/png": "[encoded data removed]",
      "text/plain": [
       "<Figure size 1512x648 with 1 Axes>"
      ]
     },
     "metadata": {
      "needs_background": "light"
     },
     "output_type": "display_data"
    }
   ],
   "source": [
    "fig, ax = plt.subplots(figsize=(21,9))\n",
    "sns.countplot(x='region', hue='status_group', data=df_train, ax=ax,palette=['#59cf98','#ed3821','#FAAE7B'])"
   ]
  },
  {
   "cell_type": "code",
   "execution_count": 21,
   "metadata": {},
   "outputs": [
    {
     "data": {
      "text/plain": [
       "<matplotlib.axes._subplots.AxesSubplot at 0x25f23d8df08>"
      ]
     },
     "execution_count": 21,
     "metadata": {},
     "output_type": "execute_result"
    },
    {
     "data": {
      "image/png": "[encoded data removed]",
      "text/plain": [
       "<Figure size 1512x648 with 1 Axes>"
      ]
     },
     "metadata": {
      "needs_background": "light"
     },
     "output_type": "display_data"
    }
   ],
   "source": [
    "fig, ax = plt.subplots(figsize=(21,9))\n",
    "sns.countplot(x='region_code', hue='status_group', data=df_train, ax=ax,palette=['#59cf98','#ed3821','#FAAE7B'])"
   ]
  },
  {
   "cell_type": "markdown",
   "metadata": {},
   "source": [
    "my analysis is that if region_code is capturing more information at a lower level, we should keep the region_code, rather than the region. \n",
    "we will keep both of them in the base feature set, and keep the region to be deleted for later"
   ]
  },
  {
   "cell_type": "code",
   "execution_count": 22,
   "metadata": {},
   "outputs": [
    {
     "data": {
      "text/html": [
       "<div>\n",
       "<style scoped>\n",
       "    .dataframe tbody tr th:only-of-type {\n",
       "        vertical-align: middle;\n",
       "    }\n",
       "\n",
       "    .dataframe tbody tr th {\n",
       "        vertical-align: top;\n",
       "    }\n",
       "\n",
       "    .dataframe thead th {\n",
       "        text-align: right;\n",
       "    }\n",
       "</style>\n",
       "<table border=\"1\" class=\"dataframe\">\n",
       "  <thead>\n",
       "    <tr style=\"text-align: right;\">\n",
       "      <th></th>\n",
       "      <th>region</th>\n",
       "      <th>region_code</th>\n",
       "    </tr>\n",
       "  </thead>\n",
       "  <tbody>\n",
       "    <tr>\n",
       "      <th>209</th>\n",
       "      <td>Arusha</td>\n",
       "      <td>24</td>\n",
       "    </tr>\n",
       "    <tr>\n",
       "      <th>35</th>\n",
       "      <td>Arusha</td>\n",
       "      <td>2</td>\n",
       "    </tr>\n",
       "    <tr>\n",
       "      <th>145</th>\n",
       "      <td>Dar es Salaam</td>\n",
       "      <td>7</td>\n",
       "    </tr>\n",
       "    <tr>\n",
       "      <th>30</th>\n",
       "      <td>Dodoma</td>\n",
       "      <td>1</td>\n",
       "    </tr>\n",
       "    <tr>\n",
       "      <th>0</th>\n",
       "      <td>Iringa</td>\n",
       "      <td>11</td>\n",
       "    </tr>\n",
       "    <tr>\n",
       "      <th>4</th>\n",
       "      <td>Kagera</td>\n",
       "      <td>18</td>\n",
       "    </tr>\n",
       "    <tr>\n",
       "      <th>24</th>\n",
       "      <td>Kigoma</td>\n",
       "      <td>16</td>\n",
       "    </tr>\n",
       "    <tr>\n",
       "      <th>13</th>\n",
       "      <td>Kilimanjaro</td>\n",
       "      <td>3</td>\n",
       "    </tr>\n",
       "    <tr>\n",
       "      <th>626</th>\n",
       "      <td>Lindi</td>\n",
       "      <td>8</td>\n",
       "    </tr>\n",
       "    <tr>\n",
       "      <th>26</th>\n",
       "      <td>Lindi</td>\n",
       "      <td>80</td>\n",
       "    </tr>\n",
       "    <tr>\n",
       "      <th>137</th>\n",
       "      <td>Lindi</td>\n",
       "      <td>18</td>\n",
       "    </tr>\n",
       "    <tr>\n",
       "      <th>2</th>\n",
       "      <td>Manyara</td>\n",
       "      <td>21</td>\n",
       "    </tr>\n",
       "    <tr>\n",
       "      <th>1</th>\n",
       "      <td>Mara</td>\n",
       "      <td>20</td>\n",
       "    </tr>\n",
       "    <tr>\n",
       "      <th>36</th>\n",
       "      <td>Mbeya</td>\n",
       "      <td>12</td>\n",
       "    </tr>\n",
       "    <tr>\n",
       "      <th>70</th>\n",
       "      <td>Morogoro</td>\n",
       "      <td>5</td>\n",
       "    </tr>\n",
       "    <tr>\n",
       "      <th>296</th>\n",
       "      <td>Mtwara</td>\n",
       "      <td>9</td>\n",
       "    </tr>\n",
       "    <tr>\n",
       "      <th>195</th>\n",
       "      <td>Mtwara</td>\n",
       "      <td>99</td>\n",
       "    </tr>\n",
       "    <tr>\n",
       "      <th>3</th>\n",
       "      <td>Mtwara</td>\n",
       "      <td>90</td>\n",
       "    </tr>\n",
       "    <tr>\n",
       "      <th>323</th>\n",
       "      <td>Mwanza</td>\n",
       "      <td>17</td>\n",
       "    </tr>\n",
       "    <tr>\n",
       "      <th>18</th>\n",
       "      <td>Mwanza</td>\n",
       "      <td>19</td>\n",
       "    </tr>\n",
       "    <tr>\n",
       "      <th>31798</th>\n",
       "      <td>Pwani</td>\n",
       "      <td>40</td>\n",
       "    </tr>\n",
       "    <tr>\n",
       "      <th>31</th>\n",
       "      <td>Pwani</td>\n",
       "      <td>6</td>\n",
       "    </tr>\n",
       "    <tr>\n",
       "      <th>10</th>\n",
       "      <td>Pwani</td>\n",
       "      <td>60</td>\n",
       "    </tr>\n",
       "    <tr>\n",
       "      <th>15</th>\n",
       "      <td>Rukwa</td>\n",
       "      <td>15</td>\n",
       "    </tr>\n",
       "    <tr>\n",
       "      <th>11</th>\n",
       "      <td>Ruvuma</td>\n",
       "      <td>10</td>\n",
       "    </tr>\n",
       "    <tr>\n",
       "      <th>15908</th>\n",
       "      <td>Shinyanga</td>\n",
       "      <td>11</td>\n",
       "    </tr>\n",
       "    <tr>\n",
       "      <th>6</th>\n",
       "      <td>Shinyanga</td>\n",
       "      <td>17</td>\n",
       "    </tr>\n",
       "    <tr>\n",
       "      <th>7990</th>\n",
       "      <td>Shinyanga</td>\n",
       "      <td>14</td>\n",
       "    </tr>\n",
       "    <tr>\n",
       "      <th>43</th>\n",
       "      <td>Singida</td>\n",
       "      <td>13</td>\n",
       "    </tr>\n",
       "    <tr>\n",
       "      <th>8</th>\n",
       "      <td>Tabora</td>\n",
       "      <td>14</td>\n",
       "    </tr>\n",
       "    <tr>\n",
       "      <th>4281</th>\n",
       "      <td>Tanga</td>\n",
       "      <td>5</td>\n",
       "    </tr>\n",
       "    <tr>\n",
       "      <th>5</th>\n",
       "      <td>Tanga</td>\n",
       "      <td>4</td>\n",
       "    </tr>\n",
       "  </tbody>\n",
       "</table>\n",
       "</div>"
      ],
      "text/plain": [
       "              region region_code\n",
       "209           Arusha          24\n",
       "35            Arusha           2\n",
       "145    Dar es Salaam           7\n",
       "30            Dodoma           1\n",
       "0             Iringa          11\n",
       "4             Kagera          18\n",
       "24            Kigoma          16\n",
       "13       Kilimanjaro           3\n",
       "626            Lindi           8\n",
       "26             Lindi          80\n",
       "137            Lindi          18\n",
       "2            Manyara          21\n",
       "1               Mara          20\n",
       "36             Mbeya          12\n",
       "70          Morogoro           5\n",
       "296           Mtwara           9\n",
       "195           Mtwara          99\n",
       "3             Mtwara          90\n",
       "323           Mwanza          17\n",
       "18            Mwanza          19\n",
       "31798          Pwani          40\n",
       "31             Pwani           6\n",
       "10             Pwani          60\n",
       "15             Rukwa          15\n",
       "11            Ruvuma          10\n",
       "15908      Shinyanga          11\n",
       "6          Shinyanga          17\n",
       "7990       Shinyanga          14\n",
       "43           Singida          13\n",
       "8             Tabora          14\n",
       "4281           Tanga           5\n",
       "5              Tanga           4"
      ]
     },
     "execution_count": 22,
     "metadata": {},
     "output_type": "execute_result"
    }
   ],
   "source": [
    "df_train[['region','region_code']].drop_duplicates().sort_values(by='region')"
   ]
  },
  {
   "cell_type": "code",
   "execution_count": 23,
   "metadata": {},
   "outputs": [],
   "source": [
    "global_cols_to_del.append('region')\n",
    "global_base_features.append('region')\n",
    "global_base_features.append('region_code')"
   ]
  },
  {
   "cell_type": "code",
   "execution_count": 215,
   "metadata": {},
   "outputs": [],
   "source": [
    "global_mean_feat.append('region')"
   ]
  },
  {
   "cell_type": "code",
   "execution_count": 24,
   "metadata": {},
   "outputs": [
    {
     "data": {
      "text/plain": [
       "(2,\n",
       " [True, NaN, False]\n",
       " Categories (2, object): [True, False])"
      ]
     },
     "execution_count": 24,
     "metadata": {},
     "output_type": "execute_result"
    }
   ],
   "source": [
    "df_train['public_meeting'].nunique(),df_train['public_meeting'].unique()"
   ]
  },
  {
   "cell_type": "code",
   "execution_count": 25,
   "metadata": {},
   "outputs": [
    {
     "data": {
      "text/plain": [
       "functional                 28408\n",
       "non functional             18884\n",
       "functional needs repair     3719\n",
       "Name: status_group, dtype: int64"
      ]
     },
     "execution_count": 25,
     "metadata": {},
     "output_type": "execute_result"
    }
   ],
   "source": [
    "df_train[df_train['public_meeting']==True]['status_group'].value_counts()"
   ]
  },
  {
   "cell_type": "code",
   "execution_count": 26,
   "metadata": {},
   "outputs": [
    {
     "data": {
      "text/plain": [
       "non functional             2440\n",
       "functional                 2173\n",
       "functional needs repair     442\n",
       "Name: status_group, dtype: int64"
      ]
     },
     "execution_count": 26,
     "metadata": {},
     "output_type": "execute_result"
    }
   ],
   "source": [
    "df_train[df_train['public_meeting']==False]['status_group'].value_counts()"
   ]
  },
  {
   "cell_type": "code",
   "execution_count": 27,
   "metadata": {},
   "outputs": [
    {
     "data": {
      "text/plain": [
       "True     0.858771\n",
       "False    0.085101\n",
       "Name: public_meeting, dtype: float64"
      ]
     },
     "execution_count": 27,
     "metadata": {},
     "output_type": "execute_result"
    }
   ],
   "source": [
    "df_train['public_meeting'].value_counts()/len(df_train)"
   ]
  },
  {
   "cell_type": "code",
   "execution_count": 28,
   "metadata": {},
   "outputs": [
    {
     "data": {
      "text/plain": [
       "3334"
      ]
     },
     "execution_count": 28,
     "metadata": {},
     "output_type": "execute_result"
    }
   ],
   "source": [
    "df_train['public_meeting'].isnull().sum()"
   ]
  },
  {
   "cell_type": "markdown",
   "metadata": {},
   "source": [
    "since we don't know the true value of public meeting wherever it is null, and it will not be worth at the moment to invest time on it \n",
    "\n",
    "we will replace the nulls by -1, to create it as a third category."
   ]
  },
  {
   "cell_type": "code",
   "execution_count": 29,
   "metadata": {},
   "outputs": [],
   "source": [
    "# let's convert the public meeting\n",
    "df_train['public_meeting_label'] = le.fit_transform(df_train['public_meeting'])"
   ]
  },
  {
   "cell_type": "code",
   "execution_count": 30,
   "metadata": {},
   "outputs": [
    {
     "data": {
      "text/plain": [
       "1    51011\n",
       "0     5055\n",
       "2     3334\n",
       "Name: public_meeting_label, dtype: int64"
      ]
     },
     "execution_count": 30,
     "metadata": {},
     "output_type": "execute_result"
    }
   ],
   "source": [
    "df_train['public_meeting_label'].value_counts()"
   ]
  },
  {
   "cell_type": "code",
   "execution_count": 31,
   "metadata": {},
   "outputs": [
    {
     "data": {
      "text/plain": [
       "(['district_code', 'basin', 'region', 'region_code', 'public_meeting_label'],\n",
       " ['recorded_by', 'region', 'public_meeting'])"
      ]
     },
     "execution_count": 31,
     "metadata": {},
     "output_type": "execute_result"
    }
   ],
   "source": [
    "global_base_features.append('public_meeting_label')\n",
    "global_cols_to_del.append('public_meeting')\n",
    "\n",
    "global_base_features,global_cols_to_del"
   ]
  },
  {
   "cell_type": "markdown",
   "metadata": {},
   "source": [
    "scheme_management, permit\n",
    "--"
   ]
  },
  {
   "cell_type": "code",
   "execution_count": 32,
   "metadata": {},
   "outputs": [
    {
     "data": {
      "text/plain": [
       "3877"
      ]
     },
     "execution_count": 32,
     "metadata": {},
     "output_type": "execute_result"
    }
   ],
   "source": [
    "df_train['scheme_management'].isnull().sum()"
   ]
  },
  {
   "cell_type": "code",
   "execution_count": 33,
   "metadata": {},
   "outputs": [
    {
     "data": {
      "text/plain": [
       "(55523, 59400)"
      ]
     },
     "execution_count": 33,
     "metadata": {},
     "output_type": "execute_result"
    }
   ],
   "source": [
    "df_train['scheme_management'].value_counts().sum(), len(df_train) "
   ]
  },
  {
   "cell_type": "markdown",
   "metadata": {},
   "source": [
    "there are null values in the scheme management, for which we will have to convert it to label encoding."
   ]
  },
  {
   "cell_type": "code",
   "execution_count": 34,
   "metadata": {},
   "outputs": [
    {
     "data": {
      "text/plain": [
       "59400"
      ]
     },
     "execution_count": 34,
     "metadata": {},
     "output_type": "execute_result"
    }
   ],
   "source": [
    "df_train['scheme_management_label'] = le.fit_transform(df_train['scheme_management'])\n",
    "df_train['scheme_management_label'].value_counts().sum()"
   ]
  },
  {
   "cell_type": "code",
   "execution_count": 35,
   "metadata": {},
   "outputs": [
    {
     "data": {
      "text/html": [
       "<div>\n",
       "<style scoped>\n",
       "    .dataframe tbody tr th:only-of-type {\n",
       "        vertical-align: middle;\n",
       "    }\n",
       "\n",
       "    .dataframe tbody tr th {\n",
       "        vertical-align: top;\n",
       "    }\n",
       "\n",
       "    .dataframe thead th {\n",
       "        text-align: right;\n",
       "    }\n",
       "</style>\n",
       "<table border=\"1\" class=\"dataframe\">\n",
       "  <thead>\n",
       "    <tr style=\"text-align: right;\">\n",
       "      <th></th>\n",
       "      <th>scheme_management</th>\n",
       "      <th>scheme_management_label</th>\n",
       "    </tr>\n",
       "  </thead>\n",
       "  <tbody>\n",
       "    <tr>\n",
       "      <th>0</th>\n",
       "      <td>VWC</td>\n",
       "      <td>7</td>\n",
       "    </tr>\n",
       "    <tr>\n",
       "      <th>1</th>\n",
       "      <td>Other</td>\n",
       "      <td>2</td>\n",
       "    </tr>\n",
       "    <tr>\n",
       "      <th>4</th>\n",
       "      <td>NaN</td>\n",
       "      <td>12</td>\n",
       "    </tr>\n",
       "    <tr>\n",
       "      <th>10</th>\n",
       "      <td>Private operator</td>\n",
       "      <td>4</td>\n",
       "    </tr>\n",
       "    <tr>\n",
       "      <th>11</th>\n",
       "      <td>WUG</td>\n",
       "      <td>9</td>\n",
       "    </tr>\n",
       "    <tr>\n",
       "      <th>13</th>\n",
       "      <td>Water Board</td>\n",
       "      <td>10</td>\n",
       "    </tr>\n",
       "    <tr>\n",
       "      <th>16</th>\n",
       "      <td>WUA</td>\n",
       "      <td>8</td>\n",
       "    </tr>\n",
       "    <tr>\n",
       "      <th>23</th>\n",
       "      <td>Water authority</td>\n",
       "      <td>11</td>\n",
       "    </tr>\n",
       "    <tr>\n",
       "      <th>28</th>\n",
       "      <td>Company</td>\n",
       "      <td>0</td>\n",
       "    </tr>\n",
       "    <tr>\n",
       "      <th>84</th>\n",
       "      <td>Parastatal</td>\n",
       "      <td>3</td>\n",
       "    </tr>\n",
       "    <tr>\n",
       "      <th>1703</th>\n",
       "      <td>Trust</td>\n",
       "      <td>6</td>\n",
       "    </tr>\n",
       "    <tr>\n",
       "      <th>4454</th>\n",
       "      <td>SWC</td>\n",
       "      <td>5</td>\n",
       "    </tr>\n",
       "    <tr>\n",
       "      <th>23603</th>\n",
       "      <td>None</td>\n",
       "      <td>1</td>\n",
       "    </tr>\n",
       "  </tbody>\n",
       "</table>\n",
       "</div>"
      ],
      "text/plain": [
       "      scheme_management  scheme_management_label\n",
       "0                   VWC                        7\n",
       "1                 Other                        2\n",
       "4                   NaN                       12\n",
       "10     Private operator                        4\n",
       "11                  WUG                        9\n",
       "13          Water Board                       10\n",
       "16                  WUA                        8\n",
       "23      Water authority                       11\n",
       "28              Company                        0\n",
       "84           Parastatal                        3\n",
       "1703              Trust                        6\n",
       "4454                SWC                        5\n",
       "23603              None                        1"
      ]
     },
     "execution_count": 35,
     "metadata": {},
     "output_type": "execute_result"
    }
   ],
   "source": [
    "df_train[['scheme_management','scheme_management_label']].drop_duplicates()"
   ]
  },
  {
   "cell_type": "code",
   "execution_count": 36,
   "metadata": {},
   "outputs": [
    {
     "data": {
      "text/plain": [
       "<matplotlib.axes._subplots.AxesSubplot at 0x25f24350c88>"
      ]
     },
     "execution_count": 36,
     "metadata": {},
     "output_type": "execute_result"
    },
    {
     "data": {
      "image/png": "[encoded data removed]",
      "text/plain": [
       "<Figure size 1512x648 with 1 Axes>"
      ]
     },
     "metadata": {
      "needs_background": "light"
     },
     "output_type": "display_data"
    }
   ],
   "source": [
    "fig, ax = plt.subplots(figsize=(21,9))\n",
    "sns.countplot(x='scheme_management_label', hue='status_group', data=df_train, ax=ax,palette=['#59cf98','#ed3821','#FAAE7B'])"
   ]
  },
  {
   "cell_type": "code",
   "execution_count": 37,
   "metadata": {},
   "outputs": [
    {
     "data": {
      "text/plain": [
       "['district_code',\n",
       " 'basin',\n",
       " 'region',\n",
       " 'region_code',\n",
       " 'public_meeting_label',\n",
       " 'scheme_management_label']"
      ]
     },
     "execution_count": 37,
     "metadata": {},
     "output_type": "execute_result"
    }
   ],
   "source": [
    "global_base_features.append('scheme_management_label')\n",
    "global_cols_to_del.append('scheme_management')\n",
    "global_base_features"
   ]
  },
  {
   "cell_type": "code",
   "execution_count": 216,
   "metadata": {},
   "outputs": [],
   "source": [
    "global_mean_feat.append('scheme_management_label')"
   ]
  },
  {
   "cell_type": "markdown",
   "metadata": {},
   "source": [
    "**permit**"
   ]
  },
  {
   "cell_type": "code",
   "execution_count": 38,
   "metadata": {},
   "outputs": [
    {
     "data": {
      "text/plain": [
       "[False, True, NaN]\n",
       "Categories (2, object): [False, True]"
      ]
     },
     "execution_count": 38,
     "metadata": {},
     "output_type": "execute_result"
    }
   ],
   "source": [
    "df_train.permit.unique()"
   ]
  },
  {
   "cell_type": "code",
   "execution_count": 39,
   "metadata": {},
   "outputs": [
    {
     "data": {
      "text/plain": [
       "-3056"
      ]
     },
     "execution_count": 39,
     "metadata": {},
     "output_type": "execute_result"
    }
   ],
   "source": [
    "df_train.permit.value_counts().sum() - len(df_train)"
   ]
  },
  {
   "cell_type": "markdown",
   "metadata": {},
   "source": [
    "so there are 3056 nulls, converting them through label_encoding will do the job for the moment. "
   ]
  },
  {
   "cell_type": "code",
   "execution_count": 40,
   "metadata": {},
   "outputs": [],
   "source": [
    "df_train['permit_label'] = le.fit_transform(df_train['permit'])"
   ]
  },
  {
   "cell_type": "code",
   "execution_count": 41,
   "metadata": {},
   "outputs": [
    {
     "data": {
      "text/plain": [
       "59400"
      ]
     },
     "execution_count": 41,
     "metadata": {},
     "output_type": "execute_result"
    }
   ],
   "source": [
    "df_train['permit_label'].value_counts().sum()"
   ]
  },
  {
   "cell_type": "code",
   "execution_count": 42,
   "metadata": {},
   "outputs": [
    {
     "data": {
      "text/plain": [
       "<matplotlib.axes._subplots.AxesSubplot at 0x25f246e7188>"
      ]
     },
     "execution_count": 42,
     "metadata": {},
     "output_type": "execute_result"
    },
    {
     "data": {
      "image/png": "[encoded data removed]",
      "text/plain": [
       "<Figure size 1512x648 with 1 Axes>"
      ]
     },
     "metadata": {
      "needs_background": "light"
     },
     "output_type": "display_data"
    }
   ],
   "source": [
    "fig, ax = plt.subplots(figsize=(21,9))\n",
    "sns.countplot(x='permit_label', hue='status_group', data=df_train, ax=ax,palette=['#59cf98','#ed3821','#FAAE7B'])"
   ]
  },
  {
   "cell_type": "code",
   "execution_count": 43,
   "metadata": {},
   "outputs": [
    {
     "data": {
      "text/plain": [
       "['district_code',\n",
       " 'basin',\n",
       " 'region',\n",
       " 'region_code',\n",
       " 'public_meeting_label',\n",
       " 'scheme_management_label',\n",
       " 'permit_label']"
      ]
     },
     "execution_count": 43,
     "metadata": {},
     "output_type": "execute_result"
    }
   ],
   "source": [
    "global_base_features.append('permit_label')\n",
    "global_cols_to_del.append('permit')\n",
    "global_base_features"
   ]
  },
  {
   "cell_type": "markdown",
   "metadata": {},
   "source": [
    "extraction_type, extraction_type_group, extract_type_class\n",
    "--"
   ]
  },
  {
   "cell_type": "code",
   "execution_count": 44,
   "metadata": {},
   "outputs": [
    {
     "data": {
      "text/html": [
       "<div>\n",
       "<style scoped>\n",
       "    .dataframe tbody tr th:only-of-type {\n",
       "        vertical-align: middle;\n",
       "    }\n",
       "\n",
       "    .dataframe tbody tr th {\n",
       "        vertical-align: top;\n",
       "    }\n",
       "\n",
       "    .dataframe thead th {\n",
       "        text-align: right;\n",
       "    }\n",
       "</style>\n",
       "<table border=\"1\" class=\"dataframe\">\n",
       "  <thead>\n",
       "    <tr style=\"text-align: right;\">\n",
       "      <th></th>\n",
       "      <th>extraction_type</th>\n",
       "      <th>extraction_type_group</th>\n",
       "      <th>extraction_type_class</th>\n",
       "    </tr>\n",
       "  </thead>\n",
       "  <tbody>\n",
       "    <tr>\n",
       "      <th>0</th>\n",
       "      <td>gravity</td>\n",
       "      <td>gravity</td>\n",
       "      <td>gravity</td>\n",
       "    </tr>\n",
       "    <tr>\n",
       "      <th>1</th>\n",
       "      <td>other - play pump</td>\n",
       "      <td>other handpump</td>\n",
       "      <td>handpump</td>\n",
       "    </tr>\n",
       "    <tr>\n",
       "      <th>2</th>\n",
       "      <td>other - swn 81</td>\n",
       "      <td>other handpump</td>\n",
       "      <td>handpump</td>\n",
       "    </tr>\n",
       "    <tr>\n",
       "      <th>3</th>\n",
       "      <td>india mark iii</td>\n",
       "      <td>india mark iii</td>\n",
       "      <td>handpump</td>\n",
       "    </tr>\n",
       "    <tr>\n",
       "      <th>4</th>\n",
       "      <td>afridev</td>\n",
       "      <td>afridev</td>\n",
       "      <td>handpump</td>\n",
       "    </tr>\n",
       "    <tr>\n",
       "      <th>5</th>\n",
       "      <td>walimi</td>\n",
       "      <td>other handpump</td>\n",
       "      <td>handpump</td>\n",
       "    </tr>\n",
       "    <tr>\n",
       "      <th>6</th>\n",
       "      <td>other - mkulima/shinyanga</td>\n",
       "      <td>other handpump</td>\n",
       "      <td>handpump</td>\n",
       "    </tr>\n",
       "    <tr>\n",
       "      <th>7</th>\n",
       "      <td>india mark ii</td>\n",
       "      <td>india mark ii</td>\n",
       "      <td>handpump</td>\n",
       "    </tr>\n",
       "    <tr>\n",
       "      <th>8</th>\n",
       "      <td>nira/tanira</td>\n",
       "      <td>nira/tanira</td>\n",
       "      <td>handpump</td>\n",
       "    </tr>\n",
       "    <tr>\n",
       "      <th>9</th>\n",
       "      <td>swn 80</td>\n",
       "      <td>swn 80</td>\n",
       "      <td>handpump</td>\n",
       "    </tr>\n",
       "    <tr>\n",
       "      <th>10</th>\n",
       "      <td>mono</td>\n",
       "      <td>mono</td>\n",
       "      <td>motorpump</td>\n",
       "    </tr>\n",
       "    <tr>\n",
       "      <th>11</th>\n",
       "      <td>cemo</td>\n",
       "      <td>other motorpump</td>\n",
       "      <td>motorpump</td>\n",
       "    </tr>\n",
       "    <tr>\n",
       "      <th>12</th>\n",
       "      <td>climax</td>\n",
       "      <td>other motorpump</td>\n",
       "      <td>motorpump</td>\n",
       "    </tr>\n",
       "    <tr>\n",
       "      <th>13</th>\n",
       "      <td>other</td>\n",
       "      <td>other</td>\n",
       "      <td>other</td>\n",
       "    </tr>\n",
       "    <tr>\n",
       "      <th>14</th>\n",
       "      <td>other - rope pump</td>\n",
       "      <td>rope pump</td>\n",
       "      <td>rope pump</td>\n",
       "    </tr>\n",
       "    <tr>\n",
       "      <th>15</th>\n",
       "      <td>submersible</td>\n",
       "      <td>submersible</td>\n",
       "      <td>submersible</td>\n",
       "    </tr>\n",
       "    <tr>\n",
       "      <th>16</th>\n",
       "      <td>ksb</td>\n",
       "      <td>submersible</td>\n",
       "      <td>submersible</td>\n",
       "    </tr>\n",
       "    <tr>\n",
       "      <th>17</th>\n",
       "      <td>windmill</td>\n",
       "      <td>wind-powered</td>\n",
       "      <td>wind-powered</td>\n",
       "    </tr>\n",
       "  </tbody>\n",
       "</table>\n",
       "</div>"
      ],
      "text/plain": [
       "              extraction_type extraction_type_group extraction_type_class\n",
       "0                     gravity               gravity               gravity\n",
       "1           other - play pump        other handpump              handpump\n",
       "2              other - swn 81        other handpump              handpump\n",
       "3              india mark iii        india mark iii              handpump\n",
       "4                     afridev               afridev              handpump\n",
       "5                      walimi        other handpump              handpump\n",
       "6   other - mkulima/shinyanga        other handpump              handpump\n",
       "7               india mark ii         india mark ii              handpump\n",
       "8                 nira/tanira           nira/tanira              handpump\n",
       "9                      swn 80                swn 80              handpump\n",
       "10                       mono                  mono             motorpump\n",
       "11                       cemo       other motorpump             motorpump\n",
       "12                     climax       other motorpump             motorpump\n",
       "13                      other                 other                 other\n",
       "14          other - rope pump             rope pump             rope pump\n",
       "15                submersible           submersible           submersible\n",
       "16                        ksb           submersible           submersible\n",
       "17                   windmill          wind-powered          wind-powered"
      ]
     },
     "execution_count": 44,
     "metadata": {},
     "output_type": "execute_result"
    }
   ],
   "source": [
    "df_train[[ 'extraction_type', 'extraction_type_group', 'extraction_type_class']]\\\n",
    ".drop_duplicates().sort_values(by='extraction_type_class').reset_index(drop=True)"
   ]
  },
  {
   "cell_type": "code",
   "execution_count": 45,
   "metadata": {},
   "outputs": [
    {
     "data": {
      "text/plain": [
       "(0, 0)"
      ]
     },
     "execution_count": 45,
     "metadata": {},
     "output_type": "execute_result"
    }
   ],
   "source": [
    "df_train.extraction_type.isnull().sum(), df_train.extraction_type_group.isnull().sum()"
   ]
  },
  {
   "cell_type": "code",
   "execution_count": 46,
   "metadata": {},
   "outputs": [
    {
     "data": {
      "text/plain": [
       "0"
      ]
     },
     "execution_count": 46,
     "metadata": {},
     "output_type": "execute_result"
    }
   ],
   "source": [
    "df_train.extraction_type_class.isnull().sum()"
   ]
  },
  {
   "cell_type": "code",
   "execution_count": 47,
   "metadata": {},
   "outputs": [
    {
     "data": {
      "text/plain": [
       "<matplotlib.axes._subplots.AxesSubplot at 0x25f25350e08>"
      ]
     },
     "execution_count": 47,
     "metadata": {},
     "output_type": "execute_result"
    },
    {
     "data": {
      "image/png": "[encoded data removed]",
      "text/plain": [
       "<Figure size 936x648 with 1 Axes>"
      ]
     },
     "metadata": {
      "needs_background": "light"
     },
     "output_type": "display_data"
    }
   ],
   "source": [
    "fig, ax = plt.subplots(figsize=(13,9))\n",
    "sns.countplot(x='extraction_type_class', hue='status_group', data=df_train, ax=ax)"
   ]
  },
  {
   "cell_type": "code",
   "execution_count": 48,
   "metadata": {},
   "outputs": [
    {
     "data": {
      "text/plain": [
       "<matplotlib.axes._subplots.AxesSubplot at 0x25f253e03c8>"
      ]
     },
     "execution_count": 48,
     "metadata": {},
     "output_type": "execute_result"
    },
    {
     "data": {
      "image/png": "[encoded data removed]",
      "text/plain": [
       "<Figure size 1512x648 with 1 Axes>"
      ]
     },
     "metadata": {
      "needs_background": "light"
     },
     "output_type": "display_data"
    }
   ],
   "source": [
    "fig, ax = plt.subplots(figsize=(21,9))\n",
    "sns.countplot(x='extraction_type', hue='status_group', data=df_train, ax=ax)"
   ]
  },
  {
   "cell_type": "code",
   "execution_count": 49,
   "metadata": {},
   "outputs": [
    {
     "data": {
      "text/plain": [
       "<matplotlib.axes._subplots.AxesSubplot at 0x25f2552abc8>"
      ]
     },
     "execution_count": 49,
     "metadata": {},
     "output_type": "execute_result"
    },
    {
     "data": {
      "image/png": "[encoded data removed]",
      "text/plain": [
       "<Figure size 1512x648 with 1 Axes>"
      ]
     },
     "metadata": {
      "needs_background": "light"
     },
     "output_type": "display_data"
    }
   ],
   "source": [
    "fig, ax = plt.subplots(figsize=(21,9))\n",
    "sns.countplot(x='extraction_type_group', hue='status_group', data=df_train, ax=ax)"
   ]
  },
  {
   "cell_type": "code",
   "execution_count": 50,
   "metadata": {},
   "outputs": [
    {
     "data": {
      "text/plain": [
       "['district_code',\n",
       " 'basin',\n",
       " 'region',\n",
       " 'region_code',\n",
       " 'public_meeting_label',\n",
       " 'scheme_management_label',\n",
       " 'permit_label',\n",
       " 'extraction_type_group',\n",
       " 'extraction_type_class',\n",
       " 'extraction_type']"
      ]
     },
     "execution_count": 50,
     "metadata": {},
     "output_type": "execute_result"
    }
   ],
   "source": [
    "global_base_features.append('extraction_type_group')\n",
    "global_base_features.append('extraction_type_class')\n",
    "global_base_features.append('extraction_type')\n",
    "\n",
    "global_cols_to_del.append('extraction_type_class')\n",
    "global_base_features"
   ]
  },
  {
   "cell_type": "code",
   "execution_count": 217,
   "metadata": {},
   "outputs": [],
   "source": [
    "global_mean_feat.append('extraction_type_group')"
   ]
  },
  {
   "cell_type": "code",
   "execution_count": 51,
   "metadata": {},
   "outputs": [
    {
     "data": {
      "text/plain": [
       "['recorded_by',\n",
       " 'region',\n",
       " 'public_meeting',\n",
       " 'scheme_management',\n",
       " 'permit',\n",
       " 'extraction_type_class']"
      ]
     },
     "execution_count": 51,
     "metadata": {},
     "output_type": "execute_result"
    }
   ],
   "source": [
    "global_cols_to_del"
   ]
  },
  {
   "cell_type": "markdown",
   "metadata": {},
   "source": [
    "management, management_group\n",
    "--"
   ]
  },
  {
   "cell_type": "code",
   "execution_count": 52,
   "metadata": {},
   "outputs": [
    {
     "data": {
      "text/html": [
       "<div>\n",
       "<style scoped>\n",
       "    .dataframe tbody tr th:only-of-type {\n",
       "        vertical-align: middle;\n",
       "    }\n",
       "\n",
       "    .dataframe tbody tr th {\n",
       "        vertical-align: top;\n",
       "    }\n",
       "\n",
       "    .dataframe thead th {\n",
       "        text-align: right;\n",
       "    }\n",
       "</style>\n",
       "<table border=\"1\" class=\"dataframe\">\n",
       "  <thead>\n",
       "    <tr style=\"text-align: right;\">\n",
       "      <th></th>\n",
       "      <th>management</th>\n",
       "      <th>management_group</th>\n",
       "    </tr>\n",
       "  </thead>\n",
       "  <tbody>\n",
       "    <tr>\n",
       "      <th>10</th>\n",
       "      <td>private operator</td>\n",
       "      <td>commercial</td>\n",
       "    </tr>\n",
       "    <tr>\n",
       "      <th>28</th>\n",
       "      <td>company</td>\n",
       "      <td>commercial</td>\n",
       "    </tr>\n",
       "    <tr>\n",
       "      <th>50</th>\n",
       "      <td>water authority</td>\n",
       "      <td>commercial</td>\n",
       "    </tr>\n",
       "    <tr>\n",
       "      <th>1703</th>\n",
       "      <td>trust</td>\n",
       "      <td>commercial</td>\n",
       "    </tr>\n",
       "    <tr>\n",
       "      <th>4</th>\n",
       "      <td>other</td>\n",
       "      <td>other</td>\n",
       "    </tr>\n",
       "    <tr>\n",
       "      <th>636</th>\n",
       "      <td>other - school</td>\n",
       "      <td>other</td>\n",
       "    </tr>\n",
       "    <tr>\n",
       "      <th>84</th>\n",
       "      <td>parastatal</td>\n",
       "      <td>parastatal</td>\n",
       "    </tr>\n",
       "    <tr>\n",
       "      <th>227</th>\n",
       "      <td>unknown</td>\n",
       "      <td>unknown</td>\n",
       "    </tr>\n",
       "    <tr>\n",
       "      <th>0</th>\n",
       "      <td>vwc</td>\n",
       "      <td>user-group</td>\n",
       "    </tr>\n",
       "    <tr>\n",
       "      <th>1</th>\n",
       "      <td>wug</td>\n",
       "      <td>user-group</td>\n",
       "    </tr>\n",
       "    <tr>\n",
       "      <th>13</th>\n",
       "      <td>water board</td>\n",
       "      <td>user-group</td>\n",
       "    </tr>\n",
       "    <tr>\n",
       "      <th>16</th>\n",
       "      <td>wua</td>\n",
       "      <td>user-group</td>\n",
       "    </tr>\n",
       "  </tbody>\n",
       "</table>\n",
       "</div>"
      ],
      "text/plain": [
       "            management management_group\n",
       "10    private operator       commercial\n",
       "28             company       commercial\n",
       "50     water authority       commercial\n",
       "1703             trust       commercial\n",
       "4                other            other\n",
       "636     other - school            other\n",
       "84          parastatal       parastatal\n",
       "227            unknown          unknown\n",
       "0                  vwc       user-group\n",
       "1                  wug       user-group\n",
       "13         water board       user-group\n",
       "16                 wua       user-group"
      ]
     },
     "execution_count": 52,
     "metadata": {},
     "output_type": "execute_result"
    }
   ],
   "source": [
    "df_train[['management', 'management_group']].drop_duplicates().sort_values('management_group')"
   ]
  },
  {
   "cell_type": "code",
   "execution_count": 53,
   "metadata": {},
   "outputs": [
    {
     "data": {
      "text/plain": [
       "<matplotlib.axes._subplots.AxesSubplot at 0x25f25630d48>"
      ]
     },
     "execution_count": 53,
     "metadata": {},
     "output_type": "execute_result"
    },
    {
     "data": {
      "image/png": "[encoded data removed]",
      "text/plain": [
       "<Figure size 1224x648 with 1 Axes>"
      ]
     },
     "metadata": {
      "needs_background": "light"
     },
     "output_type": "display_data"
    }
   ],
   "source": [
    "fig, ax = plt.subplots(figsize=(17,9))\n",
    "sns.countplot(x='management', hue='status_group', data=df_train, ax=ax)"
   ]
  },
  {
   "cell_type": "code",
   "execution_count": 54,
   "metadata": {},
   "outputs": [
    {
     "data": {
      "text/plain": [
       "<matplotlib.axes._subplots.AxesSubplot at 0x25f257158c8>"
      ]
     },
     "execution_count": 54,
     "metadata": {},
     "output_type": "execute_result"
    },
    {
     "data": {
      "image/png": "[encoded data removed]",
      "text/plain": [
       "<Figure size 1224x648 with 1 Axes>"
      ]
     },
     "metadata": {
      "needs_background": "light"
     },
     "output_type": "display_data"
    }
   ],
   "source": [
    "fig, ax = plt.subplots(figsize=(17,9))\n",
    "sns.countplot(x='management_group', hue='status_group', data=df_train, ax=ax)"
   ]
  },
  {
   "cell_type": "code",
   "execution_count": 55,
   "metadata": {},
   "outputs": [
    {
     "data": {
      "text/plain": [
       "['district_code',\n",
       " 'basin',\n",
       " 'region',\n",
       " 'region_code',\n",
       " 'public_meeting_label',\n",
       " 'scheme_management_label',\n",
       " 'permit_label',\n",
       " 'extraction_type_group',\n",
       " 'extraction_type_class',\n",
       " 'extraction_type',\n",
       " 'management',\n",
       " 'management_group']"
      ]
     },
     "execution_count": 55,
     "metadata": {},
     "output_type": "execute_result"
    }
   ],
   "source": [
    "global_base_features.append('management')\n",
    "global_base_features.append('management_group')\n",
    "global_cols_to_del.append('management_group')\n",
    "global_base_features"
   ]
  },
  {
   "cell_type": "code",
   "execution_count": 218,
   "metadata": {},
   "outputs": [],
   "source": [
    "global_mean_feat.append('management')"
   ]
  },
  {
   "cell_type": "markdown",
   "metadata": {},
   "source": [
    "payment, payment_type\n",
    "--"
   ]
  },
  {
   "cell_type": "code",
   "execution_count": 56,
   "metadata": {},
   "outputs": [
    {
     "data": {
      "text/html": [
       "<div>\n",
       "<style scoped>\n",
       "    .dataframe tbody tr th:only-of-type {\n",
       "        vertical-align: middle;\n",
       "    }\n",
       "\n",
       "    .dataframe tbody tr th {\n",
       "        vertical-align: top;\n",
       "    }\n",
       "\n",
       "    .dataframe thead th {\n",
       "        text-align: right;\n",
       "    }\n",
       "</style>\n",
       "<table border=\"1\" class=\"dataframe\">\n",
       "  <thead>\n",
       "    <tr style=\"text-align: right;\">\n",
       "      <th></th>\n",
       "      <th>payment</th>\n",
       "      <th>payment_type</th>\n",
       "    </tr>\n",
       "  </thead>\n",
       "  <tbody>\n",
       "    <tr>\n",
       "      <th>0</th>\n",
       "      <td>pay annually</td>\n",
       "      <td>annually</td>\n",
       "    </tr>\n",
       "    <tr>\n",
       "      <th>1</th>\n",
       "      <td>never pay</td>\n",
       "      <td>never pay</td>\n",
       "    </tr>\n",
       "    <tr>\n",
       "      <th>2</th>\n",
       "      <td>pay per bucket</td>\n",
       "      <td>per bucket</td>\n",
       "    </tr>\n",
       "    <tr>\n",
       "      <th>7</th>\n",
       "      <td>unknown</td>\n",
       "      <td>unknown</td>\n",
       "    </tr>\n",
       "    <tr>\n",
       "      <th>11</th>\n",
       "      <td>pay when scheme fails</td>\n",
       "      <td>on failure</td>\n",
       "    </tr>\n",
       "    <tr>\n",
       "      <th>12</th>\n",
       "      <td>other</td>\n",
       "      <td>other</td>\n",
       "    </tr>\n",
       "    <tr>\n",
       "      <th>13</th>\n",
       "      <td>pay monthly</td>\n",
       "      <td>monthly</td>\n",
       "    </tr>\n",
       "  </tbody>\n",
       "</table>\n",
       "</div>"
      ],
      "text/plain": [
       "                  payment payment_type\n",
       "0            pay annually     annually\n",
       "1               never pay    never pay\n",
       "2          pay per bucket   per bucket\n",
       "7                 unknown      unknown\n",
       "11  pay when scheme fails   on failure\n",
       "12                  other        other\n",
       "13            pay monthly      monthly"
      ]
     },
     "execution_count": 56,
     "metadata": {},
     "output_type": "execute_result"
    }
   ],
   "source": [
    "df_train[['payment','payment_type']].drop_duplicates()"
   ]
  },
  {
   "cell_type": "code",
   "execution_count": 57,
   "metadata": {},
   "outputs": [
    {
     "data": {
      "text/plain": [
       "(59400, 59400)"
      ]
     },
     "execution_count": 57,
     "metadata": {},
     "output_type": "execute_result"
    }
   ],
   "source": [
    "df_train['payment'].value_counts().sum(),df_train['payment_type'].value_counts().sum()"
   ]
  },
  {
   "cell_type": "code",
   "execution_count": 58,
   "metadata": {},
   "outputs": [
    {
     "data": {
      "text/plain": [
       "<matplotlib.axes._subplots.AxesSubplot at 0x25f257b7808>"
      ]
     },
     "execution_count": 58,
     "metadata": {},
     "output_type": "execute_result"
    },
    {
     "data": {
      "image/png": "[encoded data removed]",
      "text/plain": [
       "<Figure size 1512x1368 with 2 Axes>"
      ]
     },
     "metadata": {
      "needs_background": "light"
     },
     "output_type": "display_data"
    }
   ],
   "source": [
    "fig = plt.figure(figsize=(21,19))\n",
    "gs = fig.add_gridspec(2, 1)\n",
    "ax0 = fig.add_subplot(gs[0,0])\n",
    "ax1 = fig.add_subplot(gs[1,0])\n",
    "\n",
    "sns.countplot(x='payment', hue='status_group', data=df_train, ax=ax0)\n",
    "sns.countplot(x='payment_type', hue='status_group', data=df_train, ax=ax1)"
   ]
  },
  {
   "cell_type": "markdown",
   "metadata": {},
   "source": [
    "identical values, so we will delete payment_type and will keep payment, while keeping both in the base features"
   ]
  },
  {
   "cell_type": "code",
   "execution_count": 59,
   "metadata": {},
   "outputs": [
    {
     "data": {
      "text/plain": [
       "['district_code',\n",
       " 'basin',\n",
       " 'region',\n",
       " 'region_code',\n",
       " 'public_meeting_label',\n",
       " 'scheme_management_label',\n",
       " 'permit_label',\n",
       " 'extraction_type_group',\n",
       " 'extraction_type_class',\n",
       " 'extraction_type',\n",
       " 'management',\n",
       " 'management_group',\n",
       " 'payment',\n",
       " 'payment_type']"
      ]
     },
     "execution_count": 59,
     "metadata": {},
     "output_type": "execute_result"
    }
   ],
   "source": [
    "global_base_features.append('payment')\n",
    "global_base_features.append('payment_type')\n",
    "global_cols_to_del.append('payment_type')\n",
    "global_base_features"
   ]
  },
  {
   "cell_type": "code",
   "execution_count": 219,
   "metadata": {},
   "outputs": [],
   "source": [
    "global_mean_feat.append('payment')"
   ]
  },
  {
   "cell_type": "markdown",
   "metadata": {},
   "source": [
    "water_quality, quality_group\n",
    "--"
   ]
  },
  {
   "cell_type": "code",
   "execution_count": 60,
   "metadata": {},
   "outputs": [
    {
     "data": {
      "text/html": [
       "<div>\n",
       "<style scoped>\n",
       "    .dataframe tbody tr th:only-of-type {\n",
       "        vertical-align: middle;\n",
       "    }\n",
       "\n",
       "    .dataframe tbody tr th {\n",
       "        vertical-align: top;\n",
       "    }\n",
       "\n",
       "    .dataframe thead th {\n",
       "        text-align: right;\n",
       "    }\n",
       "</style>\n",
       "<table border=\"1\" class=\"dataframe\">\n",
       "  <thead>\n",
       "    <tr style=\"text-align: right;\">\n",
       "      <th></th>\n",
       "      <th>water_quality</th>\n",
       "      <th>quality_group</th>\n",
       "    </tr>\n",
       "  </thead>\n",
       "  <tbody>\n",
       "    <tr>\n",
       "      <th>129</th>\n",
       "      <td>coloured</td>\n",
       "      <td>colored</td>\n",
       "    </tr>\n",
       "    <tr>\n",
       "      <th>110</th>\n",
       "      <td>fluoride</td>\n",
       "      <td>fluoride</td>\n",
       "    </tr>\n",
       "    <tr>\n",
       "      <th>6793</th>\n",
       "      <td>fluoride abandoned</td>\n",
       "      <td>fluoride</td>\n",
       "    </tr>\n",
       "    <tr>\n",
       "      <th>0</th>\n",
       "      <td>soft</td>\n",
       "      <td>good</td>\n",
       "    </tr>\n",
       "    <tr>\n",
       "      <th>7</th>\n",
       "      <td>milky</td>\n",
       "      <td>milky</td>\n",
       "    </tr>\n",
       "    <tr>\n",
       "      <th>5</th>\n",
       "      <td>salty</td>\n",
       "      <td>salty</td>\n",
       "    </tr>\n",
       "    <tr>\n",
       "      <th>277</th>\n",
       "      <td>salty abandoned</td>\n",
       "      <td>salty</td>\n",
       "    </tr>\n",
       "    <tr>\n",
       "      <th>21</th>\n",
       "      <td>unknown</td>\n",
       "      <td>unknown</td>\n",
       "    </tr>\n",
       "  </tbody>\n",
       "</table>\n",
       "</div>"
      ],
      "text/plain": [
       "           water_quality quality_group\n",
       "129             coloured       colored\n",
       "110             fluoride      fluoride\n",
       "6793  fluoride abandoned      fluoride\n",
       "0                   soft          good\n",
       "7                  milky         milky\n",
       "5                  salty         salty\n",
       "277      salty abandoned         salty\n",
       "21               unknown       unknown"
      ]
     },
     "execution_count": 60,
     "metadata": {},
     "output_type": "execute_result"
    }
   ],
   "source": [
    "df_train[[ 'water_quality', 'quality_group']].drop_duplicates().sort_values(by='quality_group')"
   ]
  },
  {
   "cell_type": "code",
   "execution_count": 61,
   "metadata": {},
   "outputs": [
    {
     "data": {
      "text/plain": [
       "(0, 0)"
      ]
     },
     "execution_count": 61,
     "metadata": {},
     "output_type": "execute_result"
    }
   ],
   "source": [
    "df_train.quality_group.isnull().sum(), df_train.water_quality.isnull().sum()"
   ]
  },
  {
   "cell_type": "code",
   "execution_count": 62,
   "metadata": {
    "scrolled": false
   },
   "outputs": [
    {
     "data": {
      "text/plain": [
       "<matplotlib.axes._subplots.AxesSubplot at 0x25f25d69b08>"
      ]
     },
     "execution_count": 62,
     "metadata": {},
     "output_type": "execute_result"
    },
    {
     "data": {
      "image/png": "[encoded data removed]",
      "text/plain": [
       "<Figure size 1512x1368 with 2 Axes>"
      ]
     },
     "metadata": {
      "needs_background": "light"
     },
     "output_type": "display_data"
    }
   ],
   "source": [
    "fig = plt.figure(figsize=(21,19))\n",
    "gs = fig.add_gridspec(2, 1)\n",
    "ax0 = fig.add_subplot(gs[0,0])\n",
    "ax1 = fig.add_subplot(gs[1,0])\n",
    "\n",
    "sns.countplot(x='water_quality', hue='status_group', data=df_train, ax=ax0)\n",
    "sns.countplot(x='quality_group', hue='status_group', data=df_train, ax=ax1)"
   ]
  },
  {
   "cell_type": "markdown",
   "metadata": {},
   "source": [
    "Here, I would go for keeping the water_quality and removing the quality_group feature as it is **water_quality** is capturing all patterns which **quality_group** isn't capturing."
   ]
  },
  {
   "cell_type": "code",
   "execution_count": 63,
   "metadata": {},
   "outputs": [
    {
     "data": {
      "text/plain": [
       "['district_code',\n",
       " 'basin',\n",
       " 'region',\n",
       " 'region_code',\n",
       " 'public_meeting_label',\n",
       " 'scheme_management_label',\n",
       " 'permit_label',\n",
       " 'extraction_type_group',\n",
       " 'extraction_type_class',\n",
       " 'extraction_type',\n",
       " 'management',\n",
       " 'management_group',\n",
       " 'payment',\n",
       " 'payment_type',\n",
       " 'water_quality',\n",
       " 'quality_group']"
      ]
     },
     "execution_count": 63,
     "metadata": {},
     "output_type": "execute_result"
    }
   ],
   "source": [
    "global_base_features.append('water_quality')\n",
    "global_base_features.append('quality_group')\n",
    "global_cols_to_del.append('quality_group')\n",
    "global_base_features"
   ]
  },
  {
   "cell_type": "markdown",
   "metadata": {},
   "source": [
    "quantity, quantity_group\n",
    "--"
   ]
  },
  {
   "cell_type": "code",
   "execution_count": 64,
   "metadata": {},
   "outputs": [
    {
     "data": {
      "text/html": [
       "<div>\n",
       "<style scoped>\n",
       "    .dataframe tbody tr th:only-of-type {\n",
       "        vertical-align: middle;\n",
       "    }\n",
       "\n",
       "    .dataframe tbody tr th {\n",
       "        vertical-align: top;\n",
       "    }\n",
       "\n",
       "    .dataframe thead th {\n",
       "        text-align: right;\n",
       "    }\n",
       "</style>\n",
       "<table border=\"1\" class=\"dataframe\">\n",
       "  <thead>\n",
       "    <tr style=\"text-align: right;\">\n",
       "      <th></th>\n",
       "      <th>quantity</th>\n",
       "      <th>quantity_group</th>\n",
       "    </tr>\n",
       "  </thead>\n",
       "  <tbody>\n",
       "    <tr>\n",
       "      <th>3</th>\n",
       "      <td>dry</td>\n",
       "      <td>dry</td>\n",
       "    </tr>\n",
       "    <tr>\n",
       "      <th>0</th>\n",
       "      <td>enough</td>\n",
       "      <td>enough</td>\n",
       "    </tr>\n",
       "    <tr>\n",
       "      <th>1</th>\n",
       "      <td>insufficient</td>\n",
       "      <td>insufficient</td>\n",
       "    </tr>\n",
       "    <tr>\n",
       "      <th>4</th>\n",
       "      <td>seasonal</td>\n",
       "      <td>seasonal</td>\n",
       "    </tr>\n",
       "    <tr>\n",
       "      <th>21</th>\n",
       "      <td>unknown</td>\n",
       "      <td>unknown</td>\n",
       "    </tr>\n",
       "  </tbody>\n",
       "</table>\n",
       "</div>"
      ],
      "text/plain": [
       "        quantity quantity_group\n",
       "3            dry            dry\n",
       "0         enough         enough\n",
       "1   insufficient   insufficient\n",
       "4       seasonal       seasonal\n",
       "21       unknown        unknown"
      ]
     },
     "execution_count": 64,
     "metadata": {},
     "output_type": "execute_result"
    }
   ],
   "source": [
    "df_train[[ 'quantity', 'quantity_group']].drop_duplicates().sort_values(by='quantity_group')"
   ]
  },
  {
   "cell_type": "code",
   "execution_count": 65,
   "metadata": {},
   "outputs": [
    {
     "data": {
      "text/plain": [
       "(0, 0)"
      ]
     },
     "execution_count": 65,
     "metadata": {},
     "output_type": "execute_result"
    }
   ],
   "source": [
    "df_train.quantity_group.isnull().sum(), df_train.quantity.isnull().sum()"
   ]
  },
  {
   "cell_type": "code",
   "execution_count": 66,
   "metadata": {},
   "outputs": [
    {
     "data": {
      "text/plain": [
       "<matplotlib.axes._subplots.AxesSubplot at 0x25f25f0b9c8>"
      ]
     },
     "execution_count": 66,
     "metadata": {},
     "output_type": "execute_result"
    },
    {
     "data": {
      "image/png": "[encoded data removed]",
      "text/plain": [
       "<Figure size 1512x1368 with 2 Axes>"
      ]
     },
     "metadata": {
      "needs_background": "light"
     },
     "output_type": "display_data"
    }
   ],
   "source": [
    "fig = plt.figure(figsize=(21,19))\n",
    "gs = fig.add_gridspec(2, 1)\n",
    "ax0 = fig.add_subplot(gs[0,0])\n",
    "ax1 = fig.add_subplot(gs[1,0])\n",
    "\n",
    "sns.countplot(x='quantity_group', hue='status_group', data=df_train, ax=ax0)\n",
    "sns.countplot(x='quantity', hue='status_group', data=df_train, ax=ax1)"
   ]
  },
  {
   "cell_type": "markdown",
   "metadata": {},
   "source": [
    "identical values, so we will omit one of them, we will not include **quantity_group** in the base features"
   ]
  },
  {
   "cell_type": "code",
   "execution_count": 220,
   "metadata": {},
   "outputs": [],
   "source": [
    "global_mean_feat.append('quantity')"
   ]
  },
  {
   "cell_type": "code",
   "execution_count": 68,
   "metadata": {},
   "outputs": [
    {
     "data": {
      "text/plain": [
       "['district_code',\n",
       " 'basin',\n",
       " 'region',\n",
       " 'region_code',\n",
       " 'public_meeting_label',\n",
       " 'scheme_management_label',\n",
       " 'permit_label',\n",
       " 'extraction_type_group',\n",
       " 'extraction_type_class',\n",
       " 'extraction_type',\n",
       " 'management',\n",
       " 'management_group',\n",
       " 'payment',\n",
       " 'payment_type',\n",
       " 'water_quality',\n",
       " 'quality_group',\n",
       " 'quantity']"
      ]
     },
     "execution_count": 68,
     "metadata": {},
     "output_type": "execute_result"
    }
   ],
   "source": [
    "global_base_features.append('quantity')\n",
    "global_base_features"
   ]
  },
  {
   "cell_type": "markdown",
   "metadata": {},
   "source": [
    "source, source_type, source_class\n",
    "--"
   ]
  },
  {
   "cell_type": "code",
   "execution_count": 69,
   "metadata": {},
   "outputs": [
    {
     "data": {
      "text/html": [
       "<div>\n",
       "<style scoped>\n",
       "    .dataframe tbody tr th:only-of-type {\n",
       "        vertical-align: middle;\n",
       "    }\n",
       "\n",
       "    .dataframe tbody tr th {\n",
       "        vertical-align: top;\n",
       "    }\n",
       "\n",
       "    .dataframe thead th {\n",
       "        text-align: right;\n",
       "    }\n",
       "</style>\n",
       "<table border=\"1\" class=\"dataframe\">\n",
       "  <thead>\n",
       "    <tr style=\"text-align: right;\">\n",
       "      <th></th>\n",
       "      <th>source_class</th>\n",
       "      <th>source_type</th>\n",
       "      <th>source</th>\n",
       "    </tr>\n",
       "  </thead>\n",
       "  <tbody>\n",
       "    <tr>\n",
       "      <th>3</th>\n",
       "      <td>groundwater</td>\n",
       "      <td>borehole</td>\n",
       "      <td>machine dbh</td>\n",
       "    </tr>\n",
       "    <tr>\n",
       "      <th>66</th>\n",
       "      <td>groundwater</td>\n",
       "      <td>borehole</td>\n",
       "      <td>hand dtw</td>\n",
       "    </tr>\n",
       "    <tr>\n",
       "      <th>7</th>\n",
       "      <td>groundwater</td>\n",
       "      <td>shallow well</td>\n",
       "      <td>shallow well</td>\n",
       "    </tr>\n",
       "    <tr>\n",
       "      <th>0</th>\n",
       "      <td>groundwater</td>\n",
       "      <td>spring</td>\n",
       "      <td>spring</td>\n",
       "    </tr>\n",
       "    <tr>\n",
       "      <th>2</th>\n",
       "      <td>surface</td>\n",
       "      <td>dam</td>\n",
       "      <td>dam</td>\n",
       "    </tr>\n",
       "    <tr>\n",
       "      <th>1</th>\n",
       "      <td>surface</td>\n",
       "      <td>rainwater harvesting</td>\n",
       "      <td>rainwater harvesting</td>\n",
       "    </tr>\n",
       "    <tr>\n",
       "      <th>16</th>\n",
       "      <td>surface</td>\n",
       "      <td>river/lake</td>\n",
       "      <td>river</td>\n",
       "    </tr>\n",
       "    <tr>\n",
       "      <th>198</th>\n",
       "      <td>surface</td>\n",
       "      <td>river/lake</td>\n",
       "      <td>lake</td>\n",
       "    </tr>\n",
       "    <tr>\n",
       "      <th>5</th>\n",
       "      <td>unknown</td>\n",
       "      <td>other</td>\n",
       "      <td>other</td>\n",
       "    </tr>\n",
       "    <tr>\n",
       "      <th>3353</th>\n",
       "      <td>unknown</td>\n",
       "      <td>other</td>\n",
       "      <td>unknown</td>\n",
       "    </tr>\n",
       "  </tbody>\n",
       "</table>\n",
       "</div>"
      ],
      "text/plain": [
       "     source_class           source_type                source\n",
       "3     groundwater              borehole           machine dbh\n",
       "66    groundwater              borehole              hand dtw\n",
       "7     groundwater          shallow well          shallow well\n",
       "0     groundwater                spring                spring\n",
       "2         surface                   dam                   dam\n",
       "1         surface  rainwater harvesting  rainwater harvesting\n",
       "16        surface            river/lake                 river\n",
       "198       surface            river/lake                  lake\n",
       "5         unknown                 other                 other\n",
       "3353      unknown                 other               unknown"
      ]
     },
     "execution_count": 69,
     "metadata": {},
     "output_type": "execute_result"
    }
   ],
   "source": [
    "df_train[['source_class','source_type','source']].drop_duplicates().sort_values(by=['source_class','source_type'])"
   ]
  },
  {
   "cell_type": "code",
   "execution_count": 70,
   "metadata": {},
   "outputs": [
    {
     "data": {
      "text/plain": [
       "<matplotlib.axes._subplots.AxesSubplot at 0x25f26067788>"
      ]
     },
     "execution_count": 70,
     "metadata": {},
     "output_type": "execute_result"
    },
    {
     "data": {
      "image/png": "[encoded data removed]",
      "text/plain": [
       "<Figure size 1512x1368 with 3 Axes>"
      ]
     },
     "metadata": {
      "needs_background": "light"
     },
     "output_type": "display_data"
    }
   ],
   "source": [
    "fig = plt.figure(figsize=(21,19))\n",
    "gs = fig.add_gridspec(3, 1)\n",
    "ax0 = fig.add_subplot(gs[0,0])\n",
    "ax1 = fig.add_subplot(gs[1,0])\n",
    "ax2 = fig.add_subplot(gs[2,0])\n",
    "\n",
    "sns.countplot(x='source_class', hue='status_group', data=df_train, ax=ax0)\n",
    "sns.countplot(x='source_type', hue='status_group', data=df_train, ax=ax1)\n",
    "sns.countplot(x='source', hue='status_group', data=df_train, ax=ax2)"
   ]
  },
  {
   "cell_type": "markdown",
   "metadata": {},
   "source": [
    "**all three features seem important and we are going to keep it for our base model.**"
   ]
  },
  {
   "cell_type": "code",
   "execution_count": 71,
   "metadata": {},
   "outputs": [
    {
     "data": {
      "text/plain": [
       "['district_code',\n",
       " 'basin',\n",
       " 'region',\n",
       " 'region_code',\n",
       " 'public_meeting_label',\n",
       " 'scheme_management_label',\n",
       " 'permit_label',\n",
       " 'extraction_type_group',\n",
       " 'extraction_type_class',\n",
       " 'extraction_type',\n",
       " 'management',\n",
       " 'management_group',\n",
       " 'payment',\n",
       " 'payment_type',\n",
       " 'water_quality',\n",
       " 'quality_group',\n",
       " 'quantity',\n",
       " 'source',\n",
       " 'source_class',\n",
       " 'source_type']"
      ]
     },
     "execution_count": 71,
     "metadata": {},
     "output_type": "execute_result"
    }
   ],
   "source": [
    "global_base_features.append('source')\n",
    "global_base_features.append('source_class')\n",
    "global_base_features.append('source_type')\n",
    "global_base_features"
   ]
  },
  {
   "cell_type": "code",
   "execution_count": 221,
   "metadata": {},
   "outputs": [],
   "source": [
    "global_mean_feat.append('source')"
   ]
  },
  {
   "cell_type": "markdown",
   "metadata": {},
   "source": [
    "waterpoint_type, waterpoint_type_group\n",
    "--"
   ]
  },
  {
   "cell_type": "code",
   "execution_count": 72,
   "metadata": {},
   "outputs": [
    {
     "data": {
      "text/html": [
       "<div>\n",
       "<style scoped>\n",
       "    .dataframe tbody tr th:only-of-type {\n",
       "        vertical-align: middle;\n",
       "    }\n",
       "\n",
       "    .dataframe tbody tr th {\n",
       "        vertical-align: top;\n",
       "    }\n",
       "\n",
       "    .dataframe thead th {\n",
       "        text-align: right;\n",
       "    }\n",
       "</style>\n",
       "<table border=\"1\" class=\"dataframe\">\n",
       "  <thead>\n",
       "    <tr style=\"text-align: right;\">\n",
       "      <th></th>\n",
       "      <th>waterpoint_type</th>\n",
       "      <th>waterpoint_type_group</th>\n",
       "    </tr>\n",
       "  </thead>\n",
       "  <tbody>\n",
       "    <tr>\n",
       "      <th>0</th>\n",
       "      <td>communal standpipe</td>\n",
       "      <td>communal standpipe</td>\n",
       "    </tr>\n",
       "    <tr>\n",
       "      <th>2</th>\n",
       "      <td>communal standpipe multiple</td>\n",
       "      <td>communal standpipe</td>\n",
       "    </tr>\n",
       "    <tr>\n",
       "      <th>6</th>\n",
       "      <td>hand pump</td>\n",
       "      <td>hand pump</td>\n",
       "    </tr>\n",
       "    <tr>\n",
       "      <th>10</th>\n",
       "      <td>other</td>\n",
       "      <td>other</td>\n",
       "    </tr>\n",
       "    <tr>\n",
       "      <th>24</th>\n",
       "      <td>improved spring</td>\n",
       "      <td>improved spring</td>\n",
       "    </tr>\n",
       "    <tr>\n",
       "      <th>828</th>\n",
       "      <td>cattle trough</td>\n",
       "      <td>cattle trough</td>\n",
       "    </tr>\n",
       "    <tr>\n",
       "      <th>5814</th>\n",
       "      <td>dam</td>\n",
       "      <td>dam</td>\n",
       "    </tr>\n",
       "  </tbody>\n",
       "</table>\n",
       "</div>"
      ],
      "text/plain": [
       "                  waterpoint_type waterpoint_type_group\n",
       "0              communal standpipe    communal standpipe\n",
       "2     communal standpipe multiple    communal standpipe\n",
       "6                       hand pump             hand pump\n",
       "10                          other                 other\n",
       "24                improved spring       improved spring\n",
       "828                 cattle trough         cattle trough\n",
       "5814                          dam                   dam"
      ]
     },
     "execution_count": 72,
     "metadata": {},
     "output_type": "execute_result"
    }
   ],
   "source": [
    "df_train[['waterpoint_type','waterpoint_type_group']].drop_duplicates()"
   ]
  },
  {
   "cell_type": "code",
   "execution_count": 73,
   "metadata": {},
   "outputs": [
    {
     "data": {
      "text/plain": [
       "communal standpipe             28522\n",
       "hand pump                      17488\n",
       "other                           6380\n",
       "communal standpipe multiple     6103\n",
       "improved spring                  784\n",
       "cattle trough                    116\n",
       "dam                                7\n",
       "Name: waterpoint_type, dtype: int64"
      ]
     },
     "execution_count": 73,
     "metadata": {},
     "output_type": "execute_result"
    }
   ],
   "source": [
    "df_train.waterpoint_type.value_counts()"
   ]
  },
  {
   "cell_type": "code",
   "execution_count": 74,
   "metadata": {},
   "outputs": [
    {
     "data": {
      "text/plain": [
       "communal standpipe    34625\n",
       "hand pump             17488\n",
       "other                  6380\n",
       "improved spring         784\n",
       "cattle trough           116\n",
       "dam                       7\n",
       "Name: waterpoint_type_group, dtype: int64"
      ]
     },
     "execution_count": 74,
     "metadata": {},
     "output_type": "execute_result"
    }
   ],
   "source": [
    "df_train.waterpoint_type_group.value_counts()"
   ]
  },
  {
   "cell_type": "code",
   "execution_count": 75,
   "metadata": {},
   "outputs": [
    {
     "data": {
      "text/plain": [
       "(0, 0)"
      ]
     },
     "execution_count": 75,
     "metadata": {},
     "output_type": "execute_result"
    }
   ],
   "source": [
    "df_train.waterpoint_type.isnull().sum(),df_train.waterpoint_type_group.isnull().sum()"
   ]
  },
  {
   "cell_type": "code",
   "execution_count": 76,
   "metadata": {},
   "outputs": [
    {
     "data": {
      "text/plain": [
       "<matplotlib.axes._subplots.AxesSubplot at 0x25f2623a948>"
      ]
     },
     "execution_count": 76,
     "metadata": {},
     "output_type": "execute_result"
    },
    {
     "data": {
      "image/png": "[encoded data removed]",
      "text/plain": [
       "<Figure size 1512x1368 with 2 Axes>"
      ]
     },
     "metadata": {
      "needs_background": "light"
     },
     "output_type": "display_data"
    }
   ],
   "source": [
    "fig = plt.figure(figsize=(21,19))\n",
    "gs = fig.add_gridspec(2, 1)\n",
    "ax0 = fig.add_subplot(gs[0,0])\n",
    "ax1 = fig.add_subplot(gs[1,0])\n",
    "sns.countplot(x='waterpoint_type', hue='status_group', data=df_train, ax=ax0)\n",
    "sns.countplot(x='waterpoint_type_group', hue='status_group', data=df_train, ax=ax1)"
   ]
  },
  {
   "cell_type": "code",
   "execution_count": 77,
   "metadata": {},
   "outputs": [
    {
     "data": {
      "text/plain": [
       "['district_code',\n",
       " 'basin',\n",
       " 'region',\n",
       " 'region_code',\n",
       " 'public_meeting_label',\n",
       " 'scheme_management_label',\n",
       " 'permit_label',\n",
       " 'extraction_type_group',\n",
       " 'extraction_type_class',\n",
       " 'extraction_type',\n",
       " 'management',\n",
       " 'management_group',\n",
       " 'payment',\n",
       " 'payment_type',\n",
       " 'water_quality',\n",
       " 'quality_group',\n",
       " 'quantity',\n",
       " 'source',\n",
       " 'source_class',\n",
       " 'source_type',\n",
       " 'waterpoint_type',\n",
       " 'waterpoint_type_group']"
      ]
     },
     "execution_count": 77,
     "metadata": {},
     "output_type": "execute_result"
    }
   ],
   "source": [
    "global_base_features.append('waterpoint_type')\n",
    "global_base_features.append('waterpoint_type_group')\n",
    "global_base_features"
   ]
  },
  {
   "cell_type": "markdown",
   "metadata": {},
   "source": [
    "# numeric features"
   ]
  },
  {
   "cell_type": "code",
   "execution_count": 78,
   "metadata": {},
   "outputs": [
    {
     "name": "stdout",
     "output_type": "stream",
     "text": [
      "<class 'pandas.core.frame.DataFrame'>\n",
      "Int64Index: 59400 entries, 0 to 59399\n",
      "Data columns (total 11 columns):\n",
      " #   Column                   Non-Null Count  Dtype  \n",
      "---  ------                   --------------  -----  \n",
      " 0   id                       59400 non-null  int64  \n",
      " 1   amount_tsh               59400 non-null  float64\n",
      " 2   gps_height               59400 non-null  int64  \n",
      " 3   longitude                59400 non-null  float64\n",
      " 4   latitude                 59400 non-null  float64\n",
      " 5   num_private              59400 non-null  int64  \n",
      " 6   population               59400 non-null  int64  \n",
      " 7   construction_year        59400 non-null  int64  \n",
      " 8   public_meeting_label     59400 non-null  int32  \n",
      " 9   scheme_management_label  59400 non-null  int32  \n",
      " 10  permit_label             59400 non-null  int32  \n",
      "dtypes: float64(3), int32(3), int64(5)\n",
      "memory usage: 7.3 MB\n"
     ]
    }
   ],
   "source": [
    "df_numeric_ = df_train.select_dtypes(include='number')\n",
    "numeric_cols = df_numeric_.columns\n",
    "df_numeric_.info()\n",
    "del df_numeric_"
   ]
  },
  {
   "cell_type": "markdown",
   "metadata": {},
   "source": [
    "- id: obviously, we won't delete    \n",
    "- amount_tsh, let's see what it has and we will, plan accordingly"
   ]
  },
  {
   "cell_type": "code",
   "execution_count": 79,
   "metadata": {},
   "outputs": [
    {
     "data": {
      "text/html": [
       "<div>\n",
       "<style scoped>\n",
       "    .dataframe tbody tr th:only-of-type {\n",
       "        vertical-align: middle;\n",
       "    }\n",
       "\n",
       "    .dataframe tbody tr th {\n",
       "        vertical-align: top;\n",
       "    }\n",
       "\n",
       "    .dataframe thead th {\n",
       "        text-align: right;\n",
       "    }\n",
       "</style>\n",
       "<table border=\"1\" class=\"dataframe\">\n",
       "  <thead>\n",
       "    <tr style=\"text-align: right;\">\n",
       "      <th></th>\n",
       "      <th>count</th>\n",
       "      <th>mean</th>\n",
       "      <th>std</th>\n",
       "      <th>min</th>\n",
       "      <th>25%</th>\n",
       "      <th>50%</th>\n",
       "      <th>75%</th>\n",
       "      <th>max</th>\n",
       "    </tr>\n",
       "  </thead>\n",
       "  <tbody>\n",
       "    <tr>\n",
       "      <th>id</th>\n",
       "      <td>59400.0</td>\n",
       "      <td>37115.131768</td>\n",
       "      <td>21453.128371</td>\n",
       "      <td>0.00000</td>\n",
       "      <td>18519.750000</td>\n",
       "      <td>37061.500000</td>\n",
       "      <td>55656.500000</td>\n",
       "      <td>7.424700e+04</td>\n",
       "    </tr>\n",
       "    <tr>\n",
       "      <th>amount_tsh</th>\n",
       "      <td>59400.0</td>\n",
       "      <td>317.650385</td>\n",
       "      <td>2997.574558</td>\n",
       "      <td>0.00000</td>\n",
       "      <td>0.000000</td>\n",
       "      <td>0.000000</td>\n",
       "      <td>20.000000</td>\n",
       "      <td>3.500000e+05</td>\n",
       "    </tr>\n",
       "    <tr>\n",
       "      <th>gps_height</th>\n",
       "      <td>59400.0</td>\n",
       "      <td>668.297239</td>\n",
       "      <td>693.116350</td>\n",
       "      <td>-90.00000</td>\n",
       "      <td>0.000000</td>\n",
       "      <td>369.000000</td>\n",
       "      <td>1319.250000</td>\n",
       "      <td>2.770000e+03</td>\n",
       "    </tr>\n",
       "    <tr>\n",
       "      <th>longitude</th>\n",
       "      <td>59400.0</td>\n",
       "      <td>34.077427</td>\n",
       "      <td>6.567432</td>\n",
       "      <td>0.00000</td>\n",
       "      <td>33.090347</td>\n",
       "      <td>34.908743</td>\n",
       "      <td>37.178387</td>\n",
       "      <td>4.034519e+01</td>\n",
       "    </tr>\n",
       "    <tr>\n",
       "      <th>latitude</th>\n",
       "      <td>59400.0</td>\n",
       "      <td>-5.706033</td>\n",
       "      <td>2.946019</td>\n",
       "      <td>-11.64944</td>\n",
       "      <td>-8.540621</td>\n",
       "      <td>-5.021597</td>\n",
       "      <td>-3.326156</td>\n",
       "      <td>-2.000000e-08</td>\n",
       "    </tr>\n",
       "    <tr>\n",
       "      <th>num_private</th>\n",
       "      <td>59400.0</td>\n",
       "      <td>0.474141</td>\n",
       "      <td>12.236230</td>\n",
       "      <td>0.00000</td>\n",
       "      <td>0.000000</td>\n",
       "      <td>0.000000</td>\n",
       "      <td>0.000000</td>\n",
       "      <td>1.776000e+03</td>\n",
       "    </tr>\n",
       "    <tr>\n",
       "      <th>population</th>\n",
       "      <td>59400.0</td>\n",
       "      <td>179.909983</td>\n",
       "      <td>471.482176</td>\n",
       "      <td>0.00000</td>\n",
       "      <td>0.000000</td>\n",
       "      <td>25.000000</td>\n",
       "      <td>215.000000</td>\n",
       "      <td>3.050000e+04</td>\n",
       "    </tr>\n",
       "    <tr>\n",
       "      <th>construction_year</th>\n",
       "      <td>59400.0</td>\n",
       "      <td>1300.652475</td>\n",
       "      <td>951.620547</td>\n",
       "      <td>0.00000</td>\n",
       "      <td>0.000000</td>\n",
       "      <td>1986.000000</td>\n",
       "      <td>2004.000000</td>\n",
       "      <td>2.013000e+03</td>\n",
       "    </tr>\n",
       "    <tr>\n",
       "      <th>public_meeting_label</th>\n",
       "      <td>59400.0</td>\n",
       "      <td>0.971027</td>\n",
       "      <td>0.374689</td>\n",
       "      <td>0.00000</td>\n",
       "      <td>1.000000</td>\n",
       "      <td>1.000000</td>\n",
       "      <td>1.000000</td>\n",
       "      <td>2.000000e+00</td>\n",
       "    </tr>\n",
       "    <tr>\n",
       "      <th>scheme_management_label</th>\n",
       "      <td>59400.0</td>\n",
       "      <td>7.540370</td>\n",
       "      <td>2.196393</td>\n",
       "      <td>0.00000</td>\n",
       "      <td>7.000000</td>\n",
       "      <td>7.000000</td>\n",
       "      <td>9.000000</td>\n",
       "      <td>1.200000e+01</td>\n",
       "    </tr>\n",
       "    <tr>\n",
       "      <th>permit_label</th>\n",
       "      <td>59400.0</td>\n",
       "      <td>0.756970</td>\n",
       "      <td>0.535600</td>\n",
       "      <td>0.00000</td>\n",
       "      <td>0.000000</td>\n",
       "      <td>1.000000</td>\n",
       "      <td>1.000000</td>\n",
       "      <td>2.000000e+00</td>\n",
       "    </tr>\n",
       "  </tbody>\n",
       "</table>\n",
       "</div>"
      ],
      "text/plain": [
       "                           count          mean           std       min  \\\n",
       "id                       59400.0  37115.131768  21453.128371   0.00000   \n",
       "amount_tsh               59400.0    317.650385   2997.574558   0.00000   \n",
       "gps_height               59400.0    668.297239    693.116350 -90.00000   \n",
       "longitude                59400.0     34.077427      6.567432   0.00000   \n",
       "latitude                 59400.0     -5.706033      2.946019 -11.64944   \n",
       "num_private              59400.0      0.474141     12.236230   0.00000   \n",
       "population               59400.0    179.909983    471.482176   0.00000   \n",
       "construction_year        59400.0   1300.652475    951.620547   0.00000   \n",
       "public_meeting_label     59400.0      0.971027      0.374689   0.00000   \n",
       "scheme_management_label  59400.0      7.540370      2.196393   0.00000   \n",
       "permit_label             59400.0      0.756970      0.535600   0.00000   \n",
       "\n",
       "                                  25%           50%           75%  \\\n",
       "id                       18519.750000  37061.500000  55656.500000   \n",
       "amount_tsh                   0.000000      0.000000     20.000000   \n",
       "gps_height                   0.000000    369.000000   1319.250000   \n",
       "longitude                   33.090347     34.908743     37.178387   \n",
       "latitude                    -8.540621     -5.021597     -3.326156   \n",
       "num_private                  0.000000      0.000000      0.000000   \n",
       "population                   0.000000     25.000000    215.000000   \n",
       "construction_year            0.000000   1986.000000   2004.000000   \n",
       "public_meeting_label         1.000000      1.000000      1.000000   \n",
       "scheme_management_label      7.000000      7.000000      9.000000   \n",
       "permit_label                 0.000000      1.000000      1.000000   \n",
       "\n",
       "                                  max  \n",
       "id                       7.424700e+04  \n",
       "amount_tsh               3.500000e+05  \n",
       "gps_height               2.770000e+03  \n",
       "longitude                4.034519e+01  \n",
       "latitude                -2.000000e-08  \n",
       "num_private              1.776000e+03  \n",
       "population               3.050000e+04  \n",
       "construction_year        2.013000e+03  \n",
       "public_meeting_label     2.000000e+00  \n",
       "scheme_management_label  1.200000e+01  \n",
       "permit_label             2.000000e+00  "
      ]
     },
     "execution_count": 79,
     "metadata": {},
     "output_type": "execute_result"
    }
   ],
   "source": [
    "df_train[numeric_cols].describe().T"
   ]
  },
  {
   "cell_type": "markdown",
   "metadata": {},
   "source": [
    "### checking on the population"
   ]
  },
  {
   "cell_type": "code",
   "execution_count": 80,
   "metadata": {},
   "outputs": [
    {
     "data": {
      "text/plain": [
       "(30500, 0)"
      ]
     },
     "execution_count": 80,
     "metadata": {},
     "output_type": "execute_result"
    }
   ],
   "source": [
    "df_train.population.max(),df_train.population.min()"
   ]
  },
  {
   "cell_type": "code",
   "execution_count": 81,
   "metadata": {},
   "outputs": [
    {
     "data": {
      "text/plain": [
       "<matplotlib.axes._subplots.AxesSubplot at 0x25f28a66e48>"
      ]
     },
     "execution_count": 81,
     "metadata": {},
     "output_type": "execute_result"
    },
    {
     "data": {
      "image/png": "[encoded data removed]",
      "text/plain": [
       "<Figure size 936x360 with 1 Axes>"
      ]
     },
     "metadata": {
      "needs_background": "light"
     },
     "output_type": "display_data"
    }
   ],
   "source": [
    "plt.figure(figsize=(13,5))\n",
    "sns.boxenplot(df_train['population'])"
   ]
  },
  {
   "cell_type": "markdown",
   "metadata": {},
   "source": [
    "the population of 30500 may seem an outlier, unless we investigate on it"
   ]
  },
  {
   "cell_type": "code",
   "execution_count": 82,
   "metadata": {},
   "outputs": [
    {
     "data": {
      "text/html": [
       "<div>\n",
       "<style scoped>\n",
       "    .dataframe tbody tr th:only-of-type {\n",
       "        vertical-align: middle;\n",
       "    }\n",
       "\n",
       "    .dataframe tbody tr th {\n",
       "        vertical-align: top;\n",
       "    }\n",
       "\n",
       "    .dataframe thead th {\n",
       "        text-align: right;\n",
       "    }\n",
       "</style>\n",
       "<table border=\"1\" class=\"dataframe\">\n",
       "  <thead>\n",
       "    <tr style=\"text-align: right;\">\n",
       "      <th></th>\n",
       "      <th>population</th>\n",
       "      <th>region</th>\n",
       "      <th>region_code</th>\n",
       "      <th>district_code</th>\n",
       "      <th>wpt_name</th>\n",
       "    </tr>\n",
       "  </thead>\n",
       "  <tbody>\n",
       "    <tr>\n",
       "      <th>14308</th>\n",
       "      <td>15300</td>\n",
       "      <td>Manyara</td>\n",
       "      <td>21</td>\n",
       "      <td>5</td>\n",
       "      <td>Mashineni</td>\n",
       "    </tr>\n",
       "    <tr>\n",
       "      <th>30537</th>\n",
       "      <td>30500</td>\n",
       "      <td>Tanga</td>\n",
       "      <td>4</td>\n",
       "      <td>3</td>\n",
       "      <td>Mkwajuni</td>\n",
       "    </tr>\n",
       "  </tbody>\n",
       "</table>\n",
       "</div>"
      ],
      "text/plain": [
       "       population   region region_code district_code   wpt_name\n",
       "14308       15300  Manyara          21             5  Mashineni\n",
       "30537       30500    Tanga           4             3   Mkwajuni"
      ]
     },
     "execution_count": 82,
     "metadata": {},
     "output_type": "execute_result"
    }
   ],
   "source": [
    "df_train[df_train['population']>15000][['population','region','region_code','district_code','wpt_name']]"
   ]
  },
  {
   "cell_type": "code",
   "execution_count": 83,
   "metadata": {},
   "outputs": [
    {
     "data": {
      "text/plain": [
       "503043"
      ]
     },
     "execution_count": 83,
     "metadata": {},
     "output_type": "execute_result"
    }
   ],
   "source": [
    "df_train[df_train['region']=='Manyara'].population.sum()"
   ]
  },
  {
   "cell_type": "code",
   "execution_count": 84,
   "metadata": {},
   "outputs": [
    {
     "data": {
      "text/plain": [
       "628482"
      ]
     },
     "execution_count": 84,
     "metadata": {},
     "output_type": "execute_result"
    }
   ],
   "source": [
    "df_train[df_train['region']=='Tanga'].population.sum()"
   ]
  },
  {
   "cell_type": "markdown",
   "metadata": {},
   "source": [
    "confirmed through a little google, that the population seems to be ok."
   ]
  },
  {
   "cell_type": "markdown",
   "metadata": {},
   "source": [
    "### population by region "
   ]
  },
  {
   "cell_type": "code",
   "execution_count": 85,
   "metadata": {},
   "outputs": [],
   "source": [
    "gb_population_region = df_train.groupby(['region'],as_index=False).population.sum()"
   ]
  },
  {
   "cell_type": "code",
   "execution_count": 86,
   "metadata": {},
   "outputs": [
    {
     "data": {
      "text/plain": [
       "<matplotlib.axes._subplots.AxesSubplot at 0x25f28ff71c8>"
      ]
     },
     "execution_count": 86,
     "metadata": {},
     "output_type": "execute_result"
    },
    {
     "data": {
      "image/png": "[encoded data removed]",
      "text/plain": [
       "<Figure size 1224x648 with 1 Axes>"
      ]
     },
     "metadata": {
      "needs_background": "light"
     },
     "output_type": "display_data"
    }
   ],
   "source": [
    "plt.figure(figsize=(17,9))\n",
    "sns.barplot(x='population',y='region',data=gb_population_region)"
   ]
  },
  {
   "cell_type": "markdown",
   "metadata": {},
   "source": [
    "so obviously, there are region with bigger population like Kigoma than there are regions such as Tabora and Shinyanga etc. \n",
    "more population means normally lesser resources and more usuage, and more usage tends to more non-functional or at least functional-needs-repair status. \n",
    "\n",
    "but let's try to see what are the facts for those regions which are densly populated.\n",
    "\n",
    "\n",
    "**checking on the region and status group**"
   ]
  },
  {
   "cell_type": "code",
   "execution_count": 87,
   "metadata": {},
   "outputs": [
    {
     "data": {
      "text/plain": [
       "<matplotlib.axes._subplots.AxesSubplot at 0x25f290f8208>"
      ]
     },
     "execution_count": 87,
     "metadata": {},
     "output_type": "execute_result"
    },
    {
     "data": {
      "image/png": "[encoded data removed]",
      "text/plain": [
       "<Figure size 792x2232 with 1 Axes>"
      ]
     },
     "metadata": {
      "needs_background": "light"
     },
     "output_type": "display_data"
    }
   ],
   "source": [
    "plt.figure(figsize=(11,31))\n",
    "sns.countplot(y=df_train['region'], \n",
    "              hue=df_train['status_group'],\n",
    "              palette=['#59cf98','#ed3821','#FAAE7B'])"
   ]
  },
  {
   "cell_type": "code",
   "execution_count": 88,
   "metadata": {},
   "outputs": [],
   "source": [
    "gb_population_region['f_perc'] =\\\n",
    "gb_population_region['region'].apply(lambda x: \\\n",
    "(len(df_train[(df_train['region']==x)\\\n",
    "& (df_train['status_group']=='functional')]) / len(df_train[df_train['region']==x])*100 )) \n",
    "\n",
    "\n",
    "gb_population_region['nf_perc'] =\\\n",
    "gb_population_region['region'].apply(lambda x: \\\n",
    "(len(df_train[(df_train['region']==x)\\\n",
    "& (df_train['status_group']=='non functional')]) / len(df_train[df_train['region']==x])*100 )) \n",
    "\n",
    "\n",
    "gb_population_region['fr_perc'] =\\\n",
    "gb_population_region['region'].apply(lambda x: \\\n",
    "(len(df_train[(df_train['region']==x)\\\n",
    "& (df_train['status_group']=='functional needs repair')]) / len(df_train[df_train['region']==x])*100 )) "
   ]
  },
  {
   "cell_type": "code",
   "execution_count": 89,
   "metadata": {},
   "outputs": [],
   "source": [
    "gb_population_region['f_perc'] = gb_population_region['f_perc'].astype('float16')\n",
    "gb_population_region['nf_perc'] = gb_population_region['nf_perc'].astype('float16')\n",
    "gb_population_region['fr_perc'] = gb_population_region['fr_perc'].astype('float16')"
   ]
  },
  {
   "cell_type": "code",
   "execution_count": 90,
   "metadata": {},
   "outputs": [
    {
     "data": {
      "text/html": [
       "<div>\n",
       "<style scoped>\n",
       "    .dataframe tbody tr th:only-of-type {\n",
       "        vertical-align: middle;\n",
       "    }\n",
       "\n",
       "    .dataframe tbody tr th {\n",
       "        vertical-align: top;\n",
       "    }\n",
       "\n",
       "    .dataframe thead th {\n",
       "        text-align: right;\n",
       "    }\n",
       "</style>\n",
       "<table border=\"1\" class=\"dataframe\">\n",
       "  <thead>\n",
       "    <tr style=\"text-align: right;\">\n",
       "      <th></th>\n",
       "      <th>region</th>\n",
       "      <th>population</th>\n",
       "      <th>f_perc</th>\n",
       "      <th>nf_perc</th>\n",
       "      <th>fr_perc</th>\n",
       "    </tr>\n",
       "  </thead>\n",
       "  <tbody>\n",
       "    <tr>\n",
       "      <th>3</th>\n",
       "      <td>Iringa</td>\n",
       "      <td>499247</td>\n",
       "      <td>78.25000</td>\n",
       "      <td>19.453125</td>\n",
       "      <td>2.324219</td>\n",
       "    </tr>\n",
       "    <tr>\n",
       "      <th>0</th>\n",
       "      <td>Arusha</td>\n",
       "      <td>878501</td>\n",
       "      <td>68.50000</td>\n",
       "      <td>26.296875</td>\n",
       "      <td>5.222656</td>\n",
       "    </tr>\n",
       "    <tr>\n",
       "      <th>8</th>\n",
       "      <td>Manyara</td>\n",
       "      <td>503043</td>\n",
       "      <td>62.34375</td>\n",
       "      <td>31.578125</td>\n",
       "      <td>6.062500</td>\n",
       "    </tr>\n",
       "    <tr>\n",
       "      <th>6</th>\n",
       "      <td>Kilimanjaro</td>\n",
       "      <td>463070</td>\n",
       "      <td>60.28125</td>\n",
       "      <td>32.343750</td>\n",
       "      <td>7.351562</td>\n",
       "    </tr>\n",
       "    <tr>\n",
       "      <th>14</th>\n",
       "      <td>Pwani</td>\n",
       "      <td>920896</td>\n",
       "      <td>59.06250</td>\n",
       "      <td>39.593750</td>\n",
       "      <td>1.366211</td>\n",
       "    </tr>\n",
       "    <tr>\n",
       "      <th>1</th>\n",
       "      <td>Dar es Salaam</td>\n",
       "      <td>193879</td>\n",
       "      <td>57.28125</td>\n",
       "      <td>42.375000</td>\n",
       "      <td>0.372559</td>\n",
       "    </tr>\n",
       "    <tr>\n",
       "      <th>20</th>\n",
       "      <td>Tanga</td>\n",
       "      <td>628482</td>\n",
       "      <td>56.37500</td>\n",
       "      <td>40.750000</td>\n",
       "      <td>2.865234</td>\n",
       "    </tr>\n",
       "    <tr>\n",
       "      <th>16</th>\n",
       "      <td>Ruvuma</td>\n",
       "      <td>525411</td>\n",
       "      <td>56.06250</td>\n",
       "      <td>37.718750</td>\n",
       "      <td>6.210938</td>\n",
       "    </tr>\n",
       "    <tr>\n",
       "      <th>17</th>\n",
       "      <td>Shinyanga</td>\n",
       "      <td>70251</td>\n",
       "      <td>55.96875</td>\n",
       "      <td>31.265625</td>\n",
       "      <td>12.742188</td>\n",
       "    </tr>\n",
       "    <tr>\n",
       "      <th>11</th>\n",
       "      <td>Morogoro</td>\n",
       "      <td>1060090</td>\n",
       "      <td>52.90625</td>\n",
       "      <td>39.625000</td>\n",
       "      <td>7.488281</td>\n",
       "    </tr>\n",
       "    <tr>\n",
       "      <th>4</th>\n",
       "      <td>Kagera</td>\n",
       "      <td>0</td>\n",
       "      <td>52.09375</td>\n",
       "      <td>38.750000</td>\n",
       "      <td>9.164062</td>\n",
       "    </tr>\n",
       "    <tr>\n",
       "      <th>10</th>\n",
       "      <td>Mbeya</td>\n",
       "      <td>0</td>\n",
       "      <td>50.00000</td>\n",
       "      <td>39.156250</td>\n",
       "      <td>10.867188</td>\n",
       "    </tr>\n",
       "    <tr>\n",
       "      <th>5</th>\n",
       "      <td>Kigoma</td>\n",
       "      <td>1408681</td>\n",
       "      <td>48.40625</td>\n",
       "      <td>30.187500</td>\n",
       "      <td>21.406250</td>\n",
       "    </tr>\n",
       "    <tr>\n",
       "      <th>13</th>\n",
       "      <td>Mwanza</td>\n",
       "      <td>202610</td>\n",
       "      <td>48.40625</td>\n",
       "      <td>45.687500</td>\n",
       "      <td>5.898438</td>\n",
       "    </tr>\n",
       "    <tr>\n",
       "      <th>18</th>\n",
       "      <td>Singida</td>\n",
       "      <td>584203</td>\n",
       "      <td>48.31250</td>\n",
       "      <td>45.593750</td>\n",
       "      <td>6.117188</td>\n",
       "    </tr>\n",
       "    <tr>\n",
       "      <th>2</th>\n",
       "      <td>Dodoma</td>\n",
       "      <td>0</td>\n",
       "      <td>45.84375</td>\n",
       "      <td>44.656250</td>\n",
       "      <td>9.492188</td>\n",
       "    </tr>\n",
       "    <tr>\n",
       "      <th>9</th>\n",
       "      <td>Mara</td>\n",
       "      <td>1060886</td>\n",
       "      <td>45.00000</td>\n",
       "      <td>51.968750</td>\n",
       "      <td>3.046875</td>\n",
       "    </tr>\n",
       "    <tr>\n",
       "      <th>19</th>\n",
       "      <td>Tabora</td>\n",
       "      <td>0</td>\n",
       "      <td>43.28125</td>\n",
       "      <td>54.406250</td>\n",
       "      <td>2.296875</td>\n",
       "    </tr>\n",
       "    <tr>\n",
       "      <th>15</th>\n",
       "      <td>Rukwa</td>\n",
       "      <td>661359</td>\n",
       "      <td>39.09375</td>\n",
       "      <td>53.437500</td>\n",
       "      <td>7.468750</td>\n",
       "    </tr>\n",
       "    <tr>\n",
       "      <th>12</th>\n",
       "      <td>Mtwara</td>\n",
       "      <td>462674</td>\n",
       "      <td>30.28125</td>\n",
       "      <td>62.437500</td>\n",
       "      <td>7.285156</td>\n",
       "    </tr>\n",
       "    <tr>\n",
       "      <th>7</th>\n",
       "      <td>Lindi</td>\n",
       "      <td>563370</td>\n",
       "      <td>29.75000</td>\n",
       "      <td>64.250000</td>\n",
       "      <td>6.015625</td>\n",
       "    </tr>\n",
       "  </tbody>\n",
       "</table>\n",
       "</div>"
      ],
      "text/plain": [
       "           region  population    f_perc    nf_perc    fr_perc\n",
       "3          Iringa      499247  78.25000  19.453125   2.324219\n",
       "0          Arusha      878501  68.50000  26.296875   5.222656\n",
       "8         Manyara      503043  62.34375  31.578125   6.062500\n",
       "6     Kilimanjaro      463070  60.28125  32.343750   7.351562\n",
       "14          Pwani      920896  59.06250  39.593750   1.366211\n",
       "1   Dar es Salaam      193879  57.28125  42.375000   0.372559\n",
       "20          Tanga      628482  56.37500  40.750000   2.865234\n",
       "16         Ruvuma      525411  56.06250  37.718750   6.210938\n",
       "17      Shinyanga       70251  55.96875  31.265625  12.742188\n",
       "11       Morogoro     1060090  52.90625  39.625000   7.488281\n",
       "4          Kagera           0  52.09375  38.750000   9.164062\n",
       "10          Mbeya           0  50.00000  39.156250  10.867188\n",
       "5          Kigoma     1408681  48.40625  30.187500  21.406250\n",
       "13         Mwanza      202610  48.40625  45.687500   5.898438\n",
       "18        Singida      584203  48.31250  45.593750   6.117188\n",
       "2          Dodoma           0  45.84375  44.656250   9.492188\n",
       "9            Mara     1060886  45.00000  51.968750   3.046875\n",
       "19         Tabora           0  43.28125  54.406250   2.296875\n",
       "15          Rukwa      661359  39.09375  53.437500   7.468750\n",
       "12         Mtwara      462674  30.28125  62.437500   7.285156\n",
       "7           Lindi      563370  29.75000  64.250000   6.015625"
      ]
     },
     "execution_count": 90,
     "metadata": {},
     "output_type": "execute_result"
    }
   ],
   "source": [
    "gb_population_region.sort_values(by='f_perc', ascending=False)"
   ]
  },
  {
   "cell_type": "markdown",
   "metadata": {},
   "source": [
    "### comparing functional vs non functional for region"
   ]
  },
  {
   "cell_type": "code",
   "execution_count": 91,
   "metadata": {},
   "outputs": [
    {
     "name": "stderr",
     "output_type": "stream",
     "text": [
      "C:\\ProgramData\\Anaconda3\\lib\\site-packages\\ipykernel_launcher.py:3: MatplotlibDeprecationWarning: Adding an axes using the same arguments as a previous axes currently reuses the earlier instance.  In a future version, a new instance will always be created and returned.  Meanwhile, this warning can be suppressed, and the future behavior ensured, by passing a unique label to each axes instance.\n",
      "  This is separate from the ipykernel package so we can avoid doing imports until\n"
     ]
    },
    {
     "data": {
      "text/plain": [
       "<BarContainer object of 21 artists>"
      ]
     },
     "execution_count": 91,
     "metadata": {},
     "output_type": "execute_result"
    },
    {
     "data": {
      "image/png": "[encoded data removed]",
      "text/plain": [
       "<Figure size 792x1512 with 1 Axes>"
      ]
     },
     "metadata": {
      "needs_background": "light"
     },
     "output_type": "display_data"
    }
   ],
   "source": [
    "fig = plt.figure(figsize=(11,21))\n",
    "ax = fig.add_subplot()\n",
    "ax1 = fig.add_subplot()\n",
    "ax.barh(gb_population_region['region'],gb_population_region['f_perc'] ,zorder=3, color='#59cf98')\n",
    "ax1.barh(gb_population_region['region'],gb_population_region['nf_perc'] ,zorder=3, height=0.1,color='#ed3821')"
   ]
  },
  {
   "cell_type": "markdown",
   "metadata": {},
   "source": [
    "this summarizes that we can create feature called **region_performance** as \n",
    "- poor (f_per <= 45)\n",
    "- average (f_per >45 <=55)\n",
    "- good (f_per > 55)"
   ]
  },
  {
   "cell_type": "code",
   "execution_count": 92,
   "metadata": {},
   "outputs": [],
   "source": [
    "global_new_feat.append('region_perf')"
   ]
  },
  {
   "cell_type": "code",
   "execution_count": 93,
   "metadata": {},
   "outputs": [
    {
     "data": {
      "text/plain": [
       "['district_code',\n",
       " 'basin',\n",
       " 'region',\n",
       " 'region_code',\n",
       " 'public_meeting_label',\n",
       " 'scheme_management_label',\n",
       " 'permit_label',\n",
       " 'extraction_type_group',\n",
       " 'extraction_type_class',\n",
       " 'extraction_type',\n",
       " 'management',\n",
       " 'management_group',\n",
       " 'payment',\n",
       " 'payment_type',\n",
       " 'water_quality',\n",
       " 'quality_group',\n",
       " 'quantity',\n",
       " 'source',\n",
       " 'source_class',\n",
       " 'source_type',\n",
       " 'waterpoint_type',\n",
       " 'waterpoint_type_group',\n",
       " 'population']"
      ]
     },
     "execution_count": 93,
     "metadata": {},
     "output_type": "execute_result"
    }
   ],
   "source": [
    "global_base_features.append('population')\n",
    "global_cols_to_del.append('population')\n",
    "global_base_features"
   ]
  },
  {
   "cell_type": "code",
   "execution_count": 94,
   "metadata": {},
   "outputs": [
    {
     "data": {
      "text/plain": [
       "['region_perf']"
      ]
     },
     "execution_count": 94,
     "metadata": {},
     "output_type": "execute_result"
    }
   ],
   "source": [
    "global_new_feat"
   ]
  },
  {
   "cell_type": "markdown",
   "metadata": {},
   "source": [
    "while when we sort these by region, we don't get any feeling that the population has to do anything for the status group\n",
    "\n",
    "in fact, there are certain regions where the population is 0, that is the population is not recorded. \n",
    "\n",
    "which leaves us but one choice at the moment, which is not to use the population feature for our model.\n"
   ]
  },
  {
   "cell_type": "code",
   "execution_count": 95,
   "metadata": {},
   "outputs": [
    {
     "data": {
      "text/html": [
       "<div>\n",
       "<style scoped>\n",
       "    .dataframe tbody tr th:only-of-type {\n",
       "        vertical-align: middle;\n",
       "    }\n",
       "\n",
       "    .dataframe tbody tr th {\n",
       "        vertical-align: top;\n",
       "    }\n",
       "\n",
       "    .dataframe thead th {\n",
       "        text-align: right;\n",
       "    }\n",
       "</style>\n",
       "<table border=\"1\" class=\"dataframe\">\n",
       "  <thead>\n",
       "    <tr style=\"text-align: right;\">\n",
       "      <th></th>\n",
       "      <th>region</th>\n",
       "      <th>population</th>\n",
       "      <th>f_perc</th>\n",
       "      <th>nf_perc</th>\n",
       "      <th>fr_perc</th>\n",
       "    </tr>\n",
       "  </thead>\n",
       "  <tbody>\n",
       "    <tr>\n",
       "      <th>5</th>\n",
       "      <td>Kigoma</td>\n",
       "      <td>1408681</td>\n",
       "      <td>48.40625</td>\n",
       "      <td>30.187500</td>\n",
       "      <td>21.406250</td>\n",
       "    </tr>\n",
       "    <tr>\n",
       "      <th>9</th>\n",
       "      <td>Mara</td>\n",
       "      <td>1060886</td>\n",
       "      <td>45.00000</td>\n",
       "      <td>51.968750</td>\n",
       "      <td>3.046875</td>\n",
       "    </tr>\n",
       "    <tr>\n",
       "      <th>11</th>\n",
       "      <td>Morogoro</td>\n",
       "      <td>1060090</td>\n",
       "      <td>52.90625</td>\n",
       "      <td>39.625000</td>\n",
       "      <td>7.488281</td>\n",
       "    </tr>\n",
       "    <tr>\n",
       "      <th>14</th>\n",
       "      <td>Pwani</td>\n",
       "      <td>920896</td>\n",
       "      <td>59.06250</td>\n",
       "      <td>39.593750</td>\n",
       "      <td>1.366211</td>\n",
       "    </tr>\n",
       "    <tr>\n",
       "      <th>0</th>\n",
       "      <td>Arusha</td>\n",
       "      <td>878501</td>\n",
       "      <td>68.50000</td>\n",
       "      <td>26.296875</td>\n",
       "      <td>5.222656</td>\n",
       "    </tr>\n",
       "    <tr>\n",
       "      <th>15</th>\n",
       "      <td>Rukwa</td>\n",
       "      <td>661359</td>\n",
       "      <td>39.09375</td>\n",
       "      <td>53.437500</td>\n",
       "      <td>7.468750</td>\n",
       "    </tr>\n",
       "    <tr>\n",
       "      <th>20</th>\n",
       "      <td>Tanga</td>\n",
       "      <td>628482</td>\n",
       "      <td>56.37500</td>\n",
       "      <td>40.750000</td>\n",
       "      <td>2.865234</td>\n",
       "    </tr>\n",
       "    <tr>\n",
       "      <th>18</th>\n",
       "      <td>Singida</td>\n",
       "      <td>584203</td>\n",
       "      <td>48.31250</td>\n",
       "      <td>45.593750</td>\n",
       "      <td>6.117188</td>\n",
       "    </tr>\n",
       "    <tr>\n",
       "      <th>7</th>\n",
       "      <td>Lindi</td>\n",
       "      <td>563370</td>\n",
       "      <td>29.75000</td>\n",
       "      <td>64.250000</td>\n",
       "      <td>6.015625</td>\n",
       "    </tr>\n",
       "    <tr>\n",
       "      <th>16</th>\n",
       "      <td>Ruvuma</td>\n",
       "      <td>525411</td>\n",
       "      <td>56.06250</td>\n",
       "      <td>37.718750</td>\n",
       "      <td>6.210938</td>\n",
       "    </tr>\n",
       "    <tr>\n",
       "      <th>8</th>\n",
       "      <td>Manyara</td>\n",
       "      <td>503043</td>\n",
       "      <td>62.34375</td>\n",
       "      <td>31.578125</td>\n",
       "      <td>6.062500</td>\n",
       "    </tr>\n",
       "    <tr>\n",
       "      <th>3</th>\n",
       "      <td>Iringa</td>\n",
       "      <td>499247</td>\n",
       "      <td>78.25000</td>\n",
       "      <td>19.453125</td>\n",
       "      <td>2.324219</td>\n",
       "    </tr>\n",
       "    <tr>\n",
       "      <th>6</th>\n",
       "      <td>Kilimanjaro</td>\n",
       "      <td>463070</td>\n",
       "      <td>60.28125</td>\n",
       "      <td>32.343750</td>\n",
       "      <td>7.351562</td>\n",
       "    </tr>\n",
       "    <tr>\n",
       "      <th>12</th>\n",
       "      <td>Mtwara</td>\n",
       "      <td>462674</td>\n",
       "      <td>30.28125</td>\n",
       "      <td>62.437500</td>\n",
       "      <td>7.285156</td>\n",
       "    </tr>\n",
       "    <tr>\n",
       "      <th>13</th>\n",
       "      <td>Mwanza</td>\n",
       "      <td>202610</td>\n",
       "      <td>48.40625</td>\n",
       "      <td>45.687500</td>\n",
       "      <td>5.898438</td>\n",
       "    </tr>\n",
       "    <tr>\n",
       "      <th>1</th>\n",
       "      <td>Dar es Salaam</td>\n",
       "      <td>193879</td>\n",
       "      <td>57.28125</td>\n",
       "      <td>42.375000</td>\n",
       "      <td>0.372559</td>\n",
       "    </tr>\n",
       "    <tr>\n",
       "      <th>17</th>\n",
       "      <td>Shinyanga</td>\n",
       "      <td>70251</td>\n",
       "      <td>55.96875</td>\n",
       "      <td>31.265625</td>\n",
       "      <td>12.742188</td>\n",
       "    </tr>\n",
       "    <tr>\n",
       "      <th>4</th>\n",
       "      <td>Kagera</td>\n",
       "      <td>0</td>\n",
       "      <td>52.09375</td>\n",
       "      <td>38.750000</td>\n",
       "      <td>9.164062</td>\n",
       "    </tr>\n",
       "    <tr>\n",
       "      <th>2</th>\n",
       "      <td>Dodoma</td>\n",
       "      <td>0</td>\n",
       "      <td>45.84375</td>\n",
       "      <td>44.656250</td>\n",
       "      <td>9.492188</td>\n",
       "    </tr>\n",
       "    <tr>\n",
       "      <th>19</th>\n",
       "      <td>Tabora</td>\n",
       "      <td>0</td>\n",
       "      <td>43.28125</td>\n",
       "      <td>54.406250</td>\n",
       "      <td>2.296875</td>\n",
       "    </tr>\n",
       "    <tr>\n",
       "      <th>10</th>\n",
       "      <td>Mbeya</td>\n",
       "      <td>0</td>\n",
       "      <td>50.00000</td>\n",
       "      <td>39.156250</td>\n",
       "      <td>10.867188</td>\n",
       "    </tr>\n",
       "  </tbody>\n",
       "</table>\n",
       "</div>"
      ],
      "text/plain": [
       "           region  population    f_perc    nf_perc    fr_perc\n",
       "5          Kigoma     1408681  48.40625  30.187500  21.406250\n",
       "9            Mara     1060886  45.00000  51.968750   3.046875\n",
       "11       Morogoro     1060090  52.90625  39.625000   7.488281\n",
       "14          Pwani      920896  59.06250  39.593750   1.366211\n",
       "0          Arusha      878501  68.50000  26.296875   5.222656\n",
       "15          Rukwa      661359  39.09375  53.437500   7.468750\n",
       "20          Tanga      628482  56.37500  40.750000   2.865234\n",
       "18        Singida      584203  48.31250  45.593750   6.117188\n",
       "7           Lindi      563370  29.75000  64.250000   6.015625\n",
       "16         Ruvuma      525411  56.06250  37.718750   6.210938\n",
       "8         Manyara      503043  62.34375  31.578125   6.062500\n",
       "3          Iringa      499247  78.25000  19.453125   2.324219\n",
       "6     Kilimanjaro      463070  60.28125  32.343750   7.351562\n",
       "12         Mtwara      462674  30.28125  62.437500   7.285156\n",
       "13         Mwanza      202610  48.40625  45.687500   5.898438\n",
       "1   Dar es Salaam      193879  57.28125  42.375000   0.372559\n",
       "17      Shinyanga       70251  55.96875  31.265625  12.742188\n",
       "4          Kagera           0  52.09375  38.750000   9.164062\n",
       "2          Dodoma           0  45.84375  44.656250   9.492188\n",
       "19         Tabora           0  43.28125  54.406250   2.296875\n",
       "10          Mbeya           0  50.00000  39.156250  10.867188"
      ]
     },
     "execution_count": 95,
     "metadata": {},
     "output_type": "execute_result"
    }
   ],
   "source": [
    "gb_population_region.sort_values(by='population', ascending=False)"
   ]
  },
  {
   "cell_type": "markdown",
   "metadata": {},
   "source": [
    "also, the bigger population is not even having higher percentage for functional-needs-repair for example **Mara** region which has second highest population bt only 3% of functional that needs repair, in contrast we hav **Shinyanga** region which is the smallest, but big number of funcational-needs-repair\n",
    "\n",
    "\n",
    "before we finally decide to put the population to columns_to_be_deleted, let's try this out w.r.t. to source type as well...\n",
    "\n",
    "### population by source type"
   ]
  },
  {
   "cell_type": "code",
   "execution_count": 96,
   "metadata": {},
   "outputs": [
    {
     "data": {
      "text/plain": [
       "<matplotlib.axes._subplots.AxesSubplot at 0x25f2a810108>"
      ]
     },
     "execution_count": 96,
     "metadata": {},
     "output_type": "execute_result"
    },
    {
     "data": {
      "image/png": "[encoded data removed]",
      "text/plain": [
       "<Figure size 936x648 with 1 Axes>"
      ]
     },
     "metadata": {
      "needs_background": "light"
     },
     "output_type": "display_data"
    }
   ],
   "source": [
    "plt.figure(figsize=(13,9))\n",
    "sns.boxenplot(x=df_train['population'], y=df_train['source_type'])"
   ]
  },
  {
   "cell_type": "markdown",
   "metadata": {},
   "source": [
    "above shows that the population for certain source type is bigger than other for example\n",
    "- shallow well and borehole kind of pumps are having bigger population\n",
    "- dam and other have smaller population data points\n",
    "\n",
    "what we should essentially see is that if there is some relationship between \n",
    "\n",
    "- 1: population and the status group (already seen above, when we check w.r.t. region)\n",
    "- 2: the source type and the status group    "
   ]
  },
  {
   "cell_type": "code",
   "execution_count": 97,
   "metadata": {},
   "outputs": [
    {
     "data": {
      "text/plain": [
       "functional                 49.476938\n",
       "non functional             44.834760\n",
       "functional needs repair     5.688302\n",
       "Name: status_group, dtype: float64"
      ]
     },
     "execution_count": 97,
     "metadata": {},
     "output_type": "execute_result"
    }
   ],
   "source": [
    "df_train[df_train['source_type']=='shallow well']\\\n",
    "['status_group'].value_counts()/len(df_train[df_train['source_type']=='shallow well'])*100"
   ]
  },
  {
   "cell_type": "code",
   "execution_count": 98,
   "metadata": {},
   "outputs": [
    {
     "data": {
      "text/plain": [
       "functional                 56.834532\n",
       "non functional             41.366906\n",
       "functional needs repair     1.798561\n",
       "Name: status_group, dtype: float64"
      ]
     },
     "execution_count": 98,
     "metadata": {},
     "output_type": "execute_result"
    }
   ],
   "source": [
    "df_train[df_train['source_type']=='other']\\\n",
    "['status_group'].value_counts()/len(df_train[df_train['source_type']=='other'])*100"
   ]
  },
  {
   "cell_type": "code",
   "execution_count": 99,
   "metadata": {},
   "outputs": [
    {
     "data": {
      "text/plain": [
       "functional                 62.229011\n",
       "non functional             30.274367\n",
       "functional needs repair     7.496622\n",
       "Name: status_group, dtype: float64"
      ]
     },
     "execution_count": 99,
     "metadata": {},
     "output_type": "execute_result"
    }
   ],
   "source": [
    "df_train[df_train['source_type']=='spring']\\\n",
    "['status_group'].value_counts()/len(df_train[df_train['source_type']=='spring'])*100"
   ]
  },
  {
   "cell_type": "code",
   "execution_count": 100,
   "metadata": {},
   "outputs": [],
   "source": [
    "df_train['status_group'] = df_train['status_group'].astype('object')"
   ]
  },
  {
   "cell_type": "code",
   "execution_count": 101,
   "metadata": {},
   "outputs": [
    {
     "data": {
      "text/plain": [
       "<matplotlib.axes._subplots.AxesSubplot at 0x25f2a8aca48>"
      ]
     },
     "execution_count": 101,
     "metadata": {},
     "output_type": "execute_result"
    },
    {
     "data": {
      "image/png": "[encoded data removed]",
      "text/plain": [
       "<Figure size 1224x792 with 1 Axes>"
      ]
     },
     "metadata": {
      "needs_background": "light"
     },
     "output_type": "display_data"
    }
   ],
   "source": [
    "plt.figure(figsize=(17,11))\n",
    "sns.countplot(x=df_train['source_type'], hue=df_train['status_group'],\n",
    "             palette=['#59cf98','#ed3821','#FAAE7B'])"
   ]
  },
  {
   "cell_type": "markdown",
   "metadata": {},
   "source": [
    "**I prefer to create a temporary dataset using the group by source_type for the sum of population, and adding the status_group percentage to that**"
   ]
  },
  {
   "cell_type": "code",
   "execution_count": 102,
   "metadata": {},
   "outputs": [],
   "source": [
    "df_tmp_stype = df_train.groupby(['source_type'], as_index=False).population.sum().sort_values(by='population', ascending=False)"
   ]
  },
  {
   "cell_type": "code",
   "execution_count": 103,
   "metadata": {},
   "outputs": [],
   "source": [
    "df_tmp_stype['nf_perc'] = \\\n",
    "df_tmp_stype['source_type'].apply(lambda x:\\\n",
    "                                 len(df_train[(df_train['source_type']==x) \\\n",
    "                                              & (df_train['status_group']=='non functional')])\\\n",
    "                                  /len(df_train[df_train['source_type']==x])*100)\n",
    "                                  \n",
    "    \n",
    "df_tmp_stype['f_perc'] = \\\n",
    "df_tmp_stype['source_type'].apply(lambda x:\\\n",
    "                                 len(df_train[(df_train['source_type']==x) \\\n",
    "                                              & (df_train['status_group']=='functional')])\\\n",
    "                                  /len(df_train[df_train['source_type']==x])*100)\n",
    "\n",
    "\n",
    "df_tmp_stype['fr_perc'] = \\\n",
    "df_tmp_stype['source_type'].apply(lambda x:\\\n",
    "                                 len(df_train[(df_train['source_type']==x) \\\n",
    "                                              & (df_train['status_group']=='functional needs repair')])\\\n",
    "                                  /len(df_train[df_train['source_type']==x])*100)\n"
   ]
  },
  {
   "cell_type": "code",
   "execution_count": 104,
   "metadata": {},
   "outputs": [],
   "source": [
    "df_tmp_stype['nf_perc'] = df_tmp_stype['nf_perc'].astype('float16')\n",
    "df_tmp_stype['f_perc'] = df_tmp_stype['f_perc'].astype('float16')\n",
    "df_tmp_stype['fr_perc'] = df_tmp_stype['fr_perc'].astype('float16')"
   ]
  },
  {
   "cell_type": "code",
   "execution_count": 105,
   "metadata": {},
   "outputs": [
    {
     "data": {
      "text/html": [
       "<div>\n",
       "<style scoped>\n",
       "    .dataframe tbody tr th:only-of-type {\n",
       "        vertical-align: middle;\n",
       "    }\n",
       "\n",
       "    .dataframe tbody tr th {\n",
       "        vertical-align: top;\n",
       "    }\n",
       "\n",
       "    .dataframe thead th {\n",
       "        text-align: right;\n",
       "    }\n",
       "</style>\n",
       "<table border=\"1\" class=\"dataframe\">\n",
       "  <thead>\n",
       "    <tr style=\"text-align: right;\">\n",
       "      <th></th>\n",
       "      <th>source_type</th>\n",
       "      <th>population</th>\n",
       "      <th>nf_perc</th>\n",
       "      <th>f_perc</th>\n",
       "      <th>fr_perc</th>\n",
       "    </tr>\n",
       "  </thead>\n",
       "  <tbody>\n",
       "    <tr>\n",
       "      <th>1</th>\n",
       "      <td>dam</td>\n",
       "      <td>175418</td>\n",
       "      <td>57.781250</td>\n",
       "      <td>38.56250</td>\n",
       "      <td>3.658203</td>\n",
       "    </tr>\n",
       "    <tr>\n",
       "      <th>0</th>\n",
       "      <td>borehole</td>\n",
       "      <td>2906899</td>\n",
       "      <td>46.218750</td>\n",
       "      <td>49.53125</td>\n",
       "      <td>4.250000</td>\n",
       "    </tr>\n",
       "    <tr>\n",
       "      <th>5</th>\n",
       "      <td>shallow well</td>\n",
       "      <td>2974262</td>\n",
       "      <td>44.843750</td>\n",
       "      <td>49.46875</td>\n",
       "      <td>5.687500</td>\n",
       "    </tr>\n",
       "    <tr>\n",
       "      <th>2</th>\n",
       "      <td>other</td>\n",
       "      <td>50460</td>\n",
       "      <td>41.375000</td>\n",
       "      <td>56.84375</td>\n",
       "      <td>1.798828</td>\n",
       "    </tr>\n",
       "    <tr>\n",
       "      <th>4</th>\n",
       "      <td>river/lake</td>\n",
       "      <td>2158257</td>\n",
       "      <td>33.906250</td>\n",
       "      <td>54.21875</td>\n",
       "      <td>11.882812</td>\n",
       "    </tr>\n",
       "    <tr>\n",
       "      <th>6</th>\n",
       "      <td>spring</td>\n",
       "      <td>1935323</td>\n",
       "      <td>30.281250</td>\n",
       "      <td>62.21875</td>\n",
       "      <td>7.496094</td>\n",
       "    </tr>\n",
       "    <tr>\n",
       "      <th>3</th>\n",
       "      <td>rainwater harvesting</td>\n",
       "      <td>486034</td>\n",
       "      <td>25.921875</td>\n",
       "      <td>60.40625</td>\n",
       "      <td>13.679688</td>\n",
       "    </tr>\n",
       "  </tbody>\n",
       "</table>\n",
       "</div>"
      ],
      "text/plain": [
       "            source_type  population    nf_perc    f_perc    fr_perc\n",
       "1                   dam      175418  57.781250  38.56250   3.658203\n",
       "0              borehole     2906899  46.218750  49.53125   4.250000\n",
       "5          shallow well     2974262  44.843750  49.46875   5.687500\n",
       "2                 other       50460  41.375000  56.84375   1.798828\n",
       "4            river/lake     2158257  33.906250  54.21875  11.882812\n",
       "6                spring     1935323  30.281250  62.21875   7.496094\n",
       "3  rainwater harvesting      486034  25.921875  60.40625  13.679688"
      ]
     },
     "execution_count": 105,
     "metadata": {},
     "output_type": "execute_result"
    }
   ],
   "source": [
    "df_tmp_stype.sort_values(by='nf_perc', ascending=False)"
   ]
  },
  {
   "cell_type": "markdown",
   "metadata": {},
   "source": [
    "what we noticed from here is that certain source types have more functional than non functional such as\n",
    "- rainwater harvesting\n",
    "- spring\n",
    "- river/lake\n",
    "- other\n",
    "\n",
    "which have more than 50% functional pumps\n",
    "while the others are average performing types, such as \n",
    "\n",
    "- shallow well\n",
    "- borehole \n",
    "- dam etc. \n",
    "\n",
    "\n",
    "ideally, we can use this in advance feature engineering, and create a feature that we could extract from this behaviour is **source_type_performance** which can be \n",
    "\n",
    "- if f_perc > 50 then **good**\n",
    "- else **average**"
   ]
  },
  {
   "cell_type": "markdown",
   "metadata": {},
   "source": [
    "it is clear that bigger population doesn't guarantee us a better or worse status_group, as we can see that \n",
    "rainwater harvesting has 60% functional with being smallest population, while the 2nd and 3rd are spring and river/lake which are bigger population but still they have fairly big number of functional pumps"
   ]
  },
  {
   "cell_type": "code",
   "execution_count": 106,
   "metadata": {},
   "outputs": [],
   "source": [
    "global_new_feat.append('source_type_perf')"
   ]
  },
  {
   "cell_type": "code",
   "execution_count": 107,
   "metadata": {},
   "outputs": [
    {
     "data": {
      "text/plain": [
       "['recorded_by',\n",
       " 'region',\n",
       " 'public_meeting',\n",
       " 'scheme_management',\n",
       " 'permit',\n",
       " 'extraction_type_class',\n",
       " 'management_group',\n",
       " 'payment_type',\n",
       " 'quality_group',\n",
       " 'population']"
      ]
     },
     "execution_count": 107,
     "metadata": {},
     "output_type": "execute_result"
    }
   ],
   "source": [
    "global_cols_to_del"
   ]
  },
  {
   "cell_type": "markdown",
   "metadata": {},
   "source": [
    "### checking on num_private"
   ]
  },
  {
   "cell_type": "code",
   "execution_count": 108,
   "metadata": {},
   "outputs": [
    {
     "data": {
      "text/plain": [
       "array([   0,   39,    5,   45,    6,    3,  698,   32,   15,    7,   25,\n",
       "        102,    1,   93,   14,   34,  120,   17,  213,   47,    8,   41,\n",
       "         80,  141,   20,   35,  131,    4,   22,   11,   87,   61,   65,\n",
       "        136,    2,  180,   38,   62,    9,   16,   23,   42,   24,   12,\n",
       "        668,  672,   58,  150,  280,  160,   50, 1776,   30,   27,   10,\n",
       "         94,   26,  450,  240,  755,   60,  111,  300,   55, 1402],\n",
       "      dtype=int64)"
      ]
     },
     "execution_count": 108,
     "metadata": {},
     "output_type": "execute_result"
    }
   ],
   "source": [
    "df_train['num_private'].unique()"
   ]
  },
  {
   "cell_type": "code",
   "execution_count": 109,
   "metadata": {},
   "outputs": [
    {
     "data": {
      "text/plain": [
       "0      58643\n",
       "6         81\n",
       "1         73\n",
       "5         46\n",
       "8         46\n",
       "       ...  \n",
       "180        1\n",
       "213        1\n",
       "23         1\n",
       "55         1\n",
       "94         1\n",
       "Name: num_private, Length: 65, dtype: int64"
      ]
     },
     "execution_count": 109,
     "metadata": {},
     "output_type": "execute_result"
    }
   ],
   "source": [
    "df_train.num_private.value_counts()"
   ]
  },
  {
   "cell_type": "code",
   "execution_count": 110,
   "metadata": {},
   "outputs": [
    {
     "data": {
      "text/plain": [
       "0"
      ]
     },
     "execution_count": 110,
     "metadata": {},
     "output_type": "execute_result"
    }
   ],
   "source": [
    "df_train.num_private.isnull().sum()"
   ]
  },
  {
   "cell_type": "markdown",
   "metadata": {},
   "source": [
    "by the values, we can conclude two things\n",
    "- num_private is some numeric integer value\n",
    "- num_private whenever was left out, defaults to zero, which is why we have around 58k zeros\n",
    "\n",
    "this leaves us no choice but to discard this feature for time being. \n",
    "although, we will use this feature in our base feature set, but base_refined feature set, we are going to discard it for sure."
   ]
  },
  {
   "cell_type": "code",
   "execution_count": 111,
   "metadata": {},
   "outputs": [],
   "source": [
    "global_base_features.append('num_private')\n",
    "global_cols_to_del.append('num_private')"
   ]
  },
  {
   "cell_type": "code",
   "execution_count": 112,
   "metadata": {},
   "outputs": [
    {
     "data": {
      "text/plain": [
       "['recorded_by',\n",
       " 'region',\n",
       " 'public_meeting',\n",
       " 'scheme_management',\n",
       " 'permit',\n",
       " 'extraction_type_class',\n",
       " 'management_group',\n",
       " 'payment_type',\n",
       " 'quality_group',\n",
       " 'population',\n",
       " 'num_private']"
      ]
     },
     "execution_count": 112,
     "metadata": {},
     "output_type": "execute_result"
    }
   ],
   "source": [
    "global_cols_to_del"
   ]
  },
  {
   "cell_type": "markdown",
   "metadata": {},
   "source": [
    "### amount_tsh"
   ]
  },
  {
   "cell_type": "code",
   "execution_count": 113,
   "metadata": {},
   "outputs": [
    {
     "data": {
      "text/plain": [
       "98"
      ]
     },
     "execution_count": 113,
     "metadata": {},
     "output_type": "execute_result"
    }
   ],
   "source": [
    "df_train['amount_tsh'].nunique()"
   ]
  },
  {
   "cell_type": "code",
   "execution_count": 114,
   "metadata": {},
   "outputs": [
    {
     "data": {
      "text/plain": [
       "7.0          69\n",
       "6000.0      125\n",
       "2500.0      139\n",
       "2400.0      145\n",
       "4000.0      156\n",
       "600.0       176\n",
       "6.0         190\n",
       "1500.0      197\n",
       "1200.0      267\n",
       "3000.0      334\n",
       "25.0        356\n",
       "5.0         376\n",
       "5000.0      450\n",
       "300.0       557\n",
       "250.0       569\n",
       "2000.0      704\n",
       "30.0        743\n",
       "10.0        806\n",
       "100.0       816\n",
       "200.0      1220\n",
       "20.0       1463\n",
       "1000.0     1488\n",
       "50.0       2472\n",
       "500.0      3102\n",
       "0.0       41639\n",
       "Name: amount_tsh, dtype: int64"
      ]
     },
     "execution_count": 114,
     "metadata": {},
     "output_type": "execute_result"
    }
   ],
   "source": [
    "df_train['amount_tsh'].value_counts().sort_values().tail(25)"
   ]
  },
  {
   "cell_type": "markdown",
   "metadata": {},
   "source": [
    "41k records with amount_tsh seems like some is kind of wrong data entry."
   ]
  },
  {
   "cell_type": "code",
   "execution_count": 115,
   "metadata": {},
   "outputs": [
    {
     "data": {
      "text/plain": [
       "(70.09932659932659, 29.9006734006734)"
      ]
     },
     "execution_count": 115,
     "metadata": {},
     "output_type": "execute_result"
    }
   ],
   "source": [
    "len(df_train[df_train['amount_tsh']==0])/len(df_train) * 100 , len(df_train[df_train['amount_tsh']!=0])/len(df_train)*100"
   ]
  },
  {
   "cell_type": "markdown",
   "metadata": {},
   "source": [
    "what we can essentially do is, to create a feature out of it called amount_zero \n",
    "- 1 means the zero_amount_tsh is zero\n",
    "- 0 is otherwise. \n",
    "and will try to see what changes would it bring to the table."
   ]
  },
  {
   "cell_type": "code",
   "execution_count": 116,
   "metadata": {},
   "outputs": [
    {
     "data": {
      "text/plain": [
       "functional                 19706\n",
       "non functional             18885\n",
       "functional needs repair     3048\n",
       "Name: status_group, dtype: int64"
      ]
     },
     "execution_count": 116,
     "metadata": {},
     "output_type": "execute_result"
    }
   ],
   "source": [
    "df_train[df_train['amount_tsh']==0].status_group.value_counts()"
   ]
  },
  {
   "cell_type": "code",
   "execution_count": 117,
   "metadata": {},
   "outputs": [
    {
     "data": {
      "text/plain": [
       "functional                 12553\n",
       "non functional              3939\n",
       "functional needs repair     1269\n",
       "Name: status_group, dtype: int64"
      ]
     },
     "execution_count": 117,
     "metadata": {},
     "output_type": "execute_result"
    }
   ],
   "source": [
    "df_train[df_train['amount_tsh']!=0].status_group.value_counts()"
   ]
  },
  {
   "cell_type": "markdown",
   "metadata": {},
   "source": [
    "so the results do confirm that making a feature for the zero_amount_tsh does help"
   ]
  },
  {
   "cell_type": "code",
   "execution_count": 118,
   "metadata": {},
   "outputs": [
    {
     "data": {
      "text/plain": [
       "<matplotlib.axes._subplots.AxesSubplot at 0x25f2a976488>"
      ]
     },
     "execution_count": 118,
     "metadata": {},
     "output_type": "execute_result"
    },
    {
     "data": {
      "image/png": "[encoded data removed]",
      "text/plain": [
       "<Figure size 1512x648 with 1 Axes>"
      ]
     },
     "metadata": {
      "needs_background": "light"
     },
     "output_type": "display_data"
    }
   ],
   "source": [
    "fig, ax = plt.subplots(figsize=(21,9))\n",
    "sns.boxplot(df_train.amount_tsh)"
   ]
  },
  {
   "cell_type": "markdown",
   "metadata": {},
   "source": [
    "at the moment, if we go with the feature amount_tsh_zero, then there is no need to keep the amount_tsh feature, so will probably discard it "
   ]
  },
  {
   "cell_type": "code",
   "execution_count": 119,
   "metadata": {},
   "outputs": [
    {
     "data": {
      "text/plain": [
       "['recorded_by',\n",
       " 'region',\n",
       " 'public_meeting',\n",
       " 'scheme_management',\n",
       " 'permit',\n",
       " 'extraction_type_class',\n",
       " 'management_group',\n",
       " 'payment_type',\n",
       " 'quality_group',\n",
       " 'population',\n",
       " 'num_private',\n",
       " 'amount_tsh']"
      ]
     },
     "execution_count": 119,
     "metadata": {},
     "output_type": "execute_result"
    }
   ],
   "source": [
    "global_new_feat.append('amount_tsh_zero')\n",
    "global_base_features.append('amount_tsh')\n",
    "global_cols_to_del.append('amount_tsh')\n",
    "global_cols_to_del"
   ]
  },
  {
   "cell_type": "markdown",
   "metadata": {},
   "source": [
    "### gps_height"
   ]
  },
  {
   "cell_type": "markdown",
   "metadata": {},
   "source": [
    "0   id                 59400 non-null  int64  \n",
    " 1   amount_tsh         59400 non-null  float64\n",
    " 2   gps_height         59400 non-null  int64  \n",
    " 3   longitude          59400 non-null  float64\n",
    " 4   latitude           59400 non-null  float64\n",
    " 5   num_private        59400 non-null  int64  \n",
    " 6   region_code        59400 non-null  int64  \n",
    " 7   district_code      59400 non-null  int64  \n",
    " 8   population         59400 non-null  int64  \n",
    " 9   construction_year  59400 non-null  int64  "
   ]
  },
  {
   "cell_type": "code",
   "execution_count": 120,
   "metadata": {},
   "outputs": [
    {
     "data": {
      "text/plain": [
       " 0       20438\n",
       "-15         60\n",
       "-16         55\n",
       "-13         55\n",
       "-20         52\n",
       "         ...  \n",
       " 2285        1\n",
       " 2424        1\n",
       " 2552        1\n",
       " 2413        1\n",
       " 2385        1\n",
       "Name: gps_height, Length: 2428, dtype: int64"
      ]
     },
     "execution_count": 120,
     "metadata": {},
     "output_type": "execute_result"
    }
   ],
   "source": [
    "df_train['gps_height'].value_counts()"
   ]
  },
  {
   "cell_type": "code",
   "execution_count": 121,
   "metadata": {},
   "outputs": [
    {
     "data": {
      "text/plain": [
       "<matplotlib.axes._subplots.AxesSubplot at 0x25f2ac3a588>"
      ]
     },
     "execution_count": 121,
     "metadata": {},
     "output_type": "execute_result"
    },
    {
     "data": {
      "image/png": "[encoded data removed]",
      "text/plain": [
       "<Figure size 1512x648 with 1 Axes>"
      ]
     },
     "metadata": {
      "needs_background": "light"
     },
     "output_type": "display_data"
    }
   ],
   "source": [
    "fig, ax = plt.subplots(figsize=(21,9))\n",
    "sns.boxplot(df_train.gps_height)"
   ]
  },
  {
   "cell_type": "code",
   "execution_count": 122,
   "metadata": {},
   "outputs": [
    {
     "data": {
      "text/plain": [
       "count    59400.000000\n",
       "mean       668.297239\n",
       "std        693.116350\n",
       "min        -90.000000\n",
       "25%          0.000000\n",
       "50%        369.000000\n",
       "75%       1319.250000\n",
       "max       2770.000000\n",
       "Name: gps_height, dtype: float64"
      ]
     },
     "execution_count": 122,
     "metadata": {},
     "output_type": "execute_result"
    }
   ],
   "source": [
    "df_train.gps_height.describe()"
   ]
  },
  {
   "cell_type": "markdown",
   "metadata": {},
   "source": [
    "this feature may be important, in terms of prediction, and status of the water pump.\n",
    "we will try to further explore and see what effect does it have on the status_group\n",
    "as well as if there are some nulls in it or not."
   ]
  },
  {
   "cell_type": "code",
   "execution_count": 123,
   "metadata": {},
   "outputs": [
    {
     "data": {
      "text/plain": [
       "0"
      ]
     },
     "execution_count": 123,
     "metadata": {},
     "output_type": "execute_result"
    }
   ],
   "source": [
    "df_train.gps_height.isnull().sum()"
   ]
  },
  {
   "cell_type": "code",
   "execution_count": 124,
   "metadata": {},
   "outputs": [
    {
     "data": {
      "text/plain": [
       "id                          0.000000\n",
       "amount_tsh                  0.000000\n",
       "date_recorded               0.000000\n",
       "funder                      6.119529\n",
       "gps_height                  0.000000\n",
       "installer                   6.153199\n",
       "longitude                   0.000000\n",
       "latitude                    0.000000\n",
       "wpt_name                    0.000000\n",
       "num_private                 0.000000\n",
       "basin                       0.000000\n",
       "subvillage                  0.624579\n",
       "region                      0.000000\n",
       "region_code                 0.000000\n",
       "district_code               0.000000\n",
       "lga                         0.000000\n",
       "ward                        0.000000\n",
       "population                  0.000000\n",
       "public_meeting              5.612795\n",
       "recorded_by                 0.000000\n",
       "scheme_management           6.526936\n",
       "scheme_name                47.417508\n",
       "permit                      5.144781\n",
       "construction_year           0.000000\n",
       "extraction_type             0.000000\n",
       "extraction_type_group       0.000000\n",
       "extraction_type_class       0.000000\n",
       "management                  0.000000\n",
       "management_group            0.000000\n",
       "payment                     0.000000\n",
       "payment_type                0.000000\n",
       "water_quality               0.000000\n",
       "quality_group               0.000000\n",
       "quantity                    0.000000\n",
       "quantity_group              0.000000\n",
       "source                      0.000000\n",
       "source_type                 0.000000\n",
       "source_class                0.000000\n",
       "waterpoint_type             0.000000\n",
       "waterpoint_type_group       0.000000\n",
       "status_group                0.000000\n",
       "public_meeting_label        0.000000\n",
       "scheme_management_label     0.000000\n",
       "permit_label                0.000000\n",
       "dtype: float64"
      ]
     },
     "execution_count": 124,
     "metadata": {},
     "output_type": "execute_result"
    }
   ],
   "source": [
    "df_train.isnull().sum()/len(df_train)*100"
   ]
  },
  {
   "cell_type": "markdown",
   "metadata": {},
   "source": [
    "so gps_height has no nulls, let's see if we have height devided into two \n",
    "\n",
    "gps_height up to a certain height and below certain height, would have some effect on it or not\n",
    "\n",
    "the mean is 668, so let's try to see if it has some clear divide into the status_group distribution or not"
   ]
  },
  {
   "cell_type": "code",
   "execution_count": 125,
   "metadata": {},
   "outputs": [
    {
     "data": {
      "text/plain": [
       "(32793, 26607)"
      ]
     },
     "execution_count": 125,
     "metadata": {},
     "output_type": "execute_result"
    }
   ],
   "source": [
    "len(df_train[df_train['gps_height'] < 668]), len(df_train[df_train['gps_height'] >= 668])"
   ]
  },
  {
   "cell_type": "code",
   "execution_count": 126,
   "metadata": {},
   "outputs": [
    {
     "data": {
      "text/plain": [
       "functional                 16422\n",
       "non functional             14009\n",
       "functional needs repair     2362\n",
       "Name: status_group, dtype: int64"
      ]
     },
     "execution_count": 126,
     "metadata": {},
     "output_type": "execute_result"
    }
   ],
   "source": [
    "df_train[df_train['gps_height'] < 668].status_group.value_counts()"
   ]
  },
  {
   "cell_type": "code",
   "execution_count": 127,
   "metadata": {},
   "outputs": [
    {
     "data": {
      "text/plain": [
       "functional                 15837\n",
       "non functional              8815\n",
       "functional needs repair     1955\n",
       "Name: status_group, dtype: int64"
      ]
     },
     "execution_count": 127,
     "metadata": {},
     "output_type": "execute_result"
    }
   ],
   "source": [
    "df_train[df_train['gps_height'] >= 668].status_group.value_counts()"
   ]
  },
  {
   "cell_type": "markdown",
   "metadata": {},
   "source": [
    "i guess, this gives us a pattern that low gps height has more non functional and the bigger value. \n",
    "so for advance feature engineering, we can create a new feature called gps_gt_668 with 1 and 0 respectively"
   ]
  },
  {
   "cell_type": "code",
   "execution_count": 128,
   "metadata": {},
   "outputs": [
    {
     "data": {
      "text/plain": [
       "['district_code',\n",
       " 'basin',\n",
       " 'region',\n",
       " 'region_code',\n",
       " 'public_meeting_label',\n",
       " 'scheme_management_label',\n",
       " 'permit_label',\n",
       " 'extraction_type_group',\n",
       " 'extraction_type_class',\n",
       " 'extraction_type',\n",
       " 'management',\n",
       " 'management_group',\n",
       " 'payment',\n",
       " 'payment_type',\n",
       " 'water_quality',\n",
       " 'quality_group',\n",
       " 'quantity',\n",
       " 'source',\n",
       " 'source_class',\n",
       " 'source_type',\n",
       " 'waterpoint_type',\n",
       " 'waterpoint_type_group',\n",
       " 'population',\n",
       " 'num_private',\n",
       " 'amount_tsh',\n",
       " 'gps_height']"
      ]
     },
     "execution_count": 128,
     "metadata": {},
     "output_type": "execute_result"
    }
   ],
   "source": [
    "global_base_features.append('gps_height')\n",
    "global_new_feat.append('gps_gt_668')\n",
    "global_base_features"
   ]
  },
  {
   "cell_type": "markdown",
   "metadata": {},
   "source": [
    "### construction_year "
   ]
  },
  {
   "cell_type": "code",
   "execution_count": 129,
   "metadata": {},
   "outputs": [
    {
     "data": {
      "text/plain": [
       "55"
      ]
     },
     "execution_count": 129,
     "metadata": {},
     "output_type": "execute_result"
    }
   ],
   "source": [
    "df_train['construction_year'].nunique()"
   ]
  },
  {
   "cell_type": "code",
   "execution_count": 130,
   "metadata": {},
   "outputs": [
    {
     "data": {
      "text/plain": [
       "count    59400.000000\n",
       "mean      1300.652475\n",
       "std        951.620547\n",
       "min          0.000000\n",
       "25%          0.000000\n",
       "50%       1986.000000\n",
       "75%       2004.000000\n",
       "max       2013.000000\n",
       "Name: construction_year, dtype: float64"
      ]
     },
     "execution_count": 130,
     "metadata": {},
     "output_type": "execute_result"
    }
   ],
   "source": [
    "df_train['construction_year'].describe()"
   ]
  },
  {
   "cell_type": "code",
   "execution_count": 131,
   "metadata": {},
   "outputs": [
    {
     "data": {
      "text/plain": [
       "0       20709\n",
       "2010     2645\n",
       "2008     2613\n",
       "2009     2533\n",
       "2000     2091\n",
       "2007     1587\n",
       "2006     1471\n",
       "2003     1286\n",
       "2011     1256\n",
       "2004     1123\n",
       "2012     1084\n",
       "2002     1075\n",
       "1978     1037\n",
       "1995     1014\n",
       "2005     1011\n",
       "1999      979\n",
       "1998      966\n",
       "1990      954\n",
       "1985      945\n",
       "1980      811\n",
       "1996      811\n",
       "1984      779\n",
       "1982      744\n",
       "1994      738\n",
       "1972      708\n",
       "1974      676\n",
       "1997      644\n",
       "1992      640\n",
       "1993      608\n",
       "2001      540\n",
       "1988      521\n",
       "1983      488\n",
       "1975      437\n",
       "1986      434\n",
       "1976      414\n",
       "1970      411\n",
       "1991      324\n",
       "1989      316\n",
       "1987      302\n",
       "1981      238\n",
       "1977      202\n",
       "1979      192\n",
       "1973      184\n",
       "2013      176\n",
       "1971      145\n",
       "1960      102\n",
       "1967       88\n",
       "1963       85\n",
       "1968       77\n",
       "1969       59\n",
       "1964       40\n",
       "1962       30\n",
       "1961       21\n",
       "1965       19\n",
       "1966       17\n",
       "Name: construction_year, dtype: int64"
      ]
     },
     "execution_count": 131,
     "metadata": {},
     "output_type": "execute_result"
    }
   ],
   "source": [
    "df_train['construction_year'].value_counts()"
   ]
  },
  {
   "cell_type": "markdown",
   "metadata": {},
   "source": [
    "there are around 20k pumps with the construction year as 0, which is again a typo in the data entry. "
   ]
  },
  {
   "cell_type": "code",
   "execution_count": 132,
   "metadata": {},
   "outputs": [
    {
     "data": {
      "text/plain": [
       "(20709, 38691)"
      ]
     },
     "execution_count": 132,
     "metadata": {},
     "output_type": "execute_result"
    }
   ],
   "source": [
    "len(df_train[df_train['construction_year']==0]),len(df_train[df_train['construction_year']!=0])"
   ]
  },
  {
   "cell_type": "code",
   "execution_count": 133,
   "metadata": {},
   "outputs": [
    {
     "data": {
      "text/plain": [
       "functional                 50.968178\n",
       "non functional             40.393066\n",
       "functional needs repair     8.638756\n",
       "Name: status_group, dtype: float64"
      ]
     },
     "execution_count": 133,
     "metadata": {},
     "output_type": "execute_result"
    }
   ],
   "source": [
    "df_train[df_train['construction_year']==0].status_group.value_counts()/len(df_train[df_train['construction_year']==0])*100"
   ]
  },
  {
   "cell_type": "code",
   "execution_count": 134,
   "metadata": {},
   "outputs": [
    {
     "data": {
      "text/plain": [
       "functional                 56.095733\n",
       "non functional             37.370448\n",
       "functional needs repair     6.533819\n",
       "Name: status_group, dtype: float64"
      ]
     },
     "execution_count": 134,
     "metadata": {},
     "output_type": "execute_result"
    }
   ],
   "source": [
    "df_train[df_train['construction_year']!=0].status_group.value_counts()/len(df_train[df_train['construction_year']!=0])*100"
   ]
  },
  {
   "cell_type": "code",
   "execution_count": 135,
   "metadata": {},
   "outputs": [
    {
     "data": {
      "text/plain": [
       "0"
      ]
     },
     "execution_count": 135,
     "metadata": {},
     "output_type": "execute_result"
    }
   ],
   "source": [
    "df_train.construction_year.isnull().sum()"
   ]
  },
  {
   "cell_type": "markdown",
   "metadata": {},
   "source": [
    "we'll most probably go for another feature here that would call cons_year_zero with 1 and 0 to tell if it is zero or not"
   ]
  },
  {
   "cell_type": "markdown",
   "metadata": {},
   "source": [
    "let's further research about the construction year zero, what we noticed is \n",
    "- non functional is slightly higher than where the year is not zero\n",
    "- functional needs repair is also higher as well\n",
    "they seem old, but not sure how old, we will also try to look at the amount_tsh if it is also zero."
   ]
  },
  {
   "cell_type": "code",
   "execution_count": 136,
   "metadata": {},
   "outputs": [],
   "source": [
    "global_new_feat.append('cons_year_zero')"
   ]
  },
  {
   "cell_type": "markdown",
   "metadata": {},
   "source": [
    "we may also try to explore if the age of the water pump has anything to do with the status_group"
   ]
  },
  {
   "cell_type": "code",
   "execution_count": 137,
   "metadata": {},
   "outputs": [
    {
     "data": {
      "text/plain": [
       "count    59400.000000\n",
       "mean      1300.652475\n",
       "std        951.620547\n",
       "min          0.000000\n",
       "25%          0.000000\n",
       "50%       1986.000000\n",
       "75%       2004.000000\n",
       "max       2013.000000\n",
       "Name: construction_year, dtype: float64"
      ]
     },
     "execution_count": 137,
     "metadata": {},
     "output_type": "execute_result"
    }
   ],
   "source": [
    "df_train['construction_year'].describe()"
   ]
  },
  {
   "cell_type": "code",
   "execution_count": 138,
   "metadata": {},
   "outputs": [
    {
     "data": {
      "text/plain": [
       "(29658, 29742)"
      ]
     },
     "execution_count": 138,
     "metadata": {},
     "output_type": "execute_result"
    }
   ],
   "source": [
    "len(df_train[df_train['construction_year']<1986]),len(df_train[df_train['construction_year']>=1986])"
   ]
  },
  {
   "cell_type": "code",
   "execution_count": 139,
   "metadata": {},
   "outputs": [
    {
     "data": {
      "text/plain": [
       "non functional             13611\n",
       "functional                 13572\n",
       "functional needs repair     2475\n",
       "Name: status_group, dtype: int64"
      ]
     },
     "execution_count": 139,
     "metadata": {},
     "output_type": "execute_result"
    }
   ],
   "source": [
    "df_train[df_train['construction_year']<1986].status_group.value_counts()"
   ]
  },
  {
   "cell_type": "code",
   "execution_count": 140,
   "metadata": {},
   "outputs": [
    {
     "data": {
      "text/plain": [
       "functional                 18687\n",
       "non functional              9213\n",
       "functional needs repair     1842\n",
       "Name: status_group, dtype: int64"
      ]
     },
     "execution_count": 140,
     "metadata": {},
     "output_type": "execute_result"
    }
   ],
   "source": [
    "df_train[df_train['construction_year']>=1986].status_group.value_counts()"
   ]
  },
  {
   "cell_type": "markdown",
   "metadata": {},
   "source": [
    "so a clear difference "
   ]
  },
  {
   "cell_type": "code",
   "execution_count": 141,
   "metadata": {},
   "outputs": [
    {
     "data": {
      "text/plain": [
       "['district_code',\n",
       " 'basin',\n",
       " 'region',\n",
       " 'region_code',\n",
       " 'public_meeting_label',\n",
       " 'scheme_management_label',\n",
       " 'permit_label',\n",
       " 'extraction_type_group',\n",
       " 'extraction_type_class',\n",
       " 'extraction_type',\n",
       " 'management',\n",
       " 'management_group',\n",
       " 'payment',\n",
       " 'payment_type',\n",
       " 'water_quality',\n",
       " 'quality_group',\n",
       " 'quantity',\n",
       " 'source',\n",
       " 'source_class',\n",
       " 'source_type',\n",
       " 'waterpoint_type',\n",
       " 'waterpoint_type_group',\n",
       " 'population',\n",
       " 'num_private',\n",
       " 'amount_tsh',\n",
       " 'gps_height',\n",
       " 'construction_year']"
      ]
     },
     "execution_count": 141,
     "metadata": {},
     "output_type": "execute_result"
    }
   ],
   "source": [
    "global_base_features.append('construction_year')\n",
    "global_new_feat.append('pump_age_group')\n",
    "global_base_features"
   ]
  },
  {
   "cell_type": "code",
   "execution_count": 142,
   "metadata": {},
   "outputs": [
    {
     "data": {
      "text/plain": [
       "['region_perf',\n",
       " 'source_type_perf',\n",
       " 'amount_tsh_zero',\n",
       " 'gps_gt_668',\n",
       " 'cons_year_zero',\n",
       " 'pump_age_group']"
      ]
     },
     "execution_count": 142,
     "metadata": {},
     "output_type": "execute_result"
    }
   ],
   "source": [
    "global_new_feat"
   ]
  },
  {
   "cell_type": "code",
   "execution_count": 143,
   "metadata": {},
   "outputs": [
    {
     "data": {
      "text/html": [
       "<div>\n",
       "<style scoped>\n",
       "    .dataframe tbody tr th:only-of-type {\n",
       "        vertical-align: middle;\n",
       "    }\n",
       "\n",
       "    .dataframe tbody tr th {\n",
       "        vertical-align: top;\n",
       "    }\n",
       "\n",
       "    .dataframe thead th {\n",
       "        text-align: right;\n",
       "    }\n",
       "</style>\n",
       "<table border=\"1\" class=\"dataframe\">\n",
       "  <thead>\n",
       "    <tr style=\"text-align: right;\">\n",
       "      <th></th>\n",
       "      <th>59384</th>\n",
       "      <th>59392</th>\n",
       "      <th>59393</th>\n",
       "      <th>59397</th>\n",
       "      <th>59398</th>\n",
       "    </tr>\n",
       "  </thead>\n",
       "  <tbody>\n",
       "    <tr>\n",
       "      <th>id</th>\n",
       "      <td>72148</td>\n",
       "      <td>40607</td>\n",
       "      <td>48348</td>\n",
       "      <td>37057</td>\n",
       "      <td>31282</td>\n",
       "    </tr>\n",
       "    <tr>\n",
       "      <th>amount_tsh</th>\n",
       "      <td>0</td>\n",
       "      <td>0</td>\n",
       "      <td>0</td>\n",
       "      <td>0</td>\n",
       "      <td>0</td>\n",
       "    </tr>\n",
       "    <tr>\n",
       "      <th>date_recorded</th>\n",
       "      <td>2011-07-10</td>\n",
       "      <td>2011-04-15</td>\n",
       "      <td>2012-10-27</td>\n",
       "      <td>2011-04-11</td>\n",
       "      <td>2011-03-08</td>\n",
       "    </tr>\n",
       "    <tr>\n",
       "      <th>funder</th>\n",
       "      <td>Concern</td>\n",
       "      <td>Government Of Tanzania</td>\n",
       "      <td>Private</td>\n",
       "      <td>NaN</td>\n",
       "      <td>Malec</td>\n",
       "    </tr>\n",
       "    <tr>\n",
       "      <th>gps_height</th>\n",
       "      <td>0</td>\n",
       "      <td>0</td>\n",
       "      <td>0</td>\n",
       "      <td>0</td>\n",
       "      <td>0</td>\n",
       "    </tr>\n",
       "    <tr>\n",
       "      <th>installer</th>\n",
       "      <td>CONCERN</td>\n",
       "      <td>Government</td>\n",
       "      <td>Private</td>\n",
       "      <td>NaN</td>\n",
       "      <td>Musa</td>\n",
       "    </tr>\n",
       "    <tr>\n",
       "      <th>longitude</th>\n",
       "      <td>30.6678</td>\n",
       "      <td>33.0094</td>\n",
       "      <td>33.8669</td>\n",
       "      <td>34.0171</td>\n",
       "      <td>35.8613</td>\n",
       "    </tr>\n",
       "    <tr>\n",
       "      <th>latitude</th>\n",
       "      <td>-2.48371</td>\n",
       "      <td>-8.52089</td>\n",
       "      <td>-4.28741</td>\n",
       "      <td>-8.75043</td>\n",
       "      <td>-6.37857</td>\n",
       "    </tr>\n",
       "    <tr>\n",
       "      <th>wpt_name</th>\n",
       "      <td>Chamkube</td>\n",
       "      <td>Benard Charles</td>\n",
       "      <td>Kwa Peter</td>\n",
       "      <td>Mashine</td>\n",
       "      <td>Mshoro</td>\n",
       "    </tr>\n",
       "    <tr>\n",
       "      <th>num_private</th>\n",
       "      <td>0</td>\n",
       "      <td>0</td>\n",
       "      <td>0</td>\n",
       "      <td>0</td>\n",
       "      <td>0</td>\n",
       "    </tr>\n",
       "    <tr>\n",
       "      <th>basin</th>\n",
       "      <td>Lake Victoria</td>\n",
       "      <td>Lake Rukwa</td>\n",
       "      <td>Internal</td>\n",
       "      <td>Rufiji</td>\n",
       "      <td>Rufiji</td>\n",
       "    </tr>\n",
       "    <tr>\n",
       "      <th>subvillage</th>\n",
       "      <td>Songambele</td>\n",
       "      <td>Mbuyuni A</td>\n",
       "      <td>Masanga</td>\n",
       "      <td>Madungulu</td>\n",
       "      <td>Mwinyi</td>\n",
       "    </tr>\n",
       "    <tr>\n",
       "      <th>region</th>\n",
       "      <td>Kagera</td>\n",
       "      <td>Mbeya</td>\n",
       "      <td>Tabora</td>\n",
       "      <td>Mbeya</td>\n",
       "      <td>Dodoma</td>\n",
       "    </tr>\n",
       "    <tr>\n",
       "      <th>region_code</th>\n",
       "      <td>18</td>\n",
       "      <td>12</td>\n",
       "      <td>14</td>\n",
       "      <td>12</td>\n",
       "      <td>1</td>\n",
       "    </tr>\n",
       "    <tr>\n",
       "      <th>district_code</th>\n",
       "      <td>30</td>\n",
       "      <td>1</td>\n",
       "      <td>2</td>\n",
       "      <td>7</td>\n",
       "      <td>4</td>\n",
       "    </tr>\n",
       "    <tr>\n",
       "      <th>lga</th>\n",
       "      <td>Ngara</td>\n",
       "      <td>Chunya</td>\n",
       "      <td>Igunga</td>\n",
       "      <td>Mbarali</td>\n",
       "      <td>Chamwino</td>\n",
       "    </tr>\n",
       "    <tr>\n",
       "      <th>ward</th>\n",
       "      <td>Nyamiyaga</td>\n",
       "      <td>Mbuyuni</td>\n",
       "      <td>Igunga</td>\n",
       "      <td>Chimala</td>\n",
       "      <td>Mvumi Makulu</td>\n",
       "    </tr>\n",
       "    <tr>\n",
       "      <th>population</th>\n",
       "      <td>0</td>\n",
       "      <td>0</td>\n",
       "      <td>0</td>\n",
       "      <td>0</td>\n",
       "      <td>0</td>\n",
       "    </tr>\n",
       "    <tr>\n",
       "      <th>public_meeting</th>\n",
       "      <td>True</td>\n",
       "      <td>True</td>\n",
       "      <td>False</td>\n",
       "      <td>True</td>\n",
       "      <td>True</td>\n",
       "    </tr>\n",
       "    <tr>\n",
       "      <th>recorded_by</th>\n",
       "      <td>GeoData Consultants Ltd</td>\n",
       "      <td>GeoData Consultants Ltd</td>\n",
       "      <td>GeoData Consultants Ltd</td>\n",
       "      <td>GeoData Consultants Ltd</td>\n",
       "      <td>GeoData Consultants Ltd</td>\n",
       "    </tr>\n",
       "    <tr>\n",
       "      <th>scheme_management</th>\n",
       "      <td>VWC</td>\n",
       "      <td>VWC</td>\n",
       "      <td>Water authority</td>\n",
       "      <td>VWC</td>\n",
       "      <td>VWC</td>\n",
       "    </tr>\n",
       "    <tr>\n",
       "      <th>scheme_name</th>\n",
       "      <td>NaN</td>\n",
       "      <td>NaN</td>\n",
       "      <td>NaN</td>\n",
       "      <td>NaN</td>\n",
       "      <td>NaN</td>\n",
       "    </tr>\n",
       "    <tr>\n",
       "      <th>permit</th>\n",
       "      <td>False</td>\n",
       "      <td>True</td>\n",
       "      <td>False</td>\n",
       "      <td>False</td>\n",
       "      <td>True</td>\n",
       "    </tr>\n",
       "    <tr>\n",
       "      <th>construction_year</th>\n",
       "      <td>0</td>\n",
       "      <td>0</td>\n",
       "      <td>0</td>\n",
       "      <td>0</td>\n",
       "      <td>0</td>\n",
       "    </tr>\n",
       "    <tr>\n",
       "      <th>extraction_type</th>\n",
       "      <td>gravity</td>\n",
       "      <td>gravity</td>\n",
       "      <td>gravity</td>\n",
       "      <td>swn 80</td>\n",
       "      <td>nira/tanira</td>\n",
       "    </tr>\n",
       "    <tr>\n",
       "      <th>extraction_type_group</th>\n",
       "      <td>gravity</td>\n",
       "      <td>gravity</td>\n",
       "      <td>gravity</td>\n",
       "      <td>swn 80</td>\n",
       "      <td>nira/tanira</td>\n",
       "    </tr>\n",
       "    <tr>\n",
       "      <th>extraction_type_class</th>\n",
       "      <td>gravity</td>\n",
       "      <td>gravity</td>\n",
       "      <td>gravity</td>\n",
       "      <td>handpump</td>\n",
       "      <td>handpump</td>\n",
       "    </tr>\n",
       "    <tr>\n",
       "      <th>management</th>\n",
       "      <td>vwc</td>\n",
       "      <td>vwc</td>\n",
       "      <td>private operator</td>\n",
       "      <td>vwc</td>\n",
       "      <td>vwc</td>\n",
       "    </tr>\n",
       "    <tr>\n",
       "      <th>management_group</th>\n",
       "      <td>user-group</td>\n",
       "      <td>user-group</td>\n",
       "      <td>commercial</td>\n",
       "      <td>user-group</td>\n",
       "      <td>user-group</td>\n",
       "    </tr>\n",
       "    <tr>\n",
       "      <th>payment</th>\n",
       "      <td>never pay</td>\n",
       "      <td>never pay</td>\n",
       "      <td>pay per bucket</td>\n",
       "      <td>pay monthly</td>\n",
       "      <td>never pay</td>\n",
       "    </tr>\n",
       "    <tr>\n",
       "      <th>payment_type</th>\n",
       "      <td>never pay</td>\n",
       "      <td>never pay</td>\n",
       "      <td>per bucket</td>\n",
       "      <td>monthly</td>\n",
       "      <td>never pay</td>\n",
       "    </tr>\n",
       "    <tr>\n",
       "      <th>water_quality</th>\n",
       "      <td>soft</td>\n",
       "      <td>soft</td>\n",
       "      <td>soft</td>\n",
       "      <td>fluoride</td>\n",
       "      <td>soft</td>\n",
       "    </tr>\n",
       "    <tr>\n",
       "      <th>quality_group</th>\n",
       "      <td>good</td>\n",
       "      <td>good</td>\n",
       "      <td>good</td>\n",
       "      <td>fluoride</td>\n",
       "      <td>good</td>\n",
       "    </tr>\n",
       "    <tr>\n",
       "      <th>quantity</th>\n",
       "      <td>insufficient</td>\n",
       "      <td>enough</td>\n",
       "      <td>insufficient</td>\n",
       "      <td>enough</td>\n",
       "      <td>insufficient</td>\n",
       "    </tr>\n",
       "    <tr>\n",
       "      <th>quantity_group</th>\n",
       "      <td>insufficient</td>\n",
       "      <td>enough</td>\n",
       "      <td>insufficient</td>\n",
       "      <td>enough</td>\n",
       "      <td>insufficient</td>\n",
       "    </tr>\n",
       "    <tr>\n",
       "      <th>source</th>\n",
       "      <td>spring</td>\n",
       "      <td>spring</td>\n",
       "      <td>dam</td>\n",
       "      <td>machine dbh</td>\n",
       "      <td>shallow well</td>\n",
       "    </tr>\n",
       "    <tr>\n",
       "      <th>source_type</th>\n",
       "      <td>spring</td>\n",
       "      <td>spring</td>\n",
       "      <td>dam</td>\n",
       "      <td>borehole</td>\n",
       "      <td>shallow well</td>\n",
       "    </tr>\n",
       "    <tr>\n",
       "      <th>source_class</th>\n",
       "      <td>groundwater</td>\n",
       "      <td>groundwater</td>\n",
       "      <td>surface</td>\n",
       "      <td>groundwater</td>\n",
       "      <td>groundwater</td>\n",
       "    </tr>\n",
       "    <tr>\n",
       "      <th>waterpoint_type</th>\n",
       "      <td>communal standpipe</td>\n",
       "      <td>communal standpipe</td>\n",
       "      <td>other</td>\n",
       "      <td>hand pump</td>\n",
       "      <td>hand pump</td>\n",
       "    </tr>\n",
       "    <tr>\n",
       "      <th>waterpoint_type_group</th>\n",
       "      <td>communal standpipe</td>\n",
       "      <td>communal standpipe</td>\n",
       "      <td>other</td>\n",
       "      <td>hand pump</td>\n",
       "      <td>hand pump</td>\n",
       "    </tr>\n",
       "    <tr>\n",
       "      <th>status_group</th>\n",
       "      <td>non functional</td>\n",
       "      <td>non functional</td>\n",
       "      <td>functional</td>\n",
       "      <td>functional</td>\n",
       "      <td>functional</td>\n",
       "    </tr>\n",
       "    <tr>\n",
       "      <th>public_meeting_label</th>\n",
       "      <td>1</td>\n",
       "      <td>1</td>\n",
       "      <td>0</td>\n",
       "      <td>1</td>\n",
       "      <td>1</td>\n",
       "    </tr>\n",
       "    <tr>\n",
       "      <th>scheme_management_label</th>\n",
       "      <td>7</td>\n",
       "      <td>7</td>\n",
       "      <td>11</td>\n",
       "      <td>7</td>\n",
       "      <td>7</td>\n",
       "    </tr>\n",
       "    <tr>\n",
       "      <th>permit_label</th>\n",
       "      <td>0</td>\n",
       "      <td>1</td>\n",
       "      <td>0</td>\n",
       "      <td>0</td>\n",
       "      <td>1</td>\n",
       "    </tr>\n",
       "  </tbody>\n",
       "</table>\n",
       "</div>"
      ],
      "text/plain": [
       "                                           59384                    59392  \\\n",
       "id                                         72148                    40607   \n",
       "amount_tsh                                     0                        0   \n",
       "date_recorded                         2011-07-10               2011-04-15   \n",
       "funder                                   Concern   Government Of Tanzania   \n",
       "gps_height                                     0                        0   \n",
       "installer                                CONCERN               Government   \n",
       "longitude                                30.6678                  33.0094   \n",
       "latitude                                -2.48371                 -8.52089   \n",
       "wpt_name                                Chamkube           Benard Charles   \n",
       "num_private                                    0                        0   \n",
       "basin                              Lake Victoria               Lake Rukwa   \n",
       "subvillage                            Songambele                Mbuyuni A   \n",
       "region                                    Kagera                    Mbeya   \n",
       "region_code                                   18                       12   \n",
       "district_code                                 30                        1   \n",
       "lga                                        Ngara                   Chunya   \n",
       "ward                                   Nyamiyaga                  Mbuyuni   \n",
       "population                                     0                        0   \n",
       "public_meeting                              True                     True   \n",
       "recorded_by              GeoData Consultants Ltd  GeoData Consultants Ltd   \n",
       "scheme_management                            VWC                      VWC   \n",
       "scheme_name                                  NaN                      NaN   \n",
       "permit                                     False                     True   \n",
       "construction_year                              0                        0   \n",
       "extraction_type                          gravity                  gravity   \n",
       "extraction_type_group                    gravity                  gravity   \n",
       "extraction_type_class                    gravity                  gravity   \n",
       "management                                   vwc                      vwc   \n",
       "management_group                      user-group               user-group   \n",
       "payment                                never pay                never pay   \n",
       "payment_type                           never pay                never pay   \n",
       "water_quality                               soft                     soft   \n",
       "quality_group                               good                     good   \n",
       "quantity                            insufficient                   enough   \n",
       "quantity_group                      insufficient                   enough   \n",
       "source                                    spring                   spring   \n",
       "source_type                               spring                   spring   \n",
       "source_class                         groundwater              groundwater   \n",
       "waterpoint_type               communal standpipe       communal standpipe   \n",
       "waterpoint_type_group         communal standpipe       communal standpipe   \n",
       "status_group                      non functional           non functional   \n",
       "public_meeting_label                           1                        1   \n",
       "scheme_management_label                        7                        7   \n",
       "permit_label                                   0                        1   \n",
       "\n",
       "                                           59393                    59397  \\\n",
       "id                                         48348                    37057   \n",
       "amount_tsh                                     0                        0   \n",
       "date_recorded                         2012-10-27               2011-04-11   \n",
       "funder                                   Private                      NaN   \n",
       "gps_height                                     0                        0   \n",
       "installer                                Private                      NaN   \n",
       "longitude                                33.8669                  34.0171   \n",
       "latitude                                -4.28741                 -8.75043   \n",
       "wpt_name                               Kwa Peter                  Mashine   \n",
       "num_private                                    0                        0   \n",
       "basin                                   Internal                   Rufiji   \n",
       "subvillage                               Masanga                Madungulu   \n",
       "region                                    Tabora                    Mbeya   \n",
       "region_code                                   14                       12   \n",
       "district_code                                  2                        7   \n",
       "lga                                       Igunga                  Mbarali   \n",
       "ward                                      Igunga                  Chimala   \n",
       "population                                     0                        0   \n",
       "public_meeting                             False                     True   \n",
       "recorded_by              GeoData Consultants Ltd  GeoData Consultants Ltd   \n",
       "scheme_management                Water authority                      VWC   \n",
       "scheme_name                                  NaN                      NaN   \n",
       "permit                                     False                    False   \n",
       "construction_year                              0                        0   \n",
       "extraction_type                          gravity                   swn 80   \n",
       "extraction_type_group                    gravity                   swn 80   \n",
       "extraction_type_class                    gravity                 handpump   \n",
       "management                      private operator                      vwc   \n",
       "management_group                      commercial               user-group   \n",
       "payment                           pay per bucket              pay monthly   \n",
       "payment_type                          per bucket                  monthly   \n",
       "water_quality                               soft                 fluoride   \n",
       "quality_group                               good                 fluoride   \n",
       "quantity                            insufficient                   enough   \n",
       "quantity_group                      insufficient                   enough   \n",
       "source                                       dam              machine dbh   \n",
       "source_type                                  dam                 borehole   \n",
       "source_class                             surface              groundwater   \n",
       "waterpoint_type                            other                hand pump   \n",
       "waterpoint_type_group                      other                hand pump   \n",
       "status_group                          functional               functional   \n",
       "public_meeting_label                           0                        1   \n",
       "scheme_management_label                       11                        7   \n",
       "permit_label                                   0                        0   \n",
       "\n",
       "                                           59398  \n",
       "id                                         31282  \n",
       "amount_tsh                                     0  \n",
       "date_recorded                         2011-03-08  \n",
       "funder                                     Malec  \n",
       "gps_height                                     0  \n",
       "installer                                   Musa  \n",
       "longitude                                35.8613  \n",
       "latitude                                -6.37857  \n",
       "wpt_name                                  Mshoro  \n",
       "num_private                                    0  \n",
       "basin                                     Rufiji  \n",
       "subvillage                                Mwinyi  \n",
       "region                                    Dodoma  \n",
       "region_code                                    1  \n",
       "district_code                                  4  \n",
       "lga                                     Chamwino  \n",
       "ward                                Mvumi Makulu  \n",
       "population                                     0  \n",
       "public_meeting                              True  \n",
       "recorded_by              GeoData Consultants Ltd  \n",
       "scheme_management                            VWC  \n",
       "scheme_name                                  NaN  \n",
       "permit                                      True  \n",
       "construction_year                              0  \n",
       "extraction_type                      nira/tanira  \n",
       "extraction_type_group                nira/tanira  \n",
       "extraction_type_class                   handpump  \n",
       "management                                   vwc  \n",
       "management_group                      user-group  \n",
       "payment                                never pay  \n",
       "payment_type                           never pay  \n",
       "water_quality                               soft  \n",
       "quality_group                               good  \n",
       "quantity                            insufficient  \n",
       "quantity_group                      insufficient  \n",
       "source                              shallow well  \n",
       "source_type                         shallow well  \n",
       "source_class                         groundwater  \n",
       "waterpoint_type                        hand pump  \n",
       "waterpoint_type_group                  hand pump  \n",
       "status_group                          functional  \n",
       "public_meeting_label                           1  \n",
       "scheme_management_label                        7  \n",
       "permit_label                                   1  "
      ]
     },
     "execution_count": 143,
     "metadata": {},
     "output_type": "execute_result"
    }
   ],
   "source": [
    "df_train[df_train['construction_year']==0].tail(5).T"
   ]
  },
  {
   "cell_type": "code",
   "execution_count": 144,
   "metadata": {},
   "outputs": [
    {
     "data": {
      "text/html": [
       "<div>\n",
       "<style scoped>\n",
       "    .dataframe tbody tr th:only-of-type {\n",
       "        vertical-align: middle;\n",
       "    }\n",
       "\n",
       "    .dataframe tbody tr th {\n",
       "        vertical-align: top;\n",
       "    }\n",
       "\n",
       "    .dataframe thead th {\n",
       "        text-align: right;\n",
       "    }\n",
       "</style>\n",
       "<table border=\"1\" class=\"dataframe\">\n",
       "  <thead>\n",
       "    <tr style=\"text-align: right;\">\n",
       "      <th></th>\n",
       "      <th>4</th>\n",
       "      <th>6</th>\n",
       "      <th>7</th>\n",
       "      <th>8</th>\n",
       "      <th>9</th>\n",
       "    </tr>\n",
       "  </thead>\n",
       "  <tbody>\n",
       "    <tr>\n",
       "      <th>id</th>\n",
       "      <td>19728</td>\n",
       "      <td>19816</td>\n",
       "      <td>54551</td>\n",
       "      <td>53934</td>\n",
       "      <td>46144</td>\n",
       "    </tr>\n",
       "    <tr>\n",
       "      <th>amount_tsh</th>\n",
       "      <td>0</td>\n",
       "      <td>0</td>\n",
       "      <td>0</td>\n",
       "      <td>0</td>\n",
       "      <td>0</td>\n",
       "    </tr>\n",
       "    <tr>\n",
       "      <th>date_recorded</th>\n",
       "      <td>2011-07-13</td>\n",
       "      <td>2012-10-01</td>\n",
       "      <td>2012-10-09</td>\n",
       "      <td>2012-11-03</td>\n",
       "      <td>2011-08-03</td>\n",
       "    </tr>\n",
       "    <tr>\n",
       "      <th>funder</th>\n",
       "      <td>Action In A</td>\n",
       "      <td>Dwsp</td>\n",
       "      <td>Rwssp</td>\n",
       "      <td>Wateraid</td>\n",
       "      <td>Isingiro Ho</td>\n",
       "    </tr>\n",
       "    <tr>\n",
       "      <th>gps_height</th>\n",
       "      <td>0</td>\n",
       "      <td>0</td>\n",
       "      <td>0</td>\n",
       "      <td>0</td>\n",
       "      <td>0</td>\n",
       "    </tr>\n",
       "    <tr>\n",
       "      <th>installer</th>\n",
       "      <td>Artisan</td>\n",
       "      <td>DWSP</td>\n",
       "      <td>DWE</td>\n",
       "      <td>Water Aid</td>\n",
       "      <td>Artisan</td>\n",
       "    </tr>\n",
       "    <tr>\n",
       "      <th>longitude</th>\n",
       "      <td>31.1308</td>\n",
       "      <td>33.3624</td>\n",
       "      <td>32.6206</td>\n",
       "      <td>32.7111</td>\n",
       "      <td>30.627</td>\n",
       "    </tr>\n",
       "    <tr>\n",
       "      <th>latitude</th>\n",
       "      <td>-1.82536</td>\n",
       "      <td>-3.76636</td>\n",
       "      <td>-4.2262</td>\n",
       "      <td>-5.14671</td>\n",
       "      <td>-1.25705</td>\n",
       "    </tr>\n",
       "    <tr>\n",
       "      <th>wpt_name</th>\n",
       "      <td>Shuleni</td>\n",
       "      <td>Kwa Ngomho</td>\n",
       "      <td>Tushirikiane</td>\n",
       "      <td>Kwa Ramadhan Musa</td>\n",
       "      <td>Kwapeto</td>\n",
       "    </tr>\n",
       "    <tr>\n",
       "      <th>num_private</th>\n",
       "      <td>0</td>\n",
       "      <td>0</td>\n",
       "      <td>0</td>\n",
       "      <td>0</td>\n",
       "      <td>0</td>\n",
       "    </tr>\n",
       "    <tr>\n",
       "      <th>basin</th>\n",
       "      <td>Lake Victoria</td>\n",
       "      <td>Internal</td>\n",
       "      <td>Lake Tanganyika</td>\n",
       "      <td>Lake Tanganyika</td>\n",
       "      <td>Lake Victoria</td>\n",
       "    </tr>\n",
       "    <tr>\n",
       "      <th>subvillage</th>\n",
       "      <td>Kyanyamisa</td>\n",
       "      <td>Ishinabulandi</td>\n",
       "      <td>Nyawishi Center</td>\n",
       "      <td>Imalauduki</td>\n",
       "      <td>Mkonomre</td>\n",
       "    </tr>\n",
       "    <tr>\n",
       "      <th>region</th>\n",
       "      <td>Kagera</td>\n",
       "      <td>Shinyanga</td>\n",
       "      <td>Shinyanga</td>\n",
       "      <td>Tabora</td>\n",
       "      <td>Kagera</td>\n",
       "    </tr>\n",
       "    <tr>\n",
       "      <th>region_code</th>\n",
       "      <td>18</td>\n",
       "      <td>17</td>\n",
       "      <td>17</td>\n",
       "      <td>14</td>\n",
       "      <td>18</td>\n",
       "    </tr>\n",
       "    <tr>\n",
       "      <th>district_code</th>\n",
       "      <td>1</td>\n",
       "      <td>3</td>\n",
       "      <td>3</td>\n",
       "      <td>6</td>\n",
       "      <td>1</td>\n",
       "    </tr>\n",
       "    <tr>\n",
       "      <th>lga</th>\n",
       "      <td>Karagwe</td>\n",
       "      <td>Shinyanga Rural</td>\n",
       "      <td>Kahama</td>\n",
       "      <td>Tabora Urban</td>\n",
       "      <td>Karagwe</td>\n",
       "    </tr>\n",
       "    <tr>\n",
       "      <th>ward</th>\n",
       "      <td>Nyakasimbi</td>\n",
       "      <td>Samuye</td>\n",
       "      <td>Chambo</td>\n",
       "      <td>Itetemia</td>\n",
       "      <td>Kaisho</td>\n",
       "    </tr>\n",
       "    <tr>\n",
       "      <th>population</th>\n",
       "      <td>0</td>\n",
       "      <td>0</td>\n",
       "      <td>0</td>\n",
       "      <td>0</td>\n",
       "      <td>0</td>\n",
       "    </tr>\n",
       "    <tr>\n",
       "      <th>public_meeting</th>\n",
       "      <td>True</td>\n",
       "      <td>True</td>\n",
       "      <td>True</td>\n",
       "      <td>True</td>\n",
       "      <td>True</td>\n",
       "    </tr>\n",
       "    <tr>\n",
       "      <th>recorded_by</th>\n",
       "      <td>GeoData Consultants Ltd</td>\n",
       "      <td>GeoData Consultants Ltd</td>\n",
       "      <td>GeoData Consultants Ltd</td>\n",
       "      <td>GeoData Consultants Ltd</td>\n",
       "      <td>GeoData Consultants Ltd</td>\n",
       "    </tr>\n",
       "    <tr>\n",
       "      <th>scheme_management</th>\n",
       "      <td>NaN</td>\n",
       "      <td>VWC</td>\n",
       "      <td>NaN</td>\n",
       "      <td>VWC</td>\n",
       "      <td>NaN</td>\n",
       "    </tr>\n",
       "    <tr>\n",
       "      <th>scheme_name</th>\n",
       "      <td>NaN</td>\n",
       "      <td>NaN</td>\n",
       "      <td>NaN</td>\n",
       "      <td>NaN</td>\n",
       "      <td>NaN</td>\n",
       "    </tr>\n",
       "    <tr>\n",
       "      <th>permit</th>\n",
       "      <td>True</td>\n",
       "      <td>True</td>\n",
       "      <td>True</td>\n",
       "      <td>True</td>\n",
       "      <td>True</td>\n",
       "    </tr>\n",
       "    <tr>\n",
       "      <th>construction_year</th>\n",
       "      <td>0</td>\n",
       "      <td>0</td>\n",
       "      <td>0</td>\n",
       "      <td>0</td>\n",
       "      <td>0</td>\n",
       "    </tr>\n",
       "    <tr>\n",
       "      <th>extraction_type</th>\n",
       "      <td>gravity</td>\n",
       "      <td>swn 80</td>\n",
       "      <td>nira/tanira</td>\n",
       "      <td>india mark ii</td>\n",
       "      <td>nira/tanira</td>\n",
       "    </tr>\n",
       "    <tr>\n",
       "      <th>extraction_type_group</th>\n",
       "      <td>gravity</td>\n",
       "      <td>swn 80</td>\n",
       "      <td>nira/tanira</td>\n",
       "      <td>india mark ii</td>\n",
       "      <td>nira/tanira</td>\n",
       "    </tr>\n",
       "    <tr>\n",
       "      <th>extraction_type_class</th>\n",
       "      <td>gravity</td>\n",
       "      <td>handpump</td>\n",
       "      <td>handpump</td>\n",
       "      <td>handpump</td>\n",
       "      <td>handpump</td>\n",
       "    </tr>\n",
       "    <tr>\n",
       "      <th>management</th>\n",
       "      <td>other</td>\n",
       "      <td>vwc</td>\n",
       "      <td>wug</td>\n",
       "      <td>vwc</td>\n",
       "      <td>vwc</td>\n",
       "    </tr>\n",
       "    <tr>\n",
       "      <th>management_group</th>\n",
       "      <td>other</td>\n",
       "      <td>user-group</td>\n",
       "      <td>user-group</td>\n",
       "      <td>user-group</td>\n",
       "      <td>user-group</td>\n",
       "    </tr>\n",
       "    <tr>\n",
       "      <th>payment</th>\n",
       "      <td>never pay</td>\n",
       "      <td>never pay</td>\n",
       "      <td>unknown</td>\n",
       "      <td>never pay</td>\n",
       "      <td>never pay</td>\n",
       "    </tr>\n",
       "    <tr>\n",
       "      <th>payment_type</th>\n",
       "      <td>never pay</td>\n",
       "      <td>never pay</td>\n",
       "      <td>unknown</td>\n",
       "      <td>never pay</td>\n",
       "      <td>never pay</td>\n",
       "    </tr>\n",
       "    <tr>\n",
       "      <th>water_quality</th>\n",
       "      <td>soft</td>\n",
       "      <td>soft</td>\n",
       "      <td>milky</td>\n",
       "      <td>salty</td>\n",
       "      <td>soft</td>\n",
       "    </tr>\n",
       "    <tr>\n",
       "      <th>quality_group</th>\n",
       "      <td>good</td>\n",
       "      <td>good</td>\n",
       "      <td>milky</td>\n",
       "      <td>salty</td>\n",
       "      <td>good</td>\n",
       "    </tr>\n",
       "    <tr>\n",
       "      <th>quantity</th>\n",
       "      <td>seasonal</td>\n",
       "      <td>enough</td>\n",
       "      <td>enough</td>\n",
       "      <td>seasonal</td>\n",
       "      <td>enough</td>\n",
       "    </tr>\n",
       "    <tr>\n",
       "      <th>quantity_group</th>\n",
       "      <td>seasonal</td>\n",
       "      <td>enough</td>\n",
       "      <td>enough</td>\n",
       "      <td>seasonal</td>\n",
       "      <td>enough</td>\n",
       "    </tr>\n",
       "    <tr>\n",
       "      <th>source</th>\n",
       "      <td>rainwater harvesting</td>\n",
       "      <td>machine dbh</td>\n",
       "      <td>shallow well</td>\n",
       "      <td>machine dbh</td>\n",
       "      <td>shallow well</td>\n",
       "    </tr>\n",
       "    <tr>\n",
       "      <th>source_type</th>\n",
       "      <td>rainwater harvesting</td>\n",
       "      <td>borehole</td>\n",
       "      <td>shallow well</td>\n",
       "      <td>borehole</td>\n",
       "      <td>shallow well</td>\n",
       "    </tr>\n",
       "    <tr>\n",
       "      <th>source_class</th>\n",
       "      <td>surface</td>\n",
       "      <td>groundwater</td>\n",
       "      <td>groundwater</td>\n",
       "      <td>groundwater</td>\n",
       "      <td>groundwater</td>\n",
       "    </tr>\n",
       "    <tr>\n",
       "      <th>waterpoint_type</th>\n",
       "      <td>communal standpipe</td>\n",
       "      <td>hand pump</td>\n",
       "      <td>hand pump</td>\n",
       "      <td>hand pump</td>\n",
       "      <td>hand pump</td>\n",
       "    </tr>\n",
       "    <tr>\n",
       "      <th>waterpoint_type_group</th>\n",
       "      <td>communal standpipe</td>\n",
       "      <td>hand pump</td>\n",
       "      <td>hand pump</td>\n",
       "      <td>hand pump</td>\n",
       "      <td>hand pump</td>\n",
       "    </tr>\n",
       "    <tr>\n",
       "      <th>status_group</th>\n",
       "      <td>functional</td>\n",
       "      <td>non functional</td>\n",
       "      <td>non functional</td>\n",
       "      <td>non functional</td>\n",
       "      <td>functional</td>\n",
       "    </tr>\n",
       "    <tr>\n",
       "      <th>public_meeting_label</th>\n",
       "      <td>1</td>\n",
       "      <td>1</td>\n",
       "      <td>1</td>\n",
       "      <td>1</td>\n",
       "      <td>1</td>\n",
       "    </tr>\n",
       "    <tr>\n",
       "      <th>scheme_management_label</th>\n",
       "      <td>12</td>\n",
       "      <td>7</td>\n",
       "      <td>12</td>\n",
       "      <td>7</td>\n",
       "      <td>12</td>\n",
       "    </tr>\n",
       "    <tr>\n",
       "      <th>permit_label</th>\n",
       "      <td>1</td>\n",
       "      <td>1</td>\n",
       "      <td>1</td>\n",
       "      <td>1</td>\n",
       "      <td>1</td>\n",
       "    </tr>\n",
       "  </tbody>\n",
       "</table>\n",
       "</div>"
      ],
      "text/plain": [
       "                                               4                        6  \\\n",
       "id                                         19728                    19816   \n",
       "amount_tsh                                     0                        0   \n",
       "date_recorded                         2011-07-13               2012-10-01   \n",
       "funder                               Action In A                     Dwsp   \n",
       "gps_height                                     0                        0   \n",
       "installer                                Artisan                     DWSP   \n",
       "longitude                                31.1308                  33.3624   \n",
       "latitude                                -1.82536                 -3.76636   \n",
       "wpt_name                                 Shuleni               Kwa Ngomho   \n",
       "num_private                                    0                        0   \n",
       "basin                              Lake Victoria                 Internal   \n",
       "subvillage                            Kyanyamisa            Ishinabulandi   \n",
       "region                                    Kagera                Shinyanga   \n",
       "region_code                                   18                       17   \n",
       "district_code                                  1                        3   \n",
       "lga                                      Karagwe          Shinyanga Rural   \n",
       "ward                                  Nyakasimbi                   Samuye   \n",
       "population                                     0                        0   \n",
       "public_meeting                              True                     True   \n",
       "recorded_by              GeoData Consultants Ltd  GeoData Consultants Ltd   \n",
       "scheme_management                            NaN                      VWC   \n",
       "scheme_name                                  NaN                      NaN   \n",
       "permit                                      True                     True   \n",
       "construction_year                              0                        0   \n",
       "extraction_type                          gravity                   swn 80   \n",
       "extraction_type_group                    gravity                   swn 80   \n",
       "extraction_type_class                    gravity                 handpump   \n",
       "management                                 other                      vwc   \n",
       "management_group                           other               user-group   \n",
       "payment                                never pay                never pay   \n",
       "payment_type                           never pay                never pay   \n",
       "water_quality                               soft                     soft   \n",
       "quality_group                               good                     good   \n",
       "quantity                                seasonal                   enough   \n",
       "quantity_group                          seasonal                   enough   \n",
       "source                      rainwater harvesting              machine dbh   \n",
       "source_type                 rainwater harvesting                 borehole   \n",
       "source_class                             surface              groundwater   \n",
       "waterpoint_type               communal standpipe                hand pump   \n",
       "waterpoint_type_group         communal standpipe                hand pump   \n",
       "status_group                          functional           non functional   \n",
       "public_meeting_label                           1                        1   \n",
       "scheme_management_label                       12                        7   \n",
       "permit_label                                   1                        1   \n",
       "\n",
       "                                               7                        8  \\\n",
       "id                                         54551                    53934   \n",
       "amount_tsh                                     0                        0   \n",
       "date_recorded                         2012-10-09               2012-11-03   \n",
       "funder                                     Rwssp                 Wateraid   \n",
       "gps_height                                     0                        0   \n",
       "installer                                    DWE                Water Aid   \n",
       "longitude                                32.6206                  32.7111   \n",
       "latitude                                 -4.2262                 -5.14671   \n",
       "wpt_name                            Tushirikiane        Kwa Ramadhan Musa   \n",
       "num_private                                    0                        0   \n",
       "basin                            Lake Tanganyika          Lake Tanganyika   \n",
       "subvillage                       Nyawishi Center               Imalauduki   \n",
       "region                                 Shinyanga                   Tabora   \n",
       "region_code                                   17                       14   \n",
       "district_code                                  3                        6   \n",
       "lga                                       Kahama             Tabora Urban   \n",
       "ward                                      Chambo                 Itetemia   \n",
       "population                                     0                        0   \n",
       "public_meeting                              True                     True   \n",
       "recorded_by              GeoData Consultants Ltd  GeoData Consultants Ltd   \n",
       "scheme_management                            NaN                      VWC   \n",
       "scheme_name                                  NaN                      NaN   \n",
       "permit                                      True                     True   \n",
       "construction_year                              0                        0   \n",
       "extraction_type                      nira/tanira            india mark ii   \n",
       "extraction_type_group                nira/tanira            india mark ii   \n",
       "extraction_type_class                   handpump                 handpump   \n",
       "management                                   wug                      vwc   \n",
       "management_group                      user-group               user-group   \n",
       "payment                                  unknown                never pay   \n",
       "payment_type                             unknown                never pay   \n",
       "water_quality                              milky                    salty   \n",
       "quality_group                              milky                    salty   \n",
       "quantity                                  enough                 seasonal   \n",
       "quantity_group                            enough                 seasonal   \n",
       "source                              shallow well              machine dbh   \n",
       "source_type                         shallow well                 borehole   \n",
       "source_class                         groundwater              groundwater   \n",
       "waterpoint_type                        hand pump                hand pump   \n",
       "waterpoint_type_group                  hand pump                hand pump   \n",
       "status_group                      non functional           non functional   \n",
       "public_meeting_label                           1                        1   \n",
       "scheme_management_label                       12                        7   \n",
       "permit_label                                   1                        1   \n",
       "\n",
       "                                               9  \n",
       "id                                         46144  \n",
       "amount_tsh                                     0  \n",
       "date_recorded                         2011-08-03  \n",
       "funder                               Isingiro Ho  \n",
       "gps_height                                     0  \n",
       "installer                                Artisan  \n",
       "longitude                                 30.627  \n",
       "latitude                                -1.25705  \n",
       "wpt_name                                 Kwapeto  \n",
       "num_private                                    0  \n",
       "basin                              Lake Victoria  \n",
       "subvillage                              Mkonomre  \n",
       "region                                    Kagera  \n",
       "region_code                                   18  \n",
       "district_code                                  1  \n",
       "lga                                      Karagwe  \n",
       "ward                                      Kaisho  \n",
       "population                                     0  \n",
       "public_meeting                              True  \n",
       "recorded_by              GeoData Consultants Ltd  \n",
       "scheme_management                            NaN  \n",
       "scheme_name                                  NaN  \n",
       "permit                                      True  \n",
       "construction_year                              0  \n",
       "extraction_type                      nira/tanira  \n",
       "extraction_type_group                nira/tanira  \n",
       "extraction_type_class                   handpump  \n",
       "management                                   vwc  \n",
       "management_group                      user-group  \n",
       "payment                                never pay  \n",
       "payment_type                           never pay  \n",
       "water_quality                               soft  \n",
       "quality_group                               good  \n",
       "quantity                                  enough  \n",
       "quantity_group                            enough  \n",
       "source                              shallow well  \n",
       "source_type                         shallow well  \n",
       "source_class                         groundwater  \n",
       "waterpoint_type                        hand pump  \n",
       "waterpoint_type_group                  hand pump  \n",
       "status_group                          functional  \n",
       "public_meeting_label                           1  \n",
       "scheme_management_label                       12  \n",
       "permit_label                                   1  "
      ]
     },
     "execution_count": 144,
     "metadata": {},
     "output_type": "execute_result"
    }
   ],
   "source": [
    "df_train[df_train['construction_year']==0].head(5).T"
   ]
  },
  {
   "cell_type": "markdown",
   "metadata": {},
   "source": [
    "noticing that wherever the contruction year is 0, we have \n",
    "- num_private 0\n",
    "- population 0 \n",
    "- amount_tsh 0\n",
    "\n",
    "let's verify "
   ]
  },
  {
   "cell_type": "code",
   "execution_count": 145,
   "metadata": {},
   "outputs": [
    {
     "data": {
      "text/html": [
       "<div>\n",
       "<style scoped>\n",
       "    .dataframe tbody tr th:only-of-type {\n",
       "        vertical-align: middle;\n",
       "    }\n",
       "\n",
       "    .dataframe tbody tr th {\n",
       "        vertical-align: top;\n",
       "    }\n",
       "\n",
       "    .dataframe thead th {\n",
       "        text-align: right;\n",
       "    }\n",
       "</style>\n",
       "<table border=\"1\" class=\"dataframe\">\n",
       "  <thead>\n",
       "    <tr style=\"text-align: right;\">\n",
       "      <th></th>\n",
       "      <th>num_private</th>\n",
       "      <th>population</th>\n",
       "      <th>amount_tsh</th>\n",
       "    </tr>\n",
       "  </thead>\n",
       "  <tbody>\n",
       "    <tr>\n",
       "      <th>4</th>\n",
       "      <td>0</td>\n",
       "      <td>0</td>\n",
       "      <td>0.0</td>\n",
       "    </tr>\n",
       "    <tr>\n",
       "      <th>34</th>\n",
       "      <td>0</td>\n",
       "      <td>100</td>\n",
       "      <td>0.0</td>\n",
       "    </tr>\n",
       "    <tr>\n",
       "      <th>131</th>\n",
       "      <td>0</td>\n",
       "      <td>150</td>\n",
       "      <td>20.0</td>\n",
       "    </tr>\n",
       "    <tr>\n",
       "      <th>145</th>\n",
       "      <td>0</td>\n",
       "      <td>150</td>\n",
       "      <td>50.0</td>\n",
       "    </tr>\n",
       "    <tr>\n",
       "      <th>181</th>\n",
       "      <td>0</td>\n",
       "      <td>32</td>\n",
       "      <td>0.0</td>\n",
       "    </tr>\n",
       "    <tr>\n",
       "      <th>...</th>\n",
       "      <td>...</td>\n",
       "      <td>...</td>\n",
       "      <td>...</td>\n",
       "    </tr>\n",
       "    <tr>\n",
       "      <th>57038</th>\n",
       "      <td>0</td>\n",
       "      <td>465</td>\n",
       "      <td>10.0</td>\n",
       "    </tr>\n",
       "    <tr>\n",
       "      <th>57098</th>\n",
       "      <td>0</td>\n",
       "      <td>37</td>\n",
       "      <td>0.0</td>\n",
       "    </tr>\n",
       "    <tr>\n",
       "      <th>57975</th>\n",
       "      <td>0</td>\n",
       "      <td>1010</td>\n",
       "      <td>50.0</td>\n",
       "    </tr>\n",
       "    <tr>\n",
       "      <th>58934</th>\n",
       "      <td>0</td>\n",
       "      <td>550</td>\n",
       "      <td>10.0</td>\n",
       "    </tr>\n",
       "    <tr>\n",
       "      <th>59370</th>\n",
       "      <td>0</td>\n",
       "      <td>1</td>\n",
       "      <td>200.0</td>\n",
       "    </tr>\n",
       "  </tbody>\n",
       "</table>\n",
       "<p>311 rows × 3 columns</p>\n",
       "</div>"
      ],
      "text/plain": [
       "       num_private  population  amount_tsh\n",
       "4                0           0         0.0\n",
       "34               0         100         0.0\n",
       "131              0         150        20.0\n",
       "145              0         150        50.0\n",
       "181              0          32         0.0\n",
       "...            ...         ...         ...\n",
       "57038            0         465        10.0\n",
       "57098            0          37         0.0\n",
       "57975            0        1010        50.0\n",
       "58934            0         550        10.0\n",
       "59370            0           1       200.0\n",
       "\n",
       "[311 rows x 3 columns]"
      ]
     },
     "execution_count": 145,
     "metadata": {},
     "output_type": "execute_result"
    }
   ],
   "source": [
    "df_train[df_train['construction_year']==0][['num_private','population','amount_tsh']].drop_duplicates()"
   ]
  },
  {
   "cell_type": "code",
   "execution_count": 146,
   "metadata": {},
   "outputs": [
    {
     "data": {
      "text/plain": [
       "0      20688\n",
       "14         3\n",
       "150        3\n",
       "5          3\n",
       "1          3\n",
       "7          2\n",
       "34         2\n",
       "16         2\n",
       "111        1\n",
       "27         1\n",
       "20         1\n",
       "Name: num_private, dtype: int64"
      ]
     },
     "execution_count": 146,
     "metadata": {},
     "output_type": "execute_result"
    }
   ],
   "source": [
    "df_train[df_train['construction_year']==0]['num_private'].value_counts()"
   ]
  },
  {
   "cell_type": "markdown",
   "metadata": {},
   "source": [
    "majority is zero, wherever the contruction year is 0"
   ]
  },
  {
   "cell_type": "code",
   "execution_count": 147,
   "metadata": {},
   "outputs": [
    {
     "data": {
      "text/plain": [
       "0       20034\n",
       "1         104\n",
       "100        37\n",
       "150        31\n",
       "200        30\n",
       "        ...  \n",
       "407         1\n",
       "6500        1\n",
       "215         1\n",
       "167         1\n",
       "326         1\n",
       "Name: population, Length: 190, dtype: int64"
      ]
     },
     "execution_count": 147,
     "metadata": {},
     "output_type": "execute_result"
    }
   ],
   "source": [
    "df_train[df_train['construction_year']==0]['population'].value_counts()"
   ]
  },
  {
   "cell_type": "code",
   "execution_count": 148,
   "metadata": {},
   "outputs": [
    {
     "data": {
      "text/plain": [
       "0.0         20302\n",
       "1000.0         89\n",
       "2400.0         81\n",
       "1200.0         46\n",
       "50.0           40\n",
       "20.0           25\n",
       "30.0           20\n",
       "10.0           19\n",
       "100.0          11\n",
       "500.0          10\n",
       "2000.0          9\n",
       "300.0           8\n",
       "25.0            8\n",
       "5000.0          7\n",
       "40.0            5\n",
       "200.0           5\n",
       "15000.0         4\n",
       "6000.0          3\n",
       "6.0             2\n",
       "3600.0          2\n",
       "20000.0         2\n",
       "0.2             2\n",
       "200000.0        1\n",
       "150.0           1\n",
       "7.0             1\n",
       "306.0           1\n",
       "30000.0         1\n",
       "50000.0         1\n",
       "9.0             1\n",
       "10000.0         1\n",
       "250.0           1\n",
       "Name: amount_tsh, dtype: int64"
      ]
     },
     "execution_count": 148,
     "metadata": {},
     "output_type": "execute_result"
    }
   ],
   "source": [
    "df_train[df_train['construction_year']==0]['amount_tsh'].value_counts()"
   ]
  },
  {
   "cell_type": "code",
   "execution_count": 149,
   "metadata": {},
   "outputs": [
    {
     "data": {
      "text/plain": [
       "33.34343434343434"
      ]
     },
     "execution_count": 149,
     "metadata": {},
     "output_type": "execute_result"
    }
   ],
   "source": [
    "# filters\n",
    "yr_zero = df_train['construction_year']==0\n",
    "np_zero = df_train['num_private']==0\n",
    "pop_zero = df_train['population']==0\n",
    "ath_zero = df_train['amount_tsh']==0\n",
    "\n",
    "len(df_train[yr_zero & np_zero & pop_zero & ath_zero])/len(df_train)*100"
   ]
  },
  {
   "cell_type": "code",
   "execution_count": 150,
   "metadata": {},
   "outputs": [
    {
     "data": {
      "text/plain": [
       "functional                 10115\n",
       "non functional              7948\n",
       "functional needs repair     1743\n",
       "Name: status_group, dtype: int64"
      ]
     },
     "execution_count": 150,
     "metadata": {},
     "output_type": "execute_result"
    }
   ],
   "source": [
    "df_train[yr_zero & np_zero & pop_zero & ath_zero].status_group.value_counts()"
   ]
  },
  {
   "cell_type": "code",
   "execution_count": 151,
   "metadata": {},
   "outputs": [
    {
     "data": {
      "text/plain": [
       "functional                 51.070383\n",
       "non functional             40.129254\n",
       "functional needs repair     8.800364\n",
       "Name: status_group, dtype: float64"
      ]
     },
     "execution_count": 151,
     "metadata": {},
     "output_type": "execute_result"
    }
   ],
   "source": [
    "df_train[yr_zero & np_zero & pop_zero & ath_zero].status_group.value_counts()\\\n",
    "/len(df_train[yr_zero & np_zero & pop_zero & ath_zero])*100"
   ]
  },
  {
   "cell_type": "code",
   "execution_count": 152,
   "metadata": {},
   "outputs": [
    {
     "data": {
      "text/plain": [
       "66.65656565656566"
      ]
     },
     "execution_count": 152,
     "metadata": {},
     "output_type": "execute_result"
    }
   ],
   "source": [
    "# filters\n",
    "yr_zero = df_train['construction_year']!=0\n",
    "np_zero = df_train['num_private']!=0\n",
    "pop_zero = df_train['population']!=0\n",
    "ath_zero = df_train['amount_tsh']!=0\n",
    "\n",
    "len(df_train[yr_zero | np_zero | pop_zero | ath_zero])/len(df_train)*100"
   ]
  },
  {
   "cell_type": "code",
   "execution_count": 153,
   "metadata": {},
   "outputs": [
    {
     "data": {
      "text/plain": [
       "functional                 22144\n",
       "non functional             14876\n",
       "functional needs repair     2574\n",
       "Name: status_group, dtype: int64"
      ]
     },
     "execution_count": 153,
     "metadata": {},
     "output_type": "execute_result"
    }
   ],
   "source": [
    "df_train[yr_zero | np_zero | pop_zero | ath_zero].status_group.value_counts()"
   ]
  },
  {
   "cell_type": "code",
   "execution_count": 154,
   "metadata": {},
   "outputs": [
    {
     "data": {
      "text/plain": [
       "functional                 55.927666\n",
       "non functional             37.571349\n",
       "functional needs repair     6.500985\n",
       "Name: status_group, dtype: float64"
      ]
     },
     "execution_count": 154,
     "metadata": {},
     "output_type": "execute_result"
    }
   ],
   "source": [
    "df_train[yr_zero | np_zero | pop_zero | ath_zero].status_group.value_counts()\\\n",
    "/len(df_train[yr_zero | np_zero | pop_zero | ath_zero])*100"
   ]
  },
  {
   "cell_type": "markdown",
   "metadata": {},
   "source": [
    "so, based on above, if all four of these param are zero, we may create another feature called all zero, to see if it contributes or not"
   ]
  },
  {
   "cell_type": "code",
   "execution_count": 155,
   "metadata": {},
   "outputs": [],
   "source": [
    "global_new_feat.append('all_zeros')"
   ]
  },
  {
   "cell_type": "markdown",
   "metadata": {},
   "source": [
    "# Object Features"
   ]
  },
  {
   "cell_type": "code",
   "execution_count": 156,
   "metadata": {},
   "outputs": [
    {
     "name": "stdout",
     "output_type": "stream",
     "text": [
      "<class 'pandas.core.frame.DataFrame'>\n",
      "Int64Index: 59400 entries, 0 to 59399\n",
      "Data columns (total 9 columns):\n",
      " #   Column         Non-Null Count  Dtype \n",
      "---  ------         --------------  ----- \n",
      " 0   date_recorded  59400 non-null  object\n",
      " 1   funder         55765 non-null  object\n",
      " 2   installer      55745 non-null  object\n",
      " 3   wpt_name       59400 non-null  object\n",
      " 4   subvillage     59029 non-null  object\n",
      " 5   lga            59400 non-null  object\n",
      " 6   ward           59400 non-null  object\n",
      " 7   scheme_name    31234 non-null  object\n",
      " 8   status_group   59400 non-null  object\n",
      "dtypes: object(9)\n",
      "memory usage: 7.0+ MB\n"
     ]
    }
   ],
   "source": [
    "df_numeric_ = df_train.select_dtypes(include='object')\n",
    "numeric_cols = df_numeric_.columns\n",
    "df_numeric_.info()\n",
    "del df_numeric_"
   ]
  },
  {
   "cell_type": "markdown",
   "metadata": {},
   "source": [
    "### date_recorded"
   ]
  },
  {
   "cell_type": "code",
   "execution_count": 157,
   "metadata": {},
   "outputs": [
    {
     "data": {
      "text/plain": [
       "356"
      ]
     },
     "execution_count": 157,
     "metadata": {},
     "output_type": "execute_result"
    }
   ],
   "source": [
    "df_train['date_recorded'].nunique()"
   ]
  },
  {
   "cell_type": "markdown",
   "metadata": {},
   "source": [
    "date_recorded is just a data entry date, but maybe possible it contains some patterns\n",
    "\n",
    "to check whether date_recorded has something to do with the status_group, let us extract the year out of it, and see how it goes\n"
   ]
  },
  {
   "cell_type": "code",
   "execution_count": 158,
   "metadata": {},
   "outputs": [
    {
     "data": {
      "text/plain": [
       "array(['2011', '2013', '2012', '2004', '2002'], dtype=object)"
      ]
     },
     "execution_count": 158,
     "metadata": {},
     "output_type": "execute_result"
    }
   ],
   "source": [
    "df_train['record_yr'] = df_train['date_recorded'].apply(lambda x : x[:4])\n",
    "df_train['record_yr'].unique()"
   ]
  },
  {
   "cell_type": "code",
   "execution_count": 159,
   "metadata": {},
   "outputs": [],
   "source": [
    "df_train['record_yr'] = df_train['record_yr'].astype('int16')"
   ]
  },
  {
   "cell_type": "code",
   "execution_count": 160,
   "metadata": {},
   "outputs": [
    {
     "data": {
      "text/plain": [
       "2011    28674\n",
       "2013    24271\n",
       "2012     6424\n",
       "2004       30\n",
       "2002        1\n",
       "Name: record_yr, dtype: int64"
      ]
     },
     "execution_count": 160,
     "metadata": {},
     "output_type": "execute_result"
    }
   ],
   "source": [
    "df_train['record_yr'].value_counts()"
   ]
  },
  {
   "cell_type": "code",
   "execution_count": 161,
   "metadata": {},
   "outputs": [
    {
     "data": {
      "text/plain": [
       "functional                 16220\n",
       "non functional             10642\n",
       "functional needs repair     1812\n",
       "Name: status_group, dtype: int64"
      ]
     },
     "execution_count": 161,
     "metadata": {},
     "output_type": "execute_result"
    }
   ],
   "source": [
    "df_train[df_train['record_yr']==2011].status_group.value_counts()"
   ]
  },
  {
   "cell_type": "code",
   "execution_count": 162,
   "metadata": {},
   "outputs": [
    {
     "data": {
      "text/plain": [
       "functional                 12902\n",
       "non functional              9227\n",
       "functional needs repair     2142\n",
       "Name: status_group, dtype: int64"
      ]
     },
     "execution_count": 162,
     "metadata": {},
     "output_type": "execute_result"
    }
   ],
   "source": [
    "df_train[df_train['record_yr']==2013].status_group.value_counts()"
   ]
  },
  {
   "cell_type": "code",
   "execution_count": 163,
   "metadata": {},
   "outputs": [
    {
     "data": {
      "text/plain": [
       "functional                 3126\n",
       "non functional             2936\n",
       "functional needs repair     362\n",
       "Name: status_group, dtype: int64"
      ]
     },
     "execution_count": 163,
     "metadata": {},
     "output_type": "execute_result"
    }
   ],
   "source": [
    "df_train[df_train['record_yr']==2012].status_group.value_counts()"
   ]
  },
  {
   "cell_type": "code",
   "execution_count": 164,
   "metadata": {},
   "outputs": [
    {
     "data": {
      "text/plain": [
       "non functional             19\n",
       "functional                 10\n",
       "functional needs repair     1\n",
       "Name: status_group, dtype: int64"
      ]
     },
     "execution_count": 164,
     "metadata": {},
     "output_type": "execute_result"
    }
   ],
   "source": [
    "df_train[df_train['record_yr']==2004].status_group.value_counts()"
   ]
  },
  {
   "cell_type": "code",
   "execution_count": 165,
   "metadata": {},
   "outputs": [
    {
     "data": {
      "text/plain": [
       "functional    1\n",
       "Name: status_group, dtype: int64"
      ]
     },
     "execution_count": 165,
     "metadata": {},
     "output_type": "execute_result"
    }
   ],
   "source": [
    "df_train[df_train['record_yr']==2002].status_group.value_counts()"
   ]
  },
  {
   "cell_type": "code",
   "execution_count": 166,
   "metadata": {},
   "outputs": [
    {
     "data": {
      "text/plain": [
       "functional                 16231\n",
       "non functional             10661\n",
       "functional needs repair     1813\n",
       "Name: status_group, dtype: int64"
      ]
     },
     "execution_count": 166,
     "metadata": {},
     "output_type": "execute_result"
    }
   ],
   "source": [
    "df_train[df_train['record_yr']<=2011].status_group.value_counts()"
   ]
  },
  {
   "cell_type": "code",
   "execution_count": 167,
   "metadata": {},
   "outputs": [
    {
     "data": {
      "text/plain": [
       "functional                 16028\n",
       "non functional             12163\n",
       "functional needs repair     2504\n",
       "Name: status_group, dtype: int64"
      ]
     },
     "execution_count": 167,
     "metadata": {},
     "output_type": "execute_result"
    }
   ],
   "source": [
    "df_train[df_train['record_yr']>2011].status_group.value_counts()"
   ]
  },
  {
   "cell_type": "markdown",
   "metadata": {},
   "source": [
    "shows no connection or good pattern that would help the model in my opinion.. so will go by deleting both date_recorded and record_yrm"
   ]
  },
  {
   "cell_type": "code",
   "execution_count": 168,
   "metadata": {},
   "outputs": [
    {
     "data": {
      "text/plain": [
       "['recorded_by',\n",
       " 'region',\n",
       " 'public_meeting',\n",
       " 'scheme_management',\n",
       " 'permit',\n",
       " 'extraction_type_class',\n",
       " 'management_group',\n",
       " 'payment_type',\n",
       " 'quality_group',\n",
       " 'population',\n",
       " 'num_private',\n",
       " 'amount_tsh',\n",
       " 'date_recorded',\n",
       " 'record_yr']"
      ]
     },
     "execution_count": 168,
     "metadata": {},
     "output_type": "execute_result"
    }
   ],
   "source": [
    "global_cols_to_del.append('date_recorded')\n",
    "global_cols_to_del.append('record_yr')\n",
    "global_cols_to_del"
   ]
  },
  {
   "cell_type": "markdown",
   "metadata": {},
   "source": [
    "### funder"
   ]
  },
  {
   "cell_type": "code",
   "execution_count": 169,
   "metadata": {},
   "outputs": [
    {
     "data": {
      "text/plain": [
       "1897"
      ]
     },
     "execution_count": 169,
     "metadata": {},
     "output_type": "execute_result"
    }
   ],
   "source": [
    "df_train['funder'].nunique()"
   ]
  },
  {
   "cell_type": "code",
   "execution_count": 170,
   "metadata": {},
   "outputs": [
    {
     "data": {
      "text/plain": [
       "Government Of Tanzania    9084\n",
       "Danida                    3114\n",
       "Hesawa                    2202\n",
       "Rwssp                     1374\n",
       "World Bank                1349\n",
       "                          ... \n",
       "Simon Lusambi                1\n",
       "Sakwidi                      1\n",
       "Ambwene Mwaikek              1\n",
       "Tareto                       1\n",
       "Gurdians                     1\n",
       "Name: funder, Length: 1897, dtype: int64"
      ]
     },
     "execution_count": 170,
     "metadata": {},
     "output_type": "execute_result"
    }
   ],
   "source": [
    "df_train['funder'].value_counts()"
   ]
  },
  {
   "cell_type": "code",
   "execution_count": 171,
   "metadata": {},
   "outputs": [
    {
     "data": {
      "text/plain": [
       "non functional             51.332012\n",
       "functional                 40.951123\n",
       "functional needs repair     7.716865\n",
       "Name: status_group, dtype: float64"
      ]
     },
     "execution_count": 171,
     "metadata": {},
     "output_type": "execute_result"
    }
   ],
   "source": [
    "filter_govt = df_train['funder']=='Government Of Tanzania'\n",
    "df_train[filter_govt].status_group.value_counts()/len(df_train[filter_govt])*100"
   ]
  },
  {
   "cell_type": "code",
   "execution_count": 172,
   "metadata": {},
   "outputs": [
    {
     "data": {
      "text/plain": [
       "functional                 56.719533\n",
       "non functional             36.093887\n",
       "functional needs repair     7.186581\n",
       "Name: status_group, dtype: float64"
      ]
     },
     "execution_count": 172,
     "metadata": {},
     "output_type": "execute_result"
    }
   ],
   "source": [
    "df_train[filter_govt==False].status_group.value_counts()/len(df_train[filter_govt==False])*100"
   ]
  },
  {
   "cell_type": "markdown",
   "metadata": {},
   "source": [
    "there's not much difference, so we will for time being not use the funder attribute\n",
    "\n",
    "but in order to capture the non-functional and repair status groups, we will try to create an advanced mean encoded feature\n",
    "for funder... and will see how it goes."
   ]
  },
  {
   "cell_type": "code",
   "execution_count": 173,
   "metadata": {},
   "outputs": [
    {
     "data": {
      "text/plain": [
       "['recorded_by',\n",
       " 'region',\n",
       " 'public_meeting',\n",
       " 'scheme_management',\n",
       " 'permit',\n",
       " 'extraction_type_class',\n",
       " 'management_group',\n",
       " 'payment_type',\n",
       " 'quality_group',\n",
       " 'population',\n",
       " 'num_private',\n",
       " 'amount_tsh',\n",
       " 'date_recorded',\n",
       " 'record_yr']"
      ]
     },
     "execution_count": 173,
     "metadata": {},
     "output_type": "execute_result"
    }
   ],
   "source": [
    "global_base_features.append('funder')\n",
    "\n",
    "global_cols_to_del"
   ]
  },
  {
   "cell_type": "code",
   "execution_count": 222,
   "metadata": {},
   "outputs": [],
   "source": [
    "global_mean_feat.append('funder')"
   ]
  },
  {
   "cell_type": "markdown",
   "metadata": {},
   "source": [
    "### installer"
   ]
  },
  {
   "cell_type": "code",
   "execution_count": 174,
   "metadata": {},
   "outputs": [
    {
     "data": {
      "text/plain": [
       "2145"
      ]
     },
     "execution_count": 174,
     "metadata": {},
     "output_type": "execute_result"
    }
   ],
   "source": [
    "df_train['installer'].nunique()"
   ]
  },
  {
   "cell_type": "code",
   "execution_count": 175,
   "metadata": {},
   "outputs": [
    {
     "data": {
      "text/plain": [
       "DWE                17402\n",
       "Government          1825\n",
       "RWE                 1206\n",
       "Commu               1060\n",
       "DANIDA              1050\n",
       "                   ...  \n",
       "CRISTAN OUTRICH        1\n",
       "Crety                  1\n",
       "Bao                    1\n",
       "Magoma ADP             1\n",
       "Bhoke Mwita            1\n",
       "Name: installer, Length: 2145, dtype: int64"
      ]
     },
     "execution_count": 175,
     "metadata": {},
     "output_type": "execute_result"
    }
   ],
   "source": [
    "df_train['installer'].value_counts()"
   ]
  },
  {
   "cell_type": "markdown",
   "metadata": {},
   "source": [
    "we will probably not use it, like funder "
   ]
  },
  {
   "cell_type": "code",
   "execution_count": 176,
   "metadata": {},
   "outputs": [],
   "source": [
    "global_cols_to_del.append('funder')"
   ]
  },
  {
   "cell_type": "markdown",
   "metadata": {},
   "source": [
    "### wpt_name "
   ]
  },
  {
   "cell_type": "code",
   "execution_count": 177,
   "metadata": {},
   "outputs": [
    {
     "data": {
      "text/plain": [
       "37400"
      ]
     },
     "execution_count": 177,
     "metadata": {},
     "output_type": "execute_result"
    }
   ],
   "source": [
    "df_train['wpt_name'].nunique()"
   ]
  },
  {
   "cell_type": "code",
   "execution_count": 178,
   "metadata": {},
   "outputs": [
    {
     "data": {
      "text/plain": [
       "array(['none', 'Zahanati', 'Kwa Mahundi', ..., 'Kwa Yahona Kuvala',\n",
       "       'Mshoro', 'Kwa Mzee Lugawa'], dtype=object)"
      ]
     },
     "execution_count": 178,
     "metadata": {},
     "output_type": "execute_result"
    }
   ],
   "source": [
    "df_train.wpt_name.unique()"
   ]
  },
  {
   "cell_type": "code",
   "execution_count": 179,
   "metadata": {},
   "outputs": [
    {
     "data": {
      "text/plain": [
       "0"
      ]
     },
     "execution_count": 179,
     "metadata": {},
     "output_type": "execute_result"
    }
   ],
   "source": [
    "df_train.wpt_name.isnull().sum()"
   ]
  },
  {
   "cell_type": "code",
   "execution_count": 180,
   "metadata": {},
   "outputs": [],
   "source": [
    "global_cols_to_del.append('wpt_name')"
   ]
  },
  {
   "cell_type": "markdown",
   "metadata": {},
   "source": [
    "### subvillage"
   ]
  },
  {
   "cell_type": "code",
   "execution_count": 181,
   "metadata": {},
   "outputs": [
    {
     "data": {
      "text/plain": [
       "19287"
      ]
     },
     "execution_count": 181,
     "metadata": {},
     "output_type": "execute_result"
    }
   ],
   "source": [
    "df_train['subvillage'].nunique()"
   ]
  },
  {
   "cell_type": "code",
   "execution_count": 182,
   "metadata": {},
   "outputs": [],
   "source": [
    "global_cols_to_del.append('subvillage')"
   ]
  },
  {
   "cell_type": "markdown",
   "metadata": {},
   "source": [
    "### lga\n",
    "\n",
    "or Local Government Association"
   ]
  },
  {
   "cell_type": "code",
   "execution_count": 183,
   "metadata": {},
   "outputs": [
    {
     "data": {
      "text/plain": [
       "125"
      ]
     },
     "execution_count": 183,
     "metadata": {},
     "output_type": "execute_result"
    }
   ],
   "source": [
    "df_train['lga'].nunique()"
   ]
  },
  {
   "cell_type": "code",
   "execution_count": 184,
   "metadata": {},
   "outputs": [],
   "source": [
    "global_base_features.append('lga')"
   ]
  },
  {
   "cell_type": "markdown",
   "metadata": {},
   "source": [
    "since there are around 125 values, I would go for either of the two solutions\n",
    "\n",
    "-a: label encode all the lda, since there is a possibility that certain lga is performing good and certain is not\n",
    "-b: create a mean encoding for the lda with the status_group, and use it instead\n",
    "\n",
    "i would go for option a in the start"
   ]
  },
  {
   "cell_type": "markdown",
   "metadata": {},
   "source": [
    "### ward\n",
    "ward is an administrative division of a city that would come under the lga."
   ]
  },
  {
   "cell_type": "code",
   "execution_count": 185,
   "metadata": {},
   "outputs": [
    {
     "name": "stdout",
     "output_type": "stream",
     "text": [
      "2092\n",
      "Igosi        307\n",
      "Imalinyi     252\n",
      "Siha Kati    232\n",
      "Mdandu       231\n",
      "Nduruma      217\n",
      "            ... \n",
      "Kinungu        1\n",
      "Mkumbi         1\n",
      "Uchindile      1\n",
      "Sungwisi       1\n",
      "Simbay         1\n",
      "Name: ward, Length: 2092, dtype: int64\n"
     ]
    }
   ],
   "source": [
    "print(df_train['ward'].nunique())\n",
    "print(df_train['ward'].value_counts() )"
   ]
  },
  {
   "cell_type": "markdown",
   "metadata": {},
   "source": [
    "there are 2092 distinct values... and I don't think we will at the moment, go in that level of details. "
   ]
  },
  {
   "cell_type": "code",
   "execution_count": 186,
   "metadata": {},
   "outputs": [],
   "source": [
    "global_cols_to_del.append('ward')"
   ]
  },
  {
   "cell_type": "markdown",
   "metadata": {},
   "source": [
    "# Advance Feature Generation"
   ]
  },
  {
   "cell_type": "code",
   "execution_count": 187,
   "metadata": {},
   "outputs": [
    {
     "data": {
      "text/plain": [
       "['region_perf',\n",
       " 'source_type_perf',\n",
       " 'amount_tsh_zero',\n",
       " 'gps_gt_668',\n",
       " 'cons_year_zero',\n",
       " 'pump_age_group',\n",
       " 'all_zeros']"
      ]
     },
     "execution_count": 187,
     "metadata": {},
     "output_type": "execute_result"
    }
   ],
   "source": [
    "global_new_feat"
   ]
  },
  {
   "cell_type": "code",
   "execution_count": 188,
   "metadata": {},
   "outputs": [],
   "source": [
    "def get_region_performance(region):\n",
    "    '''\n",
    "    this function summarizes that we can create feature called region_performance as\n",
    "        poor (f_per <= 45)\n",
    "        average (f_per >45 <=65)\n",
    "        good (f_per > 65)\n",
    "    '''\n",
    "    \n",
    "    region_filter = df_train['region']==region\n",
    "    functional_filter = df_train['status_group']=='functional'\n",
    "    \n",
    "    region_f_perc = len(df_train[(region_filter) & (functional_filter)]) / len(df_train[region_filter]) *100  \n",
    "    region_f_perc = float(region_f_perc)\n",
    "    \n",
    "    if region_f_perc <= 30:\n",
    "        return 'poor'\n",
    "    elif (region_f_perc > 30) & (region_f_perc<= 60):\n",
    "        return 'average'\n",
    "    elif region_f_perc > 60:\n",
    "        return 'good'\n",
    "\n",
    "def source_type_perf(stype):\n",
    "    '''\n",
    "    if the functional_percentage > 50 .. good else average\n",
    "    '''\n",
    "    \n",
    "    stype_filter = df_train['source_type']==stype\n",
    "    functional_filter = df_train['status_group']=='functional'\n",
    "\n",
    "    st_f_perc = len(df_train[(stype_filter) & (functional_filter)]) / len(df_train[stype_filter]) *100  \n",
    "    \n",
    "    if st_f_perc < 50:\n",
    "        return 'average'\n",
    "    else: \n",
    "        return 'good'\n",
    "    \n",
    "\n",
    "def get_pump_age_group(cons_year):\n",
    "    try:\n",
    "        yr = cons_year\n",
    "        if yr < 2000:\n",
    "            return 'old'\n",
    "        elif yr >= 2001 and yr < 2010:\n",
    "            return 'semi old'\n",
    "        else:\n",
    "            return 'new'\n",
    "    except:\n",
    "        return -1\n",
    "    \n",
    "def get_all_zeros(cols):\n",
    "    # filters\n",
    "    if int(cols[0])==0 & int(cols[1])==0 & int(cols[2])==0 & int(cols[3])==0: \n",
    "        return 1\n",
    "    else: \n",
    "        return 0\n",
    "    \n",
    "def label_encode(dfX):\n",
    "    # apply label encoding\n",
    "    dfX['region_perf'] = le.fit_transform(dfX['region_perf'])\n",
    "    dfX['source_type_perf'] = le.fit_transform(dfX['source_type_perf'])    \n",
    "    dfX['pump_age_group'] = le.fit_transform(dfX['pump_age_group'])\n",
    "    dfX['basin'] = le.fit_transform(dfX['basin'])\n",
    "    dfX['region'] = le.fit_transform(dfX['region'])\n",
    "    dfX['extraction_type_group'] = le.fit_transform(dfX['extraction_type_group'])\n",
    "    dfX['extraction_type_class'] = le.fit_transform(dfX['extraction_type_class'])\n",
    "    dfX['extraction_type'] = le.fit_transform(dfX['extraction_type'])\n",
    "    dfX['management'] = le.fit_transform(dfX['management'])\n",
    "    dfX['management_group'] = le.fit_transform(dfX['management_group'])\n",
    "    dfX['payment'] = le.fit_transform(dfX['payment'])\n",
    "    dfX['payment_type'] = le.fit_transform(dfX['payment_type'])\n",
    "    dfX['water_quality'] = le.fit_transform(dfX['water_quality'])\n",
    "    dfX['quality_group'] = le.fit_transform(dfX['quality_group'])\n",
    "    dfX['quantity'] = le.fit_transform(dfX['quantity'])\n",
    "    dfX['source'] = le.fit_transform(dfX['source'])\n",
    "    dfX['source_class'] = le.fit_transform(dfX['source_class'])\n",
    "    dfX['source_type'] = le.fit_transform(dfX['source_type'])\n",
    "    dfX['waterpoint_type'] = le.fit_transform(dfX['waterpoint_type'])\n",
    "    dfX['funder'] = le.fit_transform(dfX['funder'])\n",
    "    dfX['lga'] = le.fit_transform(dfX['lga'])\n",
    "    dfX['district_code'] = le.fit_transform(dfX['district_code'])\n",
    "    dfX['region_code'] = le.fit_transform(dfX['region_code'])\n",
    "    dfX['waterpoint_type_group'] = le.fit_transform(dfX['waterpoint_type_group'])\n",
    "    \n",
    "    return dfX\n",
    "    \n",
    "def down_cast(dfX):\n",
    "    # down casting\n",
    "    dfX['district_code'] = dfX['district_code'].astype('int8')\n",
    "    dfX['basin'] = dfX['basin'].astype('int8')\n",
    "    dfX['region'] = dfX['region'].astype('int8')\n",
    "    dfX['region_code'] = dfX['region_code'].astype('int8')\n",
    "    dfX['public_meeting_label'] = dfX['public_meeting_label'].astype('int8')\n",
    "    dfX['scheme_management_label'] = dfX['scheme_management_label'].astype('int8')\n",
    "    dfX['permit_label'] = dfX['permit_label'].astype('int8')\n",
    "    dfX['extraction_type_group'] = dfX['extraction_type_group'].astype('int8')\n",
    "    dfX['extraction_type_class'] = dfX['extraction_type_class'].astype('int8')\n",
    "    dfX['extraction_type'] = dfX['extraction_type'].astype('int8')\n",
    "    dfX['management'] = dfX['management'].astype('int8')\n",
    "    dfX['management_group'] = dfX['management_group'].astype('int8')\n",
    "    dfX['payment'] = dfX['payment'].astype('int8')\n",
    "    dfX['payment_type'] = dfX['payment_type'].astype('int8')\n",
    "    dfX['water_quality'] = dfX['water_quality'].astype('int8')\n",
    "    dfX['quality_group'] = dfX['quality_group'].astype('int8')\n",
    "    dfX['quantity'] = dfX['quantity'].astype('int8')\n",
    "    dfX['source'] = dfX['source'].astype('int8')\n",
    "    dfX['source_type'] = dfX['source_type'].astype('int8')\n",
    "    dfX['source_class'] = dfX['source_class'].astype('int8')\n",
    "    dfX['waterpoint_type_group'] = dfX['waterpoint_type_group'].astype('int8')\n",
    "    dfX['waterpoint_type'] = dfX['waterpoint_type'].astype('int8')\n",
    "    dfX['population'] = dfX['population'].astype('int16')\n",
    "    dfX['num_private'] = dfX['num_private'].astype('int16')\n",
    "    dfX['amount_tsh'] = dfX['amount_tsh'].astype('int16')\n",
    "    dfX['gps_height'] = dfX['gps_height'].astype('int16')\n",
    "    dfX['construction_year'] = dfX['construction_year'].astype('int16')\n",
    "    dfX['funder'] = dfX['funder'].astype('int16')\n",
    "    dfX['lga'] = dfX['lga'].astype('int16')\n",
    "    dfX['amount_tsh_zero'] = dfX['amount_tsh_zero'].astype('int8')\n",
    "    dfX['gps_gt_668'] = dfX['gps_gt_668'].astype('int8')\n",
    "    dfX['cons_year_zero'] = dfX['cons_year_zero'].astype('int8')\n",
    "    dfX['all_zeros'] = dfX['all_zeros'].astype('int8')\n",
    "    dfX['longitude'] = dfX['longitude'].astype('float16')\n",
    "    dfX['latitude'] = dfX['latitude'].astype('float16')\n",
    "    \n",
    "    return dfX\n",
    "    "
   ]
  },
  {
   "cell_type": "markdown",
   "metadata": {},
   "source": [
    "# Concatenating the Train and Test\n",
    "the reason to do this is to make sure that we save efforts for all the changes, we would've done to generate submission \n"
   ]
  },
  {
   "cell_type": "code",
   "execution_count": 189,
   "metadata": {},
   "outputs": [],
   "source": [
    "df_tt = pd.concat([df_train, df_test_X])"
   ]
  },
  {
   "cell_type": "markdown",
   "metadata": {},
   "source": [
    "**there are certain tasks we performed only on the train during analysis, which we need to perform before we more forward**"
   ]
  },
  {
   "cell_type": "code",
   "execution_count": 190,
   "metadata": {},
   "outputs": [],
   "source": [
    "df_tt['scheme_management_label'] = le.fit_transform(df_tt['scheme_management'])\n",
    "df_tt['public_meeting_label'] = le.fit_transform(df_tt['public_meeting'])\n",
    "df_tt['permit_label'] = le.fit_transform(df_tt['permit'])\n",
    "df_tt['record_yr'] = df_tt['date_recorded'].apply(lambda x : x[:4])"
   ]
  },
  {
   "cell_type": "markdown",
   "metadata": {},
   "source": [
    "**creating the advanced features**"
   ]
  },
  {
   "cell_type": "code",
   "execution_count": 191,
   "metadata": {},
   "outputs": [],
   "source": [
    "df_tt['amount_tsh_zero'] = df_tt['amount_tsh'].apply(lambda x: 1 if x<=0 else 0)\n",
    "df_tt['gps_gt_668'] = df_tt['gps_height'].apply(lambda x: 1 if x>668 else 0)\n",
    "df_tt['cons_year_zero'] = df_tt['construction_year'].apply(lambda x: 1 if x<=0 else 0)\n",
    "df_tt['all_zeros'] = df_tt[['construction_year','num_private','population','amount_tsh']].apply(get_all_zeros, axis=1)\n",
    "df_tt['pump_age_group'] = df_tt['construction_year'].apply(get_pump_age_group)"
   ]
  },
  {
   "cell_type": "markdown",
   "metadata": {},
   "source": [
    "**for calculating the performance we will try to take slightly different approach, as this involves status_group**"
   ]
  },
  {
   "cell_type": "code",
   "execution_count": 192,
   "metadata": {},
   "outputs": [],
   "source": [
    "# get the performance on the train data frame\n",
    "df_train['source_type_perf'] = df_train['source_type'].apply(source_type_perf)\n",
    "df_train['region_perf'] = df_train['region'].apply(get_region_performance)"
   ]
  },
  {
   "cell_type": "markdown",
   "metadata": {},
   "source": [
    "**create the featues in the train_test dataframe combined**"
   ]
  },
  {
   "cell_type": "code",
   "execution_count": 193,
   "metadata": {},
   "outputs": [],
   "source": [
    "df_tt['source_type_perf'] = df_tt['source_type']\n",
    "df_tt['region_perf'] = df_tt['region']"
   ]
  },
  {
   "cell_type": "markdown",
   "metadata": {},
   "source": [
    "**map the respective features**"
   ]
  },
  {
   "cell_type": "code",
   "execution_count": 194,
   "metadata": {},
   "outputs": [],
   "source": [
    "# source type performance\n",
    "st_perf_dict = {}\n",
    "for cval in df_train.source_type.unique():\n",
    "    st_perf_dict[cval] = df_train[df_train['source_type']==cval]['source_type_perf'].values[0]\n",
    "df_tt['source_type_perf'] = df_tt['source_type_perf'].map(st_perf_dict)\n",
    "\n",
    "\n",
    "# region performance\n",
    "region_perf_dict = {}\n",
    "for cval in df_train.region.unique():\n",
    "    region_perf_dict[cval] = df_train[df_train['region']==cval]['region_perf'].values[0]\n",
    "df_tt['region_perf'] = df_tt['region_perf'].map(region_perf_dict)"
   ]
  },
  {
   "cell_type": "markdown",
   "metadata": {},
   "source": [
    "**apply label encoding**"
   ]
  },
  {
   "cell_type": "code",
   "execution_count": 195,
   "metadata": {},
   "outputs": [],
   "source": [
    "df_tt = label_encode(df_tt)"
   ]
  },
  {
   "cell_type": "markdown",
   "metadata": {},
   "source": [
    "**apply down casting**"
   ]
  },
  {
   "cell_type": "code",
   "execution_count": 196,
   "metadata": {},
   "outputs": [],
   "source": [
    "df_tt = down_cast(df_tt)"
   ]
  },
  {
   "cell_type": "code",
   "execution_count": 197,
   "metadata": {},
   "outputs": [
    {
     "name": "stdout",
     "output_type": "stream",
     "text": [
      "<class 'pandas.core.frame.DataFrame'>\n",
      "Int64Index: 74250 entries, 0 to 14849\n",
      "Data columns (total 52 columns):\n",
      " #   Column                   Non-Null Count  Dtype  \n",
      "---  ------                   --------------  -----  \n",
      " 0   id                       74250 non-null  int64  \n",
      " 1   amount_tsh               74250 non-null  int16  \n",
      " 2   date_recorded            74250 non-null  object \n",
      " 3   funder                   74250 non-null  int16  \n",
      " 4   gps_height               74250 non-null  int16  \n",
      " 5   installer                69718 non-null  object \n",
      " 6   longitude                74250 non-null  float16\n",
      " 7   latitude                 74250 non-null  float16\n",
      " 8   wpt_name                 74250 non-null  object \n",
      " 9   num_private              74250 non-null  int16  \n",
      " 10  basin                    74250 non-null  int8   \n",
      " 11  subvillage               73780 non-null  object \n",
      " 12  region                   74250 non-null  int8   \n",
      " 13  region_code              74250 non-null  int8   \n",
      " 14  district_code            74250 non-null  int8   \n",
      " 15  lga                      74250 non-null  int16  \n",
      " 16  ward                     74250 non-null  object \n",
      " 17  population               74250 non-null  int16  \n",
      " 18  public_meeting           70095 non-null  object \n",
      " 19  recorded_by              74250 non-null  object \n",
      " 20  scheme_management        69404 non-null  object \n",
      " 21  scheme_name              38992 non-null  object \n",
      " 22  permit                   70457 non-null  object \n",
      " 23  construction_year        74250 non-null  int16  \n",
      " 24  extraction_type          74250 non-null  int8   \n",
      " 25  extraction_type_group    74250 non-null  int8   \n",
      " 26  extraction_type_class    74250 non-null  int8   \n",
      " 27  management               74250 non-null  int8   \n",
      " 28  management_group         74250 non-null  int8   \n",
      " 29  payment                  74250 non-null  int8   \n",
      " 30  payment_type             74250 non-null  int8   \n",
      " 31  water_quality            74250 non-null  int8   \n",
      " 32  quality_group            74250 non-null  int8   \n",
      " 33  quantity                 74250 non-null  int8   \n",
      " 34  quantity_group           74250 non-null  object \n",
      " 35  source                   74250 non-null  int8   \n",
      " 36  source_type              74250 non-null  int8   \n",
      " 37  source_class             74250 non-null  int8   \n",
      " 38  waterpoint_type          74250 non-null  int8   \n",
      " 39  waterpoint_type_group    74250 non-null  int8   \n",
      " 40  status_group             59400 non-null  object \n",
      " 41  public_meeting_label     74250 non-null  int8   \n",
      " 42  scheme_management_label  74250 non-null  int8   \n",
      " 43  permit_label             74250 non-null  int8   \n",
      " 44  record_yr                74250 non-null  object \n",
      " 45  amount_tsh_zero          74250 non-null  int8   \n",
      " 46  gps_gt_668               74250 non-null  int8   \n",
      " 47  cons_year_zero           74250 non-null  int8   \n",
      " 48  all_zeros                74250 non-null  int8   \n",
      " 49  pump_age_group           74250 non-null  int32  \n",
      " 50  source_type_perf         74250 non-null  int32  \n",
      " 51  region_perf              74250 non-null  int32  \n",
      "dtypes: float16(2), int16(7), int32(3), int64(1), int8(26), object(13)\n",
      "memory usage: 12.5+ MB\n"
     ]
    }
   ],
   "source": [
    "df_tt.info()"
   ]
  },
  {
   "cell_type": "markdown",
   "metadata": {},
   "source": [
    "# 1. Creating Base Feature Set\n",
    "That will be without any additional feature engineering"
   ]
  },
  {
   "cell_type": "code",
   "execution_count": 198,
   "metadata": {},
   "outputs": [],
   "source": [
    "# making sure that the id and status group are part of the base_featues\n",
    "global_base_features.append('id')\n",
    "global_base_features.append('status_group')\n",
    "global_base_features.append('longitude')\n",
    "global_base_features.append('latitude')"
   ]
  },
  {
   "cell_type": "code",
   "execution_count": 199,
   "metadata": {},
   "outputs": [
    {
     "data": {
      "text/plain": [
       "['district_code',\n",
       " 'basin',\n",
       " 'region',\n",
       " 'region_code',\n",
       " 'public_meeting_label',\n",
       " 'scheme_management_label',\n",
       " 'permit_label',\n",
       " 'extraction_type_group',\n",
       " 'extraction_type_class',\n",
       " 'extraction_type',\n",
       " 'management',\n",
       " 'management_group',\n",
       " 'payment',\n",
       " 'payment_type',\n",
       " 'water_quality',\n",
       " 'quality_group',\n",
       " 'quantity',\n",
       " 'source',\n",
       " 'source_class',\n",
       " 'source_type',\n",
       " 'waterpoint_type',\n",
       " 'waterpoint_type_group',\n",
       " 'population',\n",
       " 'num_private',\n",
       " 'amount_tsh',\n",
       " 'gps_height',\n",
       " 'construction_year',\n",
       " 'funder',\n",
       " 'lga',\n",
       " 'id',\n",
       " 'status_group',\n",
       " 'longitude',\n",
       " 'latitude']"
      ]
     },
     "execution_count": 199,
     "metadata": {},
     "output_type": "execute_result"
    }
   ],
   "source": [
    "global_base_features"
   ]
  },
  {
   "cell_type": "code",
   "execution_count": 200,
   "metadata": {},
   "outputs": [
    {
     "data": {
      "text/plain": [
       "59400"
      ]
     },
     "execution_count": 200,
     "metadata": {},
     "output_type": "execute_result"
    }
   ],
   "source": [
    "len(df_train)"
   ]
  },
  {
   "cell_type": "code",
   "execution_count": 201,
   "metadata": {},
   "outputs": [],
   "source": [
    "df_train_refined = df_tt.iloc[:59400,:]\n",
    "df_test_refined = df_tt.iloc[59400:,:]"
   ]
  },
  {
   "cell_type": "code",
   "execution_count": 202,
   "metadata": {},
   "outputs": [
    {
     "name": "stdout",
     "output_type": "stream",
     "text": [
      "<class 'pandas.core.frame.DataFrame'>\n",
      "Int64Index: 59400 entries, 0 to 59399\n",
      "Data columns (total 33 columns):\n",
      " #   Column                   Non-Null Count  Dtype  \n",
      "---  ------                   --------------  -----  \n",
      " 0   district_code            59400 non-null  int8   \n",
      " 1   basin                    59400 non-null  int8   \n",
      " 2   region                   59400 non-null  int8   \n",
      " 3   region_code              59400 non-null  int8   \n",
      " 4   public_meeting_label     59400 non-null  int8   \n",
      " 5   scheme_management_label  59400 non-null  int8   \n",
      " 6   permit_label             59400 non-null  int8   \n",
      " 7   extraction_type_group    59400 non-null  int8   \n",
      " 8   extraction_type_class    59400 non-null  int8   \n",
      " 9   extraction_type          59400 non-null  int8   \n",
      " 10  management               59400 non-null  int8   \n",
      " 11  management_group         59400 non-null  int8   \n",
      " 12  payment                  59400 non-null  int8   \n",
      " 13  payment_type             59400 non-null  int8   \n",
      " 14  water_quality            59400 non-null  int8   \n",
      " 15  quality_group            59400 non-null  int8   \n",
      " 16  quantity                 59400 non-null  int8   \n",
      " 17  source                   59400 non-null  int8   \n",
      " 18  source_class             59400 non-null  int8   \n",
      " 19  source_type              59400 non-null  int8   \n",
      " 20  waterpoint_type          59400 non-null  int8   \n",
      " 21  waterpoint_type_group    59400 non-null  int8   \n",
      " 22  population               59400 non-null  int16  \n",
      " 23  num_private              59400 non-null  int16  \n",
      " 24  amount_tsh               59400 non-null  int16  \n",
      " 25  gps_height               59400 non-null  int16  \n",
      " 26  construction_year        59400 non-null  int16  \n",
      " 27  funder                   59400 non-null  int16  \n",
      " 28  lga                      59400 non-null  int16  \n",
      " 29  id                       59400 non-null  int64  \n",
      " 30  status_group             59400 non-null  object \n",
      " 31  longitude                59400 non-null  float16\n",
      " 32  latitude                 59400 non-null  float16\n",
      "dtypes: float16(2), int16(7), int64(1), int8(22), object(1)\n",
      "memory usage: 3.6+ MB\n"
     ]
    }
   ],
   "source": [
    "df_base = df_train_refined[global_base_features]\n",
    "df_base_test = df_test_refined[global_base_features]\n",
    "df_base.info()"
   ]
  },
  {
   "cell_type": "code",
   "execution_count": 203,
   "metadata": {},
   "outputs": [],
   "source": [
    "df_base.to_csv('feature_sets/base.csv', index=False)\n",
    "df_base_test.to_csv('feature_sets/base_test.csv', index=False)"
   ]
  },
  {
   "cell_type": "markdown",
   "metadata": {},
   "source": [
    "# 2. Creating Base Plus Engineered Feature Set\n",
    "Both base features and engineered features will be part of it"
   ]
  },
  {
   "cell_type": "code",
   "execution_count": 204,
   "metadata": {},
   "outputs": [
    {
     "name": "stdout",
     "output_type": "stream",
     "text": [
      "<class 'pandas.core.frame.DataFrame'>\n",
      "Int64Index: 59400 entries, 0 to 59399\n",
      "Data columns (total 40 columns):\n",
      " #   Column                   Non-Null Count  Dtype  \n",
      "---  ------                   --------------  -----  \n",
      " 0   region_perf              59400 non-null  int32  \n",
      " 1   source_type_perf         59400 non-null  int32  \n",
      " 2   amount_tsh_zero          59400 non-null  int8   \n",
      " 3   gps_gt_668               59400 non-null  int8   \n",
      " 4   cons_year_zero           59400 non-null  int8   \n",
      " 5   pump_age_group           59400 non-null  int32  \n",
      " 6   all_zeros                59400 non-null  int8   \n",
      " 7   district_code            59400 non-null  int8   \n",
      " 8   basin                    59400 non-null  int8   \n",
      " 9   region                   59400 non-null  int8   \n",
      " 10  region_code              59400 non-null  int8   \n",
      " 11  public_meeting_label     59400 non-null  int8   \n",
      " 12  scheme_management_label  59400 non-null  int8   \n",
      " 13  permit_label             59400 non-null  int8   \n",
      " 14  extraction_type_group    59400 non-null  int8   \n",
      " 15  extraction_type_class    59400 non-null  int8   \n",
      " 16  extraction_type          59400 non-null  int8   \n",
      " 17  management               59400 non-null  int8   \n",
      " 18  management_group         59400 non-null  int8   \n",
      " 19  payment                  59400 non-null  int8   \n",
      " 20  payment_type             59400 non-null  int8   \n",
      " 21  water_quality            59400 non-null  int8   \n",
      " 22  quality_group            59400 non-null  int8   \n",
      " 23  quantity                 59400 non-null  int8   \n",
      " 24  source                   59400 non-null  int8   \n",
      " 25  source_class             59400 non-null  int8   \n",
      " 26  source_type              59400 non-null  int8   \n",
      " 27  waterpoint_type          59400 non-null  int8   \n",
      " 28  waterpoint_type_group    59400 non-null  int8   \n",
      " 29  population               59400 non-null  int16  \n",
      " 30  num_private              59400 non-null  int16  \n",
      " 31  amount_tsh               59400 non-null  int16  \n",
      " 32  gps_height               59400 non-null  int16  \n",
      " 33  construction_year        59400 non-null  int16  \n",
      " 34  funder                   59400 non-null  int16  \n",
      " 35  lga                      59400 non-null  int16  \n",
      " 36  id                       59400 non-null  int64  \n",
      " 37  status_group             59400 non-null  object \n",
      " 38  longitude                59400 non-null  float16\n",
      " 39  latitude                 59400 non-null  float16\n",
      "dtypes: float16(2), int16(7), int32(3), int64(1), int8(26), object(1)\n",
      "memory usage: 4.5+ MB\n"
     ]
    }
   ],
   "source": [
    "df_base_advanced = df_train_refined[global_new_feat + global_base_features]\n",
    "df_base_advanced.to_csv('feature_sets/base_adv.csv', index=False)\n",
    "\n",
    "\n",
    "df_base_advanced_test = df_test_refined[global_new_feat + global_base_features]\n",
    "df_base_advanced_test.to_csv('feature_sets/base_adv_test.csv', index=False)\n",
    "\n",
    "\n",
    "df_base_advanced.info()"
   ]
  },
  {
   "cell_type": "markdown",
   "metadata": {},
   "source": [
    "# 3. Creating Filtered Feature Set\n",
    "will remove the features that aren't required"
   ]
  },
  {
   "cell_type": "code",
   "execution_count": 205,
   "metadata": {},
   "outputs": [
    {
     "name": "stdout",
     "output_type": "stream",
     "text": [
      "<class 'pandas.core.frame.DataFrame'>\n",
      "Int64Index: 59400 entries, 0 to 59399\n",
      "Data columns (total 27 columns):\n",
      " #   Column                   Non-Null Count  Dtype  \n",
      "---  ------                   --------------  -----  \n",
      " 0   id                       59400 non-null  int64  \n",
      " 1   gps_height               59400 non-null  int16  \n",
      " 2   installer                55745 non-null  object \n",
      " 3   longitude                59400 non-null  float16\n",
      " 4   latitude                 59400 non-null  float16\n",
      " 5   basin                    59400 non-null  int8   \n",
      " 6   region_code              59400 non-null  int8   \n",
      " 7   district_code            59400 non-null  int8   \n",
      " 8   lga                      59400 non-null  int16  \n",
      " 9   scheme_name              31234 non-null  object \n",
      " 10  construction_year        59400 non-null  int16  \n",
      " 11  extraction_type          59400 non-null  int8   \n",
      " 12  extraction_type_group    59400 non-null  int8   \n",
      " 13  management               59400 non-null  int8   \n",
      " 14  payment                  59400 non-null  int8   \n",
      " 15  water_quality            59400 non-null  int8   \n",
      " 16  quantity                 59400 non-null  int8   \n",
      " 17  quantity_group           59400 non-null  object \n",
      " 18  source                   59400 non-null  int8   \n",
      " 19  source_type              59400 non-null  int8   \n",
      " 20  source_class             59400 non-null  int8   \n",
      " 21  waterpoint_type          59400 non-null  int8   \n",
      " 22  waterpoint_type_group    59400 non-null  int8   \n",
      " 23  status_group             59400 non-null  object \n",
      " 24  public_meeting_label     59400 non-null  int8   \n",
      " 25  scheme_management_label  59400 non-null  int8   \n",
      " 26  permit_label             59400 non-null  int8   \n",
      "dtypes: float16(2), int16(3), int64(1), int8(17), object(4)\n",
      "memory usage: 4.2+ MB\n"
     ]
    }
   ],
   "source": [
    "local_cols_to_del = [] \n",
    "for col in global_cols_to_del:\n",
    "    if col in df_train.columns:\n",
    "        local_cols_to_del.append(col)        \n",
    "\n",
    "df_base_filtered = df_train_refined.drop(local_cols_to_del + global_new_feat, axis=1)\n",
    "df_base_filtered_test = df_test_refined.drop(local_cols_to_del + global_new_feat, axis=1)\n",
    "df_base_filtered.info()"
   ]
  },
  {
   "cell_type": "code",
   "execution_count": 206,
   "metadata": {},
   "outputs": [],
   "source": [
    "df_base_filtered.to_csv('feature_sets/base_filtered.csv', index=False)\n",
    "df_base_filtered_test.to_csv('feature_sets/base_filtered_test.csv', index=False)"
   ]
  },
  {
   "cell_type": "markdown",
   "metadata": {},
   "source": [
    "# 4. Creating Filtered Feature Set with Engineered Features\n",
    "will remove the features that aren't required and add the Engineered Features"
   ]
  },
  {
   "cell_type": "code",
   "execution_count": 207,
   "metadata": {},
   "outputs": [],
   "source": [
    "df_base_adv_filtered = df_train_refined.drop(local_cols_to_del, axis=1)\n",
    "df_base_adv_filtered_test = df_test_refined.drop(local_cols_to_del, axis=1)\n",
    "df_base_adv_filtered.to_csv('feature_sets/base_adv_filtered.csv', index=False)\n",
    "df_base_adv_filtered_test.to_csv('feature_sets/base_adv_filtered_test.csv', index=False)"
   ]
  },
  {
   "cell_type": "code",
   "execution_count": 208,
   "metadata": {},
   "outputs": [
    {
     "name": "stdout",
     "output_type": "stream",
     "text": [
      "<class 'pandas.core.frame.DataFrame'>\n",
      "Int64Index: 59400 entries, 0 to 59399\n",
      "Data columns (total 34 columns):\n",
      " #   Column                   Non-Null Count  Dtype  \n",
      "---  ------                   --------------  -----  \n",
      " 0   id                       59400 non-null  int64  \n",
      " 1   gps_height               59400 non-null  int16  \n",
      " 2   installer                55745 non-null  object \n",
      " 3   longitude                59400 non-null  float16\n",
      " 4   latitude                 59400 non-null  float16\n",
      " 5   basin                    59400 non-null  int8   \n",
      " 6   region_code              59400 non-null  int8   \n",
      " 7   district_code            59400 non-null  int8   \n",
      " 8   lga                      59400 non-null  int16  \n",
      " 9   scheme_name              31234 non-null  object \n",
      " 10  construction_year        59400 non-null  int16  \n",
      " 11  extraction_type          59400 non-null  int8   \n",
      " 12  extraction_type_group    59400 non-null  int8   \n",
      " 13  management               59400 non-null  int8   \n",
      " 14  payment                  59400 non-null  int8   \n",
      " 15  water_quality            59400 non-null  int8   \n",
      " 16  quantity                 59400 non-null  int8   \n",
      " 17  quantity_group           59400 non-null  object \n",
      " 18  source                   59400 non-null  int8   \n",
      " 19  source_type              59400 non-null  int8   \n",
      " 20  source_class             59400 non-null  int8   \n",
      " 21  waterpoint_type          59400 non-null  int8   \n",
      " 22  waterpoint_type_group    59400 non-null  int8   \n",
      " 23  status_group             59400 non-null  object \n",
      " 24  public_meeting_label     59400 non-null  int8   \n",
      " 25  scheme_management_label  59400 non-null  int8   \n",
      " 26  permit_label             59400 non-null  int8   \n",
      " 27  amount_tsh_zero          59400 non-null  int8   \n",
      " 28  gps_gt_668               59400 non-null  int8   \n",
      " 29  cons_year_zero           59400 non-null  int8   \n",
      " 30  all_zeros                59400 non-null  int8   \n",
      " 31  pump_age_group           59400 non-null  int32  \n",
      " 32  source_type_perf         59400 non-null  int32  \n",
      " 33  region_perf              59400 non-null  int32  \n",
      "dtypes: float16(2), int16(3), int32(3), int64(1), int8(21), object(4)\n",
      "memory usage: 5.2+ MB\n"
     ]
    }
   ],
   "source": [
    "df_base_adv_filtered.info()"
   ]
  },
  {
   "cell_type": "code",
   "execution_count": 209,
   "metadata": {},
   "outputs": [
    {
     "name": "stdout",
     "output_type": "stream",
     "text": [
      "<class 'pandas.core.frame.DataFrame'>\n",
      "Int64Index: 59400 entries, 0 to 59399\n",
      "Data columns (total 40 columns):\n",
      " #   Column                   Non-Null Count  Dtype  \n",
      "---  ------                   --------------  -----  \n",
      " 0   region_perf              59400 non-null  int32  \n",
      " 1   source_type_perf         59400 non-null  int32  \n",
      " 2   amount_tsh_zero          59400 non-null  int8   \n",
      " 3   gps_gt_668               59400 non-null  int8   \n",
      " 4   cons_year_zero           59400 non-null  int8   \n",
      " 5   pump_age_group           59400 non-null  int32  \n",
      " 6   all_zeros                59400 non-null  int8   \n",
      " 7   district_code            59400 non-null  int8   \n",
      " 8   basin                    59400 non-null  int8   \n",
      " 9   region                   59400 non-null  int8   \n",
      " 10  region_code              59400 non-null  int8   \n",
      " 11  public_meeting_label     59400 non-null  int8   \n",
      " 12  scheme_management_label  59400 non-null  int8   \n",
      " 13  permit_label             59400 non-null  int8   \n",
      " 14  extraction_type_group    59400 non-null  int8   \n",
      " 15  extraction_type_class    59400 non-null  int8   \n",
      " 16  extraction_type          59400 non-null  int8   \n",
      " 17  management               59400 non-null  int8   \n",
      " 18  management_group         59400 non-null  int8   \n",
      " 19  payment                  59400 non-null  int8   \n",
      " 20  payment_type             59400 non-null  int8   \n",
      " 21  water_quality            59400 non-null  int8   \n",
      " 22  quality_group            59400 non-null  int8   \n",
      " 23  quantity                 59400 non-null  int8   \n",
      " 24  source                   59400 non-null  int8   \n",
      " 25  source_class             59400 non-null  int8   \n",
      " 26  source_type              59400 non-null  int8   \n",
      " 27  waterpoint_type          59400 non-null  int8   \n",
      " 28  waterpoint_type_group    59400 non-null  int8   \n",
      " 29  population               59400 non-null  int16  \n",
      " 30  num_private              59400 non-null  int16  \n",
      " 31  amount_tsh               59400 non-null  int16  \n",
      " 32  gps_height               59400 non-null  int16  \n",
      " 33  construction_year        59400 non-null  int16  \n",
      " 34  funder                   59400 non-null  int16  \n",
      " 35  lga                      59400 non-null  int16  \n",
      " 36  id                       59400 non-null  int64  \n",
      " 37  status_group             59400 non-null  object \n",
      " 38  longitude                59400 non-null  float16\n",
      " 39  latitude                 59400 non-null  float16\n",
      "dtypes: float16(2), int16(7), int32(3), int64(1), int8(26), object(1)\n",
      "memory usage: 4.5+ MB\n"
     ]
    }
   ],
   "source": [
    "df_base_advanced.info()"
   ]
  },
  {
   "cell_type": "markdown",
   "metadata": {},
   "source": [
    "$Advanced Mean Features$\n",
    "\n",
    "\n",
    "# Creating Base \n",
    "# + Mean Encoded Features"
   ]
  },
  {
   "cell_type": "markdown",
   "metadata": {},
   "source": [
    "Note that creating a mean encoded features for binary classification or regression task is easy\n",
    "but for categorical encoding or multi-class encoding is a differnt scenario all together. \n",
    "\n",
    "- first we've to carefully select whcih features we are going to use for encoding. \n",
    "- second we are going to create one-hot encoding for the target (status_group in this case)\n",
    "- then we will have to create mean for each of the three (one deleted, then two) features\n",
    "\n",
    "all in all, for each attribute, we are going to create two mean_encoded features.\n",
    "\n",
    "so (let's say if we have 5 attributes for mean encoding, then we will end up having 10 features)\n",
    "\n",
    "\n",
    "The libraries which can be used for this purpose are\n",
    "- pandas (get_dummies) **I will go by this**\n",
    "- sklearn.preprocessing.OneHotEncoder\n",
    "- sklearn.preprocessing.LabelBinarizer"
   ]
  },
  {
   "cell_type": "markdown",
   "metadata": {},
   "source": [
    "# Creating One Hot encoding for the status group"
   ]
  },
  {
   "cell_type": "code",
   "execution_count": 279,
   "metadata": {},
   "outputs": [
    {
     "data": {
      "text/html": [
       "<div>\n",
       "<style scoped>\n",
       "    .dataframe tbody tr th:only-of-type {\n",
       "        vertical-align: middle;\n",
       "    }\n",
       "\n",
       "    .dataframe tbody tr th {\n",
       "        vertical-align: top;\n",
       "    }\n",
       "\n",
       "    .dataframe thead th {\n",
       "        text-align: right;\n",
       "    }\n",
       "</style>\n",
       "<table border=\"1\" class=\"dataframe\">\n",
       "  <thead>\n",
       "    <tr style=\"text-align: right;\">\n",
       "      <th></th>\n",
       "      <th>functional needs repair</th>\n",
       "      <th>non functional</th>\n",
       "    </tr>\n",
       "  </thead>\n",
       "  <tbody>\n",
       "    <tr>\n",
       "      <th>0</th>\n",
       "      <td>0</td>\n",
       "      <td>0</td>\n",
       "    </tr>\n",
       "    <tr>\n",
       "      <th>1</th>\n",
       "      <td>0</td>\n",
       "      <td>0</td>\n",
       "    </tr>\n",
       "    <tr>\n",
       "      <th>2</th>\n",
       "      <td>0</td>\n",
       "      <td>0</td>\n",
       "    </tr>\n",
       "    <tr>\n",
       "      <th>3</th>\n",
       "      <td>0</td>\n",
       "      <td>1</td>\n",
       "    </tr>\n",
       "    <tr>\n",
       "      <th>4</th>\n",
       "      <td>0</td>\n",
       "      <td>0</td>\n",
       "    </tr>\n",
       "    <tr>\n",
       "      <th>5</th>\n",
       "      <td>0</td>\n",
       "      <td>0</td>\n",
       "    </tr>\n",
       "    <tr>\n",
       "      <th>6</th>\n",
       "      <td>0</td>\n",
       "      <td>1</td>\n",
       "    </tr>\n",
       "  </tbody>\n",
       "</table>\n",
       "</div>"
      ],
      "text/plain": [
       "   functional needs repair  non functional\n",
       "0                        0               0\n",
       "1                        0               0\n",
       "2                        0               0\n",
       "3                        0               1\n",
       "4                        0               0\n",
       "5                        0               0\n",
       "6                        0               1"
      ]
     },
     "execution_count": 279,
     "metadata": {},
     "output_type": "execute_result"
    }
   ],
   "source": [
    "sg_one_hot = pd.get_dummies(df_base.status_group,drop_first=True)\n",
    "sg_one_hot.head(7)"
   ]
  },
  {
   "cell_type": "markdown",
   "metadata": {},
   "source": [
    "**join this with the df_base**"
   ]
  },
  {
   "cell_type": "code",
   "execution_count": 280,
   "metadata": {},
   "outputs": [],
   "source": [
    "df_base = pd.concat([df_base,sg_one_hot], axis=1)"
   ]
  },
  {
   "cell_type": "code",
   "execution_count": 281,
   "metadata": {},
   "outputs": [
    {
     "data": {
      "text/html": [
       "<div>\n",
       "<style scoped>\n",
       "    .dataframe tbody tr th:only-of-type {\n",
       "        vertical-align: middle;\n",
       "    }\n",
       "\n",
       "    .dataframe tbody tr th {\n",
       "        vertical-align: top;\n",
       "    }\n",
       "\n",
       "    .dataframe thead th {\n",
       "        text-align: right;\n",
       "    }\n",
       "</style>\n",
       "<table border=\"1\" class=\"dataframe\">\n",
       "  <thead>\n",
       "    <tr style=\"text-align: right;\">\n",
       "      <th></th>\n",
       "      <th>status_group</th>\n",
       "      <th>functional needs repair</th>\n",
       "      <th>non functional</th>\n",
       "    </tr>\n",
       "  </thead>\n",
       "  <tbody>\n",
       "    <tr>\n",
       "      <th>0</th>\n",
       "      <td>functional</td>\n",
       "      <td>0</td>\n",
       "      <td>0</td>\n",
       "    </tr>\n",
       "    <tr>\n",
       "      <th>3</th>\n",
       "      <td>non functional</td>\n",
       "      <td>0</td>\n",
       "      <td>1</td>\n",
       "    </tr>\n",
       "    <tr>\n",
       "      <th>18</th>\n",
       "      <td>functional needs repair</td>\n",
       "      <td>1</td>\n",
       "      <td>0</td>\n",
       "    </tr>\n",
       "  </tbody>\n",
       "</table>\n",
       "</div>"
      ],
      "text/plain": [
       "               status_group  functional needs repair  non functional\n",
       "0                functional                        0               0\n",
       "3            non functional                        0               1\n",
       "18  functional needs repair                        1               0"
      ]
     },
     "execution_count": 281,
     "metadata": {},
     "output_type": "execute_result"
    }
   ],
   "source": [
    "df_base[['status_group','functional needs repair','non functional']].drop_duplicates()"
   ]
  },
  {
   "cell_type": "markdown",
   "metadata": {},
   "source": [
    "**generating encoding**"
   ]
  },
  {
   "cell_type": "code",
   "execution_count": 286,
   "metadata": {},
   "outputs": [
    {
     "name": "stderr",
     "output_type": "stream",
     "text": [
      "C:\\ProgramData\\Anaconda3\\lib\\site-packages\\ipykernel_launcher.py:12: SettingWithCopyWarning: \n",
      "A value is trying to be set on a copy of a slice from a DataFrame.\n",
      "Try using .loc[row_indexer,col_indexer] = value instead\n",
      "\n",
      "See the caveats in the documentation: https://pandas.pydata.org/pandas-docs/stable/user_guide/indexing.html#returning-a-view-versus-a-copy\n",
      "  if sys.path[0] == '':\n",
      "C:\\ProgramData\\Anaconda3\\lib\\site-packages\\ipykernel_launcher.py:13: SettingWithCopyWarning: \n",
      "A value is trying to be set on a copy of a slice from a DataFrame.\n",
      "Try using .loc[row_indexer,col_indexer] = value instead\n",
      "\n",
      "See the caveats in the documentation: https://pandas.pydata.org/pandas-docs/stable/user_guide/indexing.html#returning-a-view-versus-a-copy\n",
      "  del sys.path[0]\n"
     ]
    }
   ],
   "source": [
    "\n",
    "for feat in global_mean_feat:\n",
    "    enc_feat_nf = feat + '_mean_nf' # for non functional\n",
    "    enc_feat_fr = feat + '_mean_fr' # functional needs repair\n",
    "    \n",
    "    mean_nf = df_base.groupby(feat)['non functional'].mean()\n",
    "    mean_fr = df_base.groupby(feat)['functional needs repair'].mean()\n",
    "    \n",
    "    df_base[enc_feat_nf] = df_base[feat].map(mean_nf)\n",
    "    df_base[enc_feat_fr] = df_base[feat].map(mean_fr)\n",
    "    \n",
    "    # keeping the features for incorporating on the test    \n",
    "    df_base_test[enc_feat_nf] = df_base_test[feat].map(mean_nf)\n",
    "    df_base_test[enc_feat_fr] = df_base_test[feat].map(mean_fr)\n"
   ]
  },
  {
   "cell_type": "markdown",
   "metadata": {},
   "source": [
    "**once done, let's check for the smalles categorical attribute**"
   ]
  },
  {
   "cell_type": "code",
   "execution_count": 283,
   "metadata": {},
   "outputs": [
    {
     "data": {
      "text/plain": [
       "region                       21\n",
       "scheme_management_label      13\n",
       "extraction_type_group        13\n",
       "management                   12\n",
       "payment                       7\n",
       "quantity                      5\n",
       "source                       10\n",
       "funder                     1898\n",
       "dtype: int64"
      ]
     },
     "execution_count": 283,
     "metadata": {},
     "output_type": "execute_result"
    }
   ],
   "source": [
    "df_base[global_mean_feat].nunique()"
   ]
  },
  {
   "cell_type": "code",
   "execution_count": 290,
   "metadata": {},
   "outputs": [
    {
     "data": {
      "text/html": [
       "<div>\n",
       "<style scoped>\n",
       "    .dataframe tbody tr th:only-of-type {\n",
       "        vertical-align: middle;\n",
       "    }\n",
       "\n",
       "    .dataframe tbody tr th {\n",
       "        vertical-align: top;\n",
       "    }\n",
       "\n",
       "    .dataframe thead th {\n",
       "        text-align: right;\n",
       "    }\n",
       "</style>\n",
       "<table border=\"1\" class=\"dataframe\">\n",
       "  <thead>\n",
       "    <tr style=\"text-align: right;\">\n",
       "      <th></th>\n",
       "      <th>quantity_mean_nf</th>\n",
       "      <th>quantity</th>\n",
       "    </tr>\n",
       "  </thead>\n",
       "  <tbody>\n",
       "    <tr>\n",
       "      <th>0</th>\n",
       "      <td>0.323210</td>\n",
       "      <td>3</td>\n",
       "    </tr>\n",
       "    <tr>\n",
       "      <th>1</th>\n",
       "      <td>0.380924</td>\n",
       "      <td>2</td>\n",
       "    </tr>\n",
       "    <tr>\n",
       "      <th>3</th>\n",
       "      <td>0.968940</td>\n",
       "      <td>0</td>\n",
       "    </tr>\n",
       "    <tr>\n",
       "      <th>4</th>\n",
       "      <td>0.275357</td>\n",
       "      <td>1</td>\n",
       "    </tr>\n",
       "    <tr>\n",
       "      <th>54</th>\n",
       "      <td>0.712294</td>\n",
       "      <td>4</td>\n",
       "    </tr>\n",
       "  </tbody>\n",
       "</table>\n",
       "</div>"
      ],
      "text/plain": [
       "    quantity_mean_nf  quantity\n",
       "0           0.323210         3\n",
       "1           0.380924         2\n",
       "3           0.968940         0\n",
       "4           0.275357         1\n",
       "54          0.712294         4"
      ]
     },
     "execution_count": 290,
     "metadata": {},
     "output_type": "execute_result"
    }
   ],
   "source": [
    "df_base_test[['quantity_mean_nf','quantity']].drop_duplicates()"
   ]
  },
  {
   "cell_type": "code",
   "execution_count": 284,
   "metadata": {},
   "outputs": [
    {
     "data": {
      "text/html": [
       "<div>\n",
       "<style scoped>\n",
       "    .dataframe tbody tr th:only-of-type {\n",
       "        vertical-align: middle;\n",
       "    }\n",
       "\n",
       "    .dataframe tbody tr th {\n",
       "        vertical-align: top;\n",
       "    }\n",
       "\n",
       "    .dataframe thead th {\n",
       "        text-align: right;\n",
       "    }\n",
       "</style>\n",
       "<table border=\"1\" class=\"dataframe\">\n",
       "  <thead>\n",
       "    <tr style=\"text-align: right;\">\n",
       "      <th></th>\n",
       "      <th>quantity_mean_nf</th>\n",
       "      <th>quantity</th>\n",
       "    </tr>\n",
       "  </thead>\n",
       "  <tbody>\n",
       "    <tr>\n",
       "      <th>0</th>\n",
       "      <td>0.275357</td>\n",
       "      <td>1</td>\n",
       "    </tr>\n",
       "    <tr>\n",
       "      <th>1</th>\n",
       "      <td>0.380924</td>\n",
       "      <td>2</td>\n",
       "    </tr>\n",
       "    <tr>\n",
       "      <th>3</th>\n",
       "      <td>0.968940</td>\n",
       "      <td>0</td>\n",
       "    </tr>\n",
       "    <tr>\n",
       "      <th>4</th>\n",
       "      <td>0.323210</td>\n",
       "      <td>3</td>\n",
       "    </tr>\n",
       "    <tr>\n",
       "      <th>21</th>\n",
       "      <td>0.712294</td>\n",
       "      <td>4</td>\n",
       "    </tr>\n",
       "  </tbody>\n",
       "</table>\n",
       "</div>"
      ],
      "text/plain": [
       "    quantity_mean_nf  quantity\n",
       "0           0.275357         1\n",
       "1           0.380924         2\n",
       "3           0.968940         0\n",
       "4           0.323210         3\n",
       "21          0.712294         4"
      ]
     },
     "execution_count": 284,
     "metadata": {},
     "output_type": "execute_result"
    }
   ],
   "source": [
    "df_base[['quantity_mean_nf','quantity']].drop_duplicates()"
   ]
  },
  {
   "cell_type": "markdown",
   "metadata": {},
   "source": [
    "**verifying**"
   ]
  },
  {
   "cell_type": "code",
   "execution_count": 285,
   "metadata": {},
   "outputs": [],
   "source": [
    "filter_qty = df_base['quantity']==2    \n",
    "assert np.round((df_base[filter_qty]['status_group'].value_counts()/len(df_base[filter_qty]))[1],6)==0.380924"
   ]
  },
  {
   "cell_type": "markdown",
   "metadata": {},
   "source": [
    "**saving the file**"
   ]
  },
  {
   "cell_type": "code",
   "execution_count": 291,
   "metadata": {},
   "outputs": [],
   "source": [
    "df_base.to_csv('feature_sets/base_mean.csv', index=False)\n",
    "df_base_test.to_csv('feature_sets/base_mean_test.csv', index=False)"
   ]
  },
  {
   "cell_type": "markdown",
   "metadata": {},
   "source": [
    "# Apply the same for the Base+Advance+Mean"
   ]
  },
  {
   "cell_type": "code",
   "execution_count": 292,
   "metadata": {},
   "outputs": [
    {
     "name": "stderr",
     "output_type": "stream",
     "text": [
      "C:\\ProgramData\\Anaconda3\\lib\\site-packages\\ipykernel_launcher.py:16: SettingWithCopyWarning: \n",
      "A value is trying to be set on a copy of a slice from a DataFrame.\n",
      "Try using .loc[row_indexer,col_indexer] = value instead\n",
      "\n",
      "See the caveats in the documentation: https://pandas.pydata.org/pandas-docs/stable/user_guide/indexing.html#returning-a-view-versus-a-copy\n",
      "  app.launch_new_instance()\n",
      "C:\\ProgramData\\Anaconda3\\lib\\site-packages\\ipykernel_launcher.py:17: SettingWithCopyWarning: \n",
      "A value is trying to be set on a copy of a slice from a DataFrame.\n",
      "Try using .loc[row_indexer,col_indexer] = value instead\n",
      "\n",
      "See the caveats in the documentation: https://pandas.pydata.org/pandas-docs/stable/user_guide/indexing.html#returning-a-view-versus-a-copy\n"
     ]
    }
   ],
   "source": [
    "# Concat the dummies to the data frame (only test)\n",
    "df_base_advanced = pd.concat([df_base_advanced,sg_one_hot], axis=1)\n",
    "\n",
    "# applying the mean features\n",
    "for feat in global_mean_feat:\n",
    "    enc_feat_nf = feat + '_mean_nf' # for non functional\n",
    "    enc_feat_fr = feat + '_mean_fr' # functional needs repair\n",
    "    \n",
    "    mean_nf = df_base_advanced.groupby(feat)['non functional'].mean()\n",
    "    mean_fr = df_base_advanced.groupby(feat)['functional needs repair'].mean()\n",
    "    \n",
    "    df_base_advanced[enc_feat_nf] = df_base_advanced[feat].map(mean_nf)\n",
    "    df_base_advanced[enc_feat_fr] = df_base_advanced[feat].map(mean_fr)\n",
    "    \n",
    "    # keeping the features for incorporating on the test    \n",
    "    df_base_advanced_test[enc_feat_nf] = df_base_advanced_test[feat].map(mean_nf)\n",
    "    df_base_advanced_test[enc_feat_fr] = df_base_advanced_test[feat].map(mean_fr)"
   ]
  },
  {
   "cell_type": "markdown",
   "metadata": {},
   "source": [
    "**verifying**"
   ]
  },
  {
   "cell_type": "code",
   "execution_count": 294,
   "metadata": {},
   "outputs": [],
   "source": [
    "filter_qty = df_base_advanced['quantity']==2    \n",
    "assert np.round((df_base_advanced[filter_qty]['status_group'].value_counts()/len(df_base_advanced[filter_qty]))[1],6)==0.380924"
   ]
  },
  {
   "cell_type": "markdown",
   "metadata": {},
   "source": [
    "**saving the feature sets**"
   ]
  },
  {
   "cell_type": "code",
   "execution_count": 295,
   "metadata": {},
   "outputs": [],
   "source": [
    "df_base_advanced.to_csv('feature_sets/base_adv_mean.csv', index=False)\n",
    "df_base_advanced_test.to_csv('feature_sets/base_adv_mean_test.csv', index=False)"
   ]
  },
  {
   "cell_type": "code",
   "execution_count": null,
   "metadata": {},
   "outputs": [],
   "source": []
  }
 ],
 "metadata": {
  "kernelspec": {
   "display_name": "Python 3",
   "language": "python",
   "name": "python3"
  },
  "language_info": {
   "codemirror_mode": {
    "name": "ipython",
    "version": 3
   },
   "file_extension": ".py",
   "mimetype": "text/x-python",
   "name": "python",
   "nbconvert_exporter": "python",
   "pygments_lexer": "ipython3",
   "version": "3.7.6"
  }
 },
 "nbformat": 4,
 "nbformat_minor": 4
}
