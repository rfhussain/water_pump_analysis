{
 "cells": [
  {
   "cell_type": "markdown",
   "metadata": {},
   "source": [
    "# Submission"
   ]
  },
  {
   "cell_type": "code",
   "execution_count": 2,
   "metadata": {},
   "outputs": [],
   "source": [
    "import pandas as pd\n",
    "import numpy as np\n",
    "from sklearn.ensemble import RandomForestClassifier\n",
    "from imblearn.ensemble import BalancedRandomForestClassifier"
   ]
  },
  {
   "cell_type": "code",
   "execution_count": 5,
   "metadata": {},
   "outputs": [
    {
     "name": "stderr",
     "output_type": "stream",
     "text": [
      "[Parallel(n_jobs=-1)]: Using backend ThreadingBackend with 8 concurrent workers.\n",
      "[Parallel(n_jobs=-1)]: Done  34 tasks      | elapsed:    1.5s\n",
      "[Parallel(n_jobs=-1)]: Done 184 tasks      | elapsed:    7.3s\n",
      "[Parallel(n_jobs=-1)]: Done 434 tasks      | elapsed:   17.0s\n",
      "[Parallel(n_jobs=-1)]: Done 784 tasks      | elapsed:   30.8s\n",
      "[Parallel(n_jobs=-1)]: Done 1000 out of 1000 | elapsed:   39.1s finished\n",
      "[Parallel(n_jobs=8)]: Using backend ThreadingBackend with 8 concurrent workers.\n",
      "[Parallel(n_jobs=8)]: Done  34 tasks      | elapsed:    0.0s\n",
      "[Parallel(n_jobs=8)]: Done 184 tasks      | elapsed:    0.2s\n",
      "[Parallel(n_jobs=8)]: Done 434 tasks      | elapsed:    0.5s\n",
      "[Parallel(n_jobs=8)]: Done 784 tasks      | elapsed:    0.8s\n",
      "[Parallel(n_jobs=8)]: Done 1000 out of 1000 | elapsed:    1.1s finished\n"
     ]
    }
   ],
   "source": [
    "# base feature set with advanced and mean encoded features\n",
    "df_base_adv_mean = pd.read_csv('input/feature_sets/base_adv_mean.csv')\n",
    "\n",
    "# reading the test file\n",
    "features_to_drop = ['status_group','id']\n",
    "df_test_X = pd.read_csv('input/feature_sets/base_adv_mean_test.csv')\n",
    "\n",
    "\n",
    "# a little adjustment\n",
    "df_test_X.funder_mean_nf.fillna(0, inplace=True) \n",
    "df_test_X.funder_mean_fr.fillna(0, inplace=True) \n",
    "\n",
    "######################################################################\n",
    "###        RANDOM FOREST CLASSIFIER        ###########################\n",
    "######################################################################\n",
    "\n",
    "rf_balanced = RandomForestClassifier(n_jobs=-1, \n",
    "                                     verbose=1, \n",
    "                                     bootstrap=False, \n",
    "                                     max_depth=101,\n",
    "                                     min_samples_leaf=1,\n",
    "                                     min_samples_split=6,\n",
    "                                     n_estimators=1000\n",
    "                                    )\n",
    "\n",
    "\n",
    "\n",
    "X = df_base_adv_mean.drop(['status_group','id','functional needs repair','non functional'], axis=1)\n",
    "y = df_base_adv_mean['status_group'].values\n",
    "\n",
    "rf_balanced.fit(X,y)\n",
    "\n",
    "######################################################################\n",
    "\n",
    "\n",
    "# prediction\n",
    "rf_gs_best_mean_sub_1 = rf_balanced.predict(df_test_X.drop(features_to_drop, axis=1))\n",
    "\n",
    "# preparing the file\n",
    "df_test_X['status_group'] = rf_gs_best_mean_sub_1\n",
    "df_gs_best_mean_sub_2 = df_test_X[['id','status_group']]\n",
    "\n",
    "#saving the file\n",
    "df_gs_best_mean_sub_2.to_csv('submissions/test_sub_gs_param_weight.csv', index=False)\n",
    "del df_gs_best_mean_sub_2"
   ]
  },
  {
   "cell_type": "code",
   "execution_count": null,
   "metadata": {},
   "outputs": [],
   "source": []
  }
 ],
 "metadata": {
  "kernelspec": {
   "display_name": "Python 3",
   "language": "python",
   "name": "python3"
  },
  "language_info": {
   "codemirror_mode": {
    "name": "ipython",
    "version": 3
   },
   "file_extension": ".py",
   "mimetype": "text/x-python",
   "name": "python",
   "nbconvert_exporter": "python",
   "pygments_lexer": "ipython3",
   "version": "3.7.6"
  }
 },
 "nbformat": 4,
 "nbformat_minor": 4
}
