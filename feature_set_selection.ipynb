{
 "cells": [
  {
   "cell_type": "markdown",
   "metadata": {},
   "source": [
    "# Selecting the Best Feature Set\n",
    "\n",
    "- We are going to use the base/default RF model without optimization\n",
    "- Apply all the featuresets that were created during the analysis\n",
    "- Based on the Accuracy & Performance, we will select the best Featureset\n",
    "- The best Featureset will then be taken through variouse optimization setps to improve on the results"
   ]
  },
  {
   "cell_type": "code",
   "execution_count": 1,
   "metadata": {},
   "outputs": [],
   "source": [
    "import pandas as pd\n",
    "import numpy as np\n",
    "from sklearn.ensemble import RandomForestClassifier\n",
    "from sklearn.model_selection import train_test_split\n",
    "from sklearn.preprocessing import LabelEncoder \n",
    "import joblib\n",
    "\n",
    "from sklearn.metrics import confusion_matrix\n",
    "from sklearn.metrics import ConfusionMatrixDisplay\n",
    "from sklearn.metrics import classification_report\n",
    "\n",
    "from sklearn.metrics import plot_confusion_matrix\n",
    "\n",
    "import matplotlib.pyplot as plt\n",
    "from mlxtend.plotting import plot_decision_regions"
   ]
  },
  {
   "cell_type": "markdown",
   "metadata": {},
   "source": [
    "**reading all the feature sets**"
   ]
  },
  {
   "cell_type": "code",
   "execution_count": 2,
   "metadata": {},
   "outputs": [],
   "source": [
    "# base feature set\n",
    "df_base = pd.read_csv('input/feature_sets/base.csv')\n",
    "\n",
    "# base feature set with advanced features\n",
    "df_base_adv = pd.read_csv('input/feature_sets/base_adv.csv')\n",
    "\n",
    "# base feature set with dimensionality reduction\n",
    "df_base_filtered = pd.read_csv('input/feature_sets/base_filtered.csv')\n",
    "\n",
    "# base feature set with advance features and dimensionality reduction\n",
    "df_base_adv_filtered = pd.read_csv('input/feature_sets/base_adv_filtered.csv')\n",
    "\n",
    "# base feature set with mean features\n",
    "df_base_mean = pd.read_csv('input/feature_sets/base_mean.csv')\n",
    "\n",
    "# base feature set with advanced and mean encoded features\n",
    "df_base_adv_mean = pd.read_csv('input/feature_sets/base_adv_mean.csv')"
   ]
  },
  {
   "cell_type": "markdown",
   "metadata": {},
   "source": [
    "## 1. Base Feature Set"
   ]
  },
  {
   "cell_type": "code",
   "execution_count": 3,
   "metadata": {},
   "outputs": [],
   "source": [
    "X = df_base.drop(['status_group','id'], axis=1)\n",
    "y = df_base['status_group'].values\n",
    "X_train, X_test, y_train, y_test = train_test_split(X, y, test_size=0.31, random_state=42)"
   ]
  },
  {
   "cell_type": "code",
   "execution_count": 4,
   "metadata": {},
   "outputs": [
    {
     "name": "stdout",
     "output_type": "stream",
     "text": [
      "<class 'pandas.core.frame.DataFrame'>\n",
      "Int64Index: 40986 entries, 12010 to 56422\n",
      "Data columns (total 31 columns):\n",
      " #   Column                   Non-Null Count  Dtype  \n",
      "---  ------                   --------------  -----  \n",
      " 0   district_code            40986 non-null  int64  \n",
      " 1   basin                    40986 non-null  int64  \n",
      " 2   region                   40986 non-null  int64  \n",
      " 3   region_code              40986 non-null  int64  \n",
      " 4   public_meeting_label     40986 non-null  int64  \n",
      " 5   scheme_management_label  40986 non-null  int64  \n",
      " 6   permit_label             40986 non-null  int64  \n",
      " 7   extraction_type_group    40986 non-null  int64  \n",
      " 8   extraction_type_class    40986 non-null  int64  \n",
      " 9   extraction_type          40986 non-null  int64  \n",
      " 10  management               40986 non-null  int64  \n",
      " 11  management_group         40986 non-null  int64  \n",
      " 12  payment                  40986 non-null  int64  \n",
      " 13  payment_type             40986 non-null  int64  \n",
      " 14  water_quality            40986 non-null  int64  \n",
      " 15  quality_group            40986 non-null  int64  \n",
      " 16  quantity                 40986 non-null  int64  \n",
      " 17  source                   40986 non-null  int64  \n",
      " 18  source_class             40986 non-null  int64  \n",
      " 19  source_type              40986 non-null  int64  \n",
      " 20  waterpoint_type          40986 non-null  int64  \n",
      " 21  waterpoint_type_group    40986 non-null  int64  \n",
      " 22  population               40986 non-null  int64  \n",
      " 23  num_private              40986 non-null  int64  \n",
      " 24  amount_tsh               40986 non-null  int64  \n",
      " 25  gps_height               40986 non-null  int64  \n",
      " 26  construction_year        40986 non-null  int64  \n",
      " 27  funder                   40986 non-null  int64  \n",
      " 28  lga                      40986 non-null  int64  \n",
      " 29  longitude                40986 non-null  float64\n",
      " 30  latitude                 40986 non-null  float64\n",
      "dtypes: float64(2), int64(29)\n",
      "memory usage: 10.0 MB\n"
     ]
    }
   ],
   "source": [
    "X_train.info()"
   ]
  },
  {
   "cell_type": "markdown",
   "metadata": {},
   "source": [
    "**apply base model on RF**"
   ]
  },
  {
   "cell_type": "code",
   "execution_count": 5,
   "metadata": {},
   "outputs": [],
   "source": [
    "# get the rf object\n",
    "rf_base = RandomForestClassifier(n_estimators=101, n_jobs=-1)\n",
    "\n",
    "# fit the data\n",
    "rf_clf = rf_base.fit(X_train,y_train)\n",
    "\n",
    "# prediction\n",
    "rf_clf_pred = rf_base.predict(X_test)"
   ]
  },
  {
   "cell_type": "markdown",
   "metadata": {},
   "source": [
    "**confusion matrix**"
   ]
  },
  {
   "cell_type": "code",
   "execution_count": 6,
   "metadata": {},
   "outputs": [
    {
     "data": {
      "image/png": "[encoded data removed]",
      "text/plain": [
       "<Figure size 1368x792 with 2 Axes>"
      ]
     },
     "metadata": {
      "needs_background": "light"
     },
     "output_type": "display_data"
    }
   ],
   "source": [
    "# Generate confusion matrix\n",
    "fig, axes = plt.subplots(figsize=(19,11))\n",
    "\n",
    "matrix = plot_confusion_matrix(rf_clf, X_test, y_test,\n",
    "                                 cmap=plt.cm.Blues,\n",
    "                                 normalize='true',ax= axes)\n",
    "\n",
    "plt.title('Confusion Matrix')\n",
    "plt.show(matrix)\n",
    "plt.show()"
   ]
  },
  {
   "cell_type": "markdown",
   "metadata": {},
   "source": [
    "**classification report**"
   ]
  },
  {
   "cell_type": "code",
   "execution_count": 7,
   "metadata": {},
   "outputs": [
    {
     "name": "stdout",
     "output_type": "stream",
     "text": [
      "                         precision    recall  f1-score   support\n",
      "\n",
      "             functional       0.81      0.87      0.84     10052\n",
      "functional needs repair       0.48      0.37      0.42      1332\n",
      "         non functional       0.82      0.78      0.80      7030\n",
      "\n",
      "               accuracy                           0.80     18414\n",
      "              macro avg       0.71      0.67      0.69     18414\n",
      "           weighted avg       0.79      0.80      0.79     18414\n",
      "\n"
     ]
    }
   ],
   "source": [
    "print(classification_report(y_test, rf_clf_pred))"
   ]
  },
  {
   "cell_type": "markdown",
   "metadata": {},
   "source": [
    "## 2. Base Feature Set + Advanced Features"
   ]
  },
  {
   "cell_type": "code",
   "execution_count": 12,
   "metadata": {},
   "outputs": [],
   "source": [
    "# reading the values\n",
    "X = df_base_adv.drop(['status_group','id'], axis=1)\n",
    "y = df_base_adv['status_group'].values\n",
    "\n",
    "# split\n",
    "X_train, X_test, y_train, y_test = train_test_split(X, y, test_size=0.31, random_state=42)"
   ]
  },
  {
   "cell_type": "code",
   "execution_count": 13,
   "metadata": {},
   "outputs": [
    {
     "name": "stdout",
     "output_type": "stream",
     "text": [
      "<class 'pandas.core.frame.DataFrame'>\n",
      "Int64Index: 40986 entries, 12010 to 56422\n",
      "Data columns (total 38 columns):\n",
      " #   Column                   Non-Null Count  Dtype  \n",
      "---  ------                   --------------  -----  \n",
      " 0   region_perf              40986 non-null  int64  \n",
      " 1   source_type_perf         40986 non-null  int64  \n",
      " 2   amount_tsh_zero          40986 non-null  int64  \n",
      " 3   gps_gt_668               40986 non-null  int64  \n",
      " 4   cons_year_zero           40986 non-null  int64  \n",
      " 5   pump_age_group           40986 non-null  int64  \n",
      " 6   all_zeros                40986 non-null  int64  \n",
      " 7   district_code            40986 non-null  int64  \n",
      " 8   basin                    40986 non-null  int64  \n",
      " 9   region                   40986 non-null  int64  \n",
      " 10  region_code              40986 non-null  int64  \n",
      " 11  public_meeting_label     40986 non-null  int64  \n",
      " 12  scheme_management_label  40986 non-null  int64  \n",
      " 13  permit_label             40986 non-null  int64  \n",
      " 14  extraction_type_group    40986 non-null  int64  \n",
      " 15  extraction_type_class    40986 non-null  int64  \n",
      " 16  extraction_type          40986 non-null  int64  \n",
      " 17  management               40986 non-null  int64  \n",
      " 18  management_group         40986 non-null  int64  \n",
      " 19  payment                  40986 non-null  int64  \n",
      " 20  payment_type             40986 non-null  int64  \n",
      " 21  water_quality            40986 non-null  int64  \n",
      " 22  quality_group            40986 non-null  int64  \n",
      " 23  quantity                 40986 non-null  int64  \n",
      " 24  source                   40986 non-null  int64  \n",
      " 25  source_class             40986 non-null  int64  \n",
      " 26  source_type              40986 non-null  int64  \n",
      " 27  waterpoint_type          40986 non-null  int64  \n",
      " 28  waterpoint_type_group    40986 non-null  int64  \n",
      " 29  population               40986 non-null  int64  \n",
      " 30  num_private              40986 non-null  int64  \n",
      " 31  amount_tsh               40986 non-null  int64  \n",
      " 32  gps_height               40986 non-null  int64  \n",
      " 33  construction_year        40986 non-null  int64  \n",
      " 34  funder                   40986 non-null  int64  \n",
      " 35  lga                      40986 non-null  int64  \n",
      " 36  longitude                40986 non-null  float64\n",
      " 37  latitude                 40986 non-null  float64\n",
      "dtypes: float64(2), int64(36)\n",
      "memory usage: 12.2 MB\n"
     ]
    }
   ],
   "source": [
    "X_train.info()"
   ]
  },
  {
   "cell_type": "code",
   "execution_count": 9,
   "metadata": {},
   "outputs": [],
   "source": [
    "# fit the same base model\n",
    "rf_clf = rf_base.fit(X_train, y_train)\n",
    "\n",
    "# prediction\n",
    "rf_clf_pred = rf_base.predict(X_test)"
   ]
  },
  {
   "cell_type": "markdown",
   "metadata": {},
   "source": [
    "**confusion matrix**"
   ]
  },
  {
   "cell_type": "code",
   "execution_count": 10,
   "metadata": {},
   "outputs": [
    {
     "data": {
      "image/png": "[encoded data removed]",
      "text/plain": [
       "<Figure size 1368x792 with 2 Axes>"
      ]
     },
     "metadata": {
      "needs_background": "light"
     },
     "output_type": "display_data"
    }
   ],
   "source": [
    "# Generate confusion matrix\n",
    "fig, axes = plt.subplots(figsize=(19,11))\n",
    "\n",
    "matrix = plot_confusion_matrix(rf_clf, X_test, y_test,\n",
    "                                 cmap=plt.cm.Blues,\n",
    "                                 normalize='true',ax= axes)\n",
    "\n",
    "plt.title('Confusion Matrix')\n",
    "plt.show(matrix)\n",
    "plt.show()"
   ]
  },
  {
   "cell_type": "markdown",
   "metadata": {},
   "source": [
    "**classification report**"
   ]
  },
  {
   "cell_type": "code",
   "execution_count": 11,
   "metadata": {},
   "outputs": [
    {
     "name": "stdout",
     "output_type": "stream",
     "text": [
      "                         precision    recall  f1-score   support\n",
      "\n",
      "             functional       0.81      0.87      0.84     10052\n",
      "functional needs repair       0.48      0.37      0.42      1332\n",
      "         non functional       0.82      0.78      0.80      7030\n",
      "\n",
      "               accuracy                           0.80     18414\n",
      "              macro avg       0.71      0.67      0.69     18414\n",
      "           weighted avg       0.79      0.80      0.79     18414\n",
      "\n"
     ]
    }
   ],
   "source": [
    "print(classification_report(y_test, rf_clf_pred))"
   ]
  },
  {
   "cell_type": "markdown",
   "metadata": {},
   "source": [
    "## 3. Base Feature Set + Advanced Features + Filtered Attributes\n",
    "\n",
    "Filtered attributes are the ones that were not required based on some analysis"
   ]
  },
  {
   "cell_type": "code",
   "execution_count": 14,
   "metadata": {},
   "outputs": [],
   "source": [
    "X = df_base_adv_filtered.drop(['status_group','id','installer','scheme_name','quantity_group'], axis=1)\n",
    "y = df_base_adv_filtered['status_group'].values\n",
    "X_train, X_test, y_train, y_test = train_test_split(X, y, test_size=0.33, random_state=42)"
   ]
  },
  {
   "cell_type": "code",
   "execution_count": 15,
   "metadata": {},
   "outputs": [
    {
     "name": "stdout",
     "output_type": "stream",
     "text": [
      "<class 'pandas.core.frame.DataFrame'>\n",
      "Int64Index: 39798 entries, 107 to 56422\n",
      "Data columns (total 29 columns):\n",
      " #   Column                   Non-Null Count  Dtype  \n",
      "---  ------                   --------------  -----  \n",
      " 0   gps_height               39798 non-null  int64  \n",
      " 1   longitude                39798 non-null  float64\n",
      " 2   latitude                 39798 non-null  float64\n",
      " 3   basin                    39798 non-null  int64  \n",
      " 4   region_code              39798 non-null  int64  \n",
      " 5   district_code            39798 non-null  int64  \n",
      " 6   lga                      39798 non-null  int64  \n",
      " 7   construction_year        39798 non-null  int64  \n",
      " 8   extraction_type          39798 non-null  int64  \n",
      " 9   extraction_type_group    39798 non-null  int64  \n",
      " 10  management               39798 non-null  int64  \n",
      " 11  payment                  39798 non-null  int64  \n",
      " 12  water_quality            39798 non-null  int64  \n",
      " 13  quantity                 39798 non-null  int64  \n",
      " 14  source                   39798 non-null  int64  \n",
      " 15  source_type              39798 non-null  int64  \n",
      " 16  source_class             39798 non-null  int64  \n",
      " 17  waterpoint_type          39798 non-null  int64  \n",
      " 18  waterpoint_type_group    39798 non-null  int64  \n",
      " 19  public_meeting_label     39798 non-null  int64  \n",
      " 20  scheme_management_label  39798 non-null  int64  \n",
      " 21  permit_label             39798 non-null  int64  \n",
      " 22  amount_tsh_zero          39798 non-null  int64  \n",
      " 23  gps_gt_668               39798 non-null  int64  \n",
      " 24  cons_year_zero           39798 non-null  int64  \n",
      " 25  all_zeros                39798 non-null  int64  \n",
      " 26  pump_age_group           39798 non-null  int64  \n",
      " 27  source_type_perf         39798 non-null  int64  \n",
      " 28  region_perf              39798 non-null  int64  \n",
      "dtypes: float64(2), int64(27)\n",
      "memory usage: 9.1 MB\n"
     ]
    }
   ],
   "source": [
    "X_train.info()"
   ]
  },
  {
   "cell_type": "code",
   "execution_count": 16,
   "metadata": {},
   "outputs": [],
   "source": [
    "# fit the same base model\n",
    "rf_clf = rf_base.fit(X_train, y_train)\n",
    "\n",
    "# prediction\n",
    "rf_clf_pred = rf_base.predict(X_test)"
   ]
  },
  {
   "cell_type": "markdown",
   "metadata": {},
   "source": [
    "**confusion matrix**"
   ]
  },
  {
   "cell_type": "code",
   "execution_count": 17,
   "metadata": {},
   "outputs": [
    {
     "data": {
      "image/png": "[encoded data removed]",
      "text/plain": [
       "<Figure size 1368x792 with 2 Axes>"
      ]
     },
     "metadata": {
      "needs_background": "light"
     },
     "output_type": "display_data"
    }
   ],
   "source": [
    "# Generate confusion matrix\n",
    "fig, axes = plt.subplots(figsize=(19,11))\n",
    "\n",
    "matrix = plot_confusion_matrix(rf_clf, X_test, y_test,\n",
    "                                 cmap=plt.cm.Blues,\n",
    "                                 normalize='true',ax= axes)\n",
    "\n",
    "plt.title('Confusion Matrix')\n",
    "plt.show(matrix)\n",
    "plt.show()"
   ]
  },
  {
   "cell_type": "markdown",
   "metadata": {},
   "source": [
    "**classification report**"
   ]
  },
  {
   "cell_type": "code",
   "execution_count": 18,
   "metadata": {},
   "outputs": [
    {
     "name": "stdout",
     "output_type": "stream",
     "text": [
      "                         precision    recall  f1-score   support\n",
      "\n",
      "             functional       0.81      0.85      0.83     10719\n",
      "functional needs repair       0.45      0.36      0.40      1425\n",
      "         non functional       0.81      0.77      0.79      7458\n",
      "\n",
      "               accuracy                           0.79     19602\n",
      "              macro avg       0.69      0.66      0.67     19602\n",
      "           weighted avg       0.78      0.79      0.78     19602\n",
      "\n"
     ]
    }
   ],
   "source": [
    "print(classification_report(y_test, rf_clf_pred))"
   ]
  },
  {
   "cell_type": "markdown",
   "metadata": {},
   "source": [
    "## 4. Base Feature Set + Advanced Features + Mean Attributes\n",
    "\n",
    "Attributes that were generated through the mean encoding were added in this feature set"
   ]
  },
  {
   "cell_type": "code",
   "execution_count": 21,
   "metadata": {},
   "outputs": [],
   "source": [
    "X = df_base_adv_mean.drop(['status_group','id','functional needs repair','non functional'], axis=1)\n",
    "y = df_base_adv_mean['status_group'].values\n",
    "X_train, X_test, y_train, y_test = train_test_split(X, y, test_size=0.31, random_state=42)"
   ]
  },
  {
   "cell_type": "code",
   "execution_count": 22,
   "metadata": {},
   "outputs": [
    {
     "name": "stdout",
     "output_type": "stream",
     "text": [
      "<class 'pandas.core.frame.DataFrame'>\n",
      "Int64Index: 40986 entries, 12010 to 56422\n",
      "Data columns (total 54 columns):\n",
      " #   Column                           Non-Null Count  Dtype  \n",
      "---  ------                           --------------  -----  \n",
      " 0   region_perf                      40986 non-null  int64  \n",
      " 1   source_type_perf                 40986 non-null  int64  \n",
      " 2   amount_tsh_zero                  40986 non-null  int64  \n",
      " 3   gps_gt_668                       40986 non-null  int64  \n",
      " 4   cons_year_zero                   40986 non-null  int64  \n",
      " 5   pump_age_group                   40986 non-null  int64  \n",
      " 6   all_zeros                        40986 non-null  int64  \n",
      " 7   district_code                    40986 non-null  int64  \n",
      " 8   basin                            40986 non-null  int64  \n",
      " 9   region                           40986 non-null  int64  \n",
      " 10  region_code                      40986 non-null  int64  \n",
      " 11  public_meeting_label             40986 non-null  int64  \n",
      " 12  scheme_management_label          40986 non-null  int64  \n",
      " 13  permit_label                     40986 non-null  int64  \n",
      " 14  extraction_type_group            40986 non-null  int64  \n",
      " 15  extraction_type_class            40986 non-null  int64  \n",
      " 16  extraction_type                  40986 non-null  int64  \n",
      " 17  management                       40986 non-null  int64  \n",
      " 18  management_group                 40986 non-null  int64  \n",
      " 19  payment                          40986 non-null  int64  \n",
      " 20  payment_type                     40986 non-null  int64  \n",
      " 21  water_quality                    40986 non-null  int64  \n",
      " 22  quality_group                    40986 non-null  int64  \n",
      " 23  quantity                         40986 non-null  int64  \n",
      " 24  source                           40986 non-null  int64  \n",
      " 25  source_class                     40986 non-null  int64  \n",
      " 26  source_type                      40986 non-null  int64  \n",
      " 27  waterpoint_type                  40986 non-null  int64  \n",
      " 28  waterpoint_type_group            40986 non-null  int64  \n",
      " 29  population                       40986 non-null  int64  \n",
      " 30  num_private                      40986 non-null  int64  \n",
      " 31  amount_tsh                       40986 non-null  int64  \n",
      " 32  gps_height                       40986 non-null  int64  \n",
      " 33  construction_year                40986 non-null  int64  \n",
      " 34  funder                           40986 non-null  int64  \n",
      " 35  lga                              40986 non-null  int64  \n",
      " 36  longitude                        40986 non-null  float64\n",
      " 37  latitude                         40986 non-null  float64\n",
      " 38  region_mean_nf                   40986 non-null  float64\n",
      " 39  region_mean_fr                   40986 non-null  float64\n",
      " 40  scheme_management_label_mean_nf  40986 non-null  float64\n",
      " 41  scheme_management_label_mean_fr  40986 non-null  float64\n",
      " 42  extraction_type_group_mean_nf    40986 non-null  float64\n",
      " 43  extraction_type_group_mean_fr    40986 non-null  float64\n",
      " 44  management_mean_nf               40986 non-null  float64\n",
      " 45  management_mean_fr               40986 non-null  float64\n",
      " 46  payment_mean_nf                  40986 non-null  float64\n",
      " 47  payment_mean_fr                  40986 non-null  float64\n",
      " 48  quantity_mean_nf                 40986 non-null  float64\n",
      " 49  quantity_mean_fr                 40986 non-null  float64\n",
      " 50  source_mean_nf                   40986 non-null  float64\n",
      " 51  source_mean_fr                   40986 non-null  float64\n",
      " 52  funder_mean_nf                   40986 non-null  float64\n",
      " 53  funder_mean_fr                   40986 non-null  float64\n",
      "dtypes: float64(18), int64(36)\n",
      "memory usage: 17.2 MB\n"
     ]
    }
   ],
   "source": [
    "X_train.info()"
   ]
  },
  {
   "cell_type": "code",
   "execution_count": 23,
   "metadata": {},
   "outputs": [],
   "source": [
    "# fit the same base model\n",
    "rf_clf = rf_base.fit(X_train, y_train)\n",
    "\n",
    "# prediction\n",
    "rf_clf_pred = rf_base.predict(X_test)"
   ]
  },
  {
   "cell_type": "markdown",
   "metadata": {},
   "source": [
    "**confusion matrix**"
   ]
  },
  {
   "cell_type": "code",
   "execution_count": 24,
   "metadata": {},
   "outputs": [
    {
     "data": {
      "image/png": "[encoded data removed]",
      "text/plain": [
       "<Figure size 1368x792 with 2 Axes>"
      ]
     },
     "metadata": {
      "needs_background": "light"
     },
     "output_type": "display_data"
    }
   ],
   "source": [
    "# Generate confusion matrix\n",
    "fig, axes = plt.subplots(figsize=(19,11))\n",
    "\n",
    "matrix = plot_confusion_matrix(rf_clf, X_test, y_test,\n",
    "                                 cmap=plt.cm.Blues,\n",
    "                                 normalize='true',ax= axes)\n",
    "\n",
    "plt.title('Confusion Matrix')\n",
    "plt.show(matrix)\n",
    "plt.show()"
   ]
  },
  {
   "cell_type": "markdown",
   "metadata": {},
   "source": [
    "**classification report**"
   ]
  },
  {
   "cell_type": "code",
   "execution_count": 25,
   "metadata": {},
   "outputs": [
    {
     "name": "stdout",
     "output_type": "stream",
     "text": [
      "                         precision    recall  f1-score   support\n",
      "\n",
      "             functional       0.82      0.86      0.84     10052\n",
      "functional needs repair       0.48      0.37      0.42      1332\n",
      "         non functional       0.82      0.79      0.80      7030\n",
      "\n",
      "               accuracy                           0.80     18414\n",
      "              macro avg       0.71      0.67      0.69     18414\n",
      "           weighted avg       0.79      0.80      0.80     18414\n",
      "\n"
     ]
    }
   ],
   "source": [
    "print(classification_report(y_test, rf_clf_pred))"
   ]
  },
  {
   "cell_type": "markdown",
   "metadata": {},
   "source": [
    "# Result\n",
    "\n",
    "- What can be seen here is that the last feature set, that is composed of base, advance & mean encoded features is bringing slight improvement in the F1 score that that is the balance between precision and recall. \n",
    "- I believe, for now, we should concentrate on the optimization for this featureset with different optimization schemes."
   ]
  },
  {
   "cell_type": "code",
   "execution_count": null,
   "metadata": {},
   "outputs": [],
   "source": []
  }
 ],
 "metadata": {
  "kernelspec": {
   "display_name": "Python 3",
   "language": "python",
   "name": "python3"
  },
  "language_info": {
   "codemirror_mode": {
    "name": "ipython",
    "version": 3
   },
   "file_extension": ".py",
   "mimetype": "text/x-python",
   "name": "python",
   "nbconvert_exporter": "python",
   "pygments_lexer": "ipython3",
   "version": "3.7.6"
  }
 },
 "nbformat": 4,
 "nbformat_minor": 4
}
